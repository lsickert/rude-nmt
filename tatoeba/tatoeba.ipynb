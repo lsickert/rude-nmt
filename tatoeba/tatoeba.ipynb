{
 "cells": [
  {
   "cell_type": "markdown",
   "metadata": {},
   "source": [
    "# Exploring the German-Korean Tatoeba dataset\n",
    "[Github](https://github.com/Helsinki-NLP/Tatoeba-Challenge)\n",
    "\n",
    "[Huggingface](https://huggingface.co/datasets/Helsinki-NLP/tatoeba_mt)"
   ]
  },
  {
   "cell_type": "code",
   "execution_count": null,
   "metadata": {},
   "outputs": [],
   "source": [
    "from datasets import load_dataset"
   ]
  },
  {
   "cell_type": "code",
   "execution_count": null,
   "metadata": {},
   "outputs": [],
   "source": [
    "dataset = load_dataset(\"tatoeba\",lang1=\"de\",lang2=\"ko\")"
   ]
  },
  {
   "cell_type": "code",
   "execution_count": null,
   "metadata": {},
   "outputs": [],
   "source": [
    "dataset"
   ]
  }
 ],
 "metadata": {
  "kernelspec": {
   "display_name": "Python 3.9.13 ('.venv': poetry)",
   "language": "python",
   "name": "python3"
  },
  "language_info": {
   "codemirror_mode": {
    "name": "ipython",
    "version": 3
   },
   "file_extension": ".py",
   "mimetype": "text/x-python",
   "name": "python",
   "nbconvert_exporter": "python",
   "pygments_lexer": "ipython3",
   "version": "3.9.13"
  },
  "orig_nbformat": 4,
  "vscode": {
   "interpreter": {
    "hash": "8aa738b7f49203a4690ae40fb6042b9f1c8bd886a67a93ef66115ccc70c638f2"
   }
  }
 },
 "nbformat": 4,
 "nbformat_minor": 2
}
