{
 "cells": [
  {
   "cell_type": "markdown",
   "metadata": {},
   "source": [
    "# Contrastive Analysis"
   ]
  },
  {
   "cell_type": "code",
   "execution_count": 1,
   "metadata": {
    "tags": []
   },
   "outputs": [],
   "source": [
    "from datasets import load_from_disk\n",
    "import inseq\n",
    "from inseq.data.aggregator import AggregatorPipeline, SubwordAggregator, SequenceAttributionAggregator\n",
    "from iwslt import preprocess\n",
    "import matplotlib.pyplot as plt\n",
    "from rude_nmt import attribute"
   ]
  },
  {
   "cell_type": "markdown",
   "metadata": {},
   "source": [
    "## Load Dataset"
   ]
  },
  {
   "cell_type": "code",
   "execution_count": 2,
   "metadata": {
    "tags": []
   },
   "outputs": [],
   "source": [
    "ds = load_from_disk(\"../data/iwslt_labelled\")"
   ]
  },
  {
   "cell_type": "code",
   "execution_count": 4,
   "metadata": {
    "tags": []
   },
   "outputs": [
    {
     "name": "stdout",
     "output_type": "stream",
     "text": [
      "Dataset({\n",
      "    features: ['informal_ko', 'informal_de', 'formal_ko', 'formal_de', 'en', 'category', 'upos_tags_informal_ko', 'pos_tags_informal_ko', 'ws_tokens_informal_ko', 'sent_ids_informal_ko', 'form_map_informal_ko', 'upos_tags_informal_de', 'pos_tags_informal_de', 'ws_tokens_informal_de', 'sent_ids_informal_de', 'form_map_informal_de', 'upos_tags_formal_ko', 'pos_tags_formal_ko', 'ws_tokens_formal_ko', 'sent_ids_formal_ko', 'form_map_formal_ko', 'upos_tags_formal_de', 'pos_tags_formal_de', 'ws_tokens_formal_de', 'sent_ids_formal_de', 'form_map_formal_de'],\n",
      "    num_rows: 200\n",
      "})\n"
     ]
    }
   ],
   "source": [
    "print(ds)"
   ]
  },
  {
   "cell_type": "code",
   "execution_count": 3,
   "metadata": {
    "tags": []
   },
   "outputs": [
    {
     "name": "stderr",
     "output_type": "stream",
     "text": [
      "Loading facebook/mbart-large-50-many-to-many-mmt with input_x_gradient method...\n"
     ]
    }
   ],
   "source": [
    "model_de_ko = inseq.load_model(\n",
    "    \"facebook/mbart-large-50-many-to-many-mmt\",\n",
    "    \"input_x_gradient\",\n",
    "    tokenizer_kwargs={\"src_lang\": \"de_DE\", \"tgt_lang\": \"ko_KR\"},\n",
    ")"
   ]
  },
  {
   "cell_type": "code",
   "execution_count": 5,
   "metadata": {
    "tags": []
   },
   "outputs": [
    {
     "name": "stderr",
     "output_type": "stream",
     "text": [
      "Loading facebook/mbart-large-50-many-to-many-mmt with input_x_gradient method...\n"
     ]
    }
   ],
   "source": [
    "model_ko_de = inseq.load_model(\n",
    "    \"facebook/mbart-large-50-many-to-many-mmt\",\n",
    "    \"input_x_gradient\",\n",
    "    tokenizer_kwargs={\"src_lang\": \"ko_KR\", \"tgt_lang\": \"de_DE\"},\n",
    ")\n"
   ]
  },
  {
   "cell_type": "code",
   "execution_count": 6,
   "metadata": {
    "tags": []
   },
   "outputs": [],
   "source": [
    "def filter_sentences(example: dict, model: inseq.AttributionModel, formal_col: str, informal_col: str) -> dict:\n",
    "    formal = model.encode(example[formal_col], as_targets=True)\n",
    "    informal = model.encode(example[informal_col], as_targets=True)\n",
    "\n",
    "    if len(formal.input_tokens[0]) == len(informal.input_tokens[0]):\n",
    "        for i in range(len(formal.input_tokens[0])):\n",
    "            if formal.input_tokens[0][i] != informal.input_tokens[0][i]:\n",
    "                return True\n",
    "\n",
    "    return False\n"
   ]
  },
  {
   "cell_type": "code",
   "execution_count": 7,
   "metadata": {
    "tags": []
   },
   "outputs": [
    {
     "name": "stderr",
     "output_type": "stream",
     "text": [
      "Loading cached processed dataset at /Users/lsickert/Repositories/rude-nmt/data/iwslt_labelled/cache-bb2499859efe1c11.arrow\n"
     ]
    },
    {
     "name": "stdout",
     "output_type": "stream",
     "text": [
      "Dataset({\n",
      "    features: ['informal_ko', 'informal_de', 'formal_ko', 'formal_de', 'en', 'category', 'upos_tags_informal_ko', 'pos_tags_informal_ko', 'ws_tokens_informal_ko', 'sent_ids_informal_ko', 'form_map_informal_ko', 'upos_tags_informal_de', 'pos_tags_informal_de', 'ws_tokens_informal_de', 'sent_ids_informal_de', 'form_map_informal_de', 'upos_tags_formal_ko', 'pos_tags_formal_ko', 'ws_tokens_formal_ko', 'sent_ids_formal_ko', 'form_map_formal_ko', 'upos_tags_formal_de', 'pos_tags_formal_de', 'ws_tokens_formal_de', 'sent_ids_formal_de', 'form_map_formal_de'],\n",
      "    num_rows: 57\n",
      "})\n"
     ]
    }
   ],
   "source": [
    "de_ko_matching = ds.filter(filter_sentences, fn_kwargs={\"model\":model_de_ko, \"formal_col\":\"formal_ko\", \"informal_col\":\"informal_ko\"})\n",
    "print(de_ko_matching)"
   ]
  },
  {
   "cell_type": "code",
   "execution_count": 8,
   "metadata": {
    "tags": []
   },
   "outputs": [
    {
     "name": "stderr",
     "output_type": "stream",
     "text": [
      "Loading cached processed dataset at /Users/lsickert/Repositories/rude-nmt/data/iwslt_labelled/cache-b28deb952a89eb67.arrow\n"
     ]
    },
    {
     "name": "stdout",
     "output_type": "stream",
     "text": [
      "Dataset({\n",
      "    features: ['informal_ko', 'informal_de', 'formal_ko', 'formal_de', 'en', 'category', 'upos_tags_informal_ko', 'pos_tags_informal_ko', 'ws_tokens_informal_ko', 'sent_ids_informal_ko', 'form_map_informal_ko', 'upos_tags_informal_de', 'pos_tags_informal_de', 'ws_tokens_informal_de', 'sent_ids_informal_de', 'form_map_informal_de', 'upos_tags_formal_ko', 'pos_tags_formal_ko', 'ws_tokens_formal_ko', 'sent_ids_formal_ko', 'form_map_formal_ko', 'upos_tags_formal_de', 'pos_tags_formal_de', 'ws_tokens_formal_de', 'sent_ids_formal_de', 'form_map_formal_de'],\n",
      "    num_rows: 72\n",
      "})\n"
     ]
    }
   ],
   "source": [
    "ko_de_matching = ds.filter(filter_sentences, fn_kwargs={\"model\":model_ko_de, \"formal_col\":\"formal_de\", \"informal_col\":\"informal_de\"})\n",
    "print(ko_de_matching)"
   ]
  },
  {
   "cell_type": "code",
   "execution_count": 15,
   "metadata": {
    "tags": []
   },
   "outputs": [
    {
     "name": "stdout",
     "output_type": "stream",
     "text": [
      "Die Mädchen waren hübsch und, er, die Mädchen kamen zuerst,und sagen ich kenne Sie aus Ihren Facebookbildern, als ob ich es wirklich nicht gewusst hätte, Ja, das ist es.\n",
      "Haben Sie auch einen Film aus diesem Jahr oder den Sie bis jetzt gesehen haben, den Sie mögen?\n",
      "Auf jeden Fall habe ich sie in die Tasche gepackt und mitgebracht. Sie sind alle neu. Lassen Sie sie einfach dort liegen.\n",
      "Ja, aber das ist Ihre Interpretation des Filmes. Es gibt bestimmt auch Menschen, die sagen, dass das Unsinn ist. Mehr noch, Menschen, die glauben, dass es Aliens gibt.\n",
      "Denken Sie, dass die Schule während des Erwachsenwerdens ein Teil der Familienwerte wird?\n",
      "Es ist nicht Ihre Entscheidung, wo Sie geboren werden, in welche Familie Sie geboren werden möchten ist die Frage, die ich Ihnen vorhin gestellt habe\n",
      "Es bedeutet, dass Sie aus irgendeinem Grund nicht genug Speicherplatz auf Ihrem Computer haben.\n",
      "Ah, weiß Ihre Mutter, dass Sie diese Party veranstalten?\n",
      "Was ist mit Tanten, Onkeln und Cousins? Haben Ihre Eltern keine Geschwister? Wie groß ist die Erntedank-Feier?\n",
      "Ich glaube, ich stimme Ihnen fast zu. Es zu tun ist eigentlich nicht schwer, denn, wenn Sie nicht reich sind\n",
      "Haben Sie diese Sorge? Dass Sie in Zukunft ein smartes Gerät haben werden und Ihre Kinder sagen werden 'Ich möchte ein Blank bei Amazon bestellen' und sie dann sagen so oder so\n",
      "Wir waren erst seit ein paar Monaten zusammen und ich bin in eine andere Stadt gezogen. Und ich war wie 'Hey, ich mache eine Asienreise und ich kann versuchen für Sie auch zu reservieren. Wollen wir zusammen gehen?'\n",
      "Es hört sich an wie, Moment mal. Wie alt ist Ihre Tochter?\n",
      "Warum ist es so teuer? Ich weiß es auch nicht, Ihre Tante Amy mag Spitzenqualität, also ich bin nicht überrascht, dass es vielleicht teuer ist, habe ich gesagt.\n",
      "Nun, es gibt viele davon. Tatsächlich können Sie sie für Ihre Füße anpassen.\n",
      "Und sie haben einen Markt, so wie Ihre Solution\n",
      "Also, ich habe diese E-Mail an Ihre E-Mailadresse weitergeleitet. Ich habe alles, was ich gerade abgesagt habe, weitergeleitet und werde nur einen Teil hier hineintun. Hier ist Peking.\n",
      "Und die Art und Weise sich selbst auszudrücken, wenn man sich die Beispiele, die Sie gegeben haben, ansieht, klingt es noch sarkastischer.\n",
      "Welchen Teil meiner Arbeit ich mag? Was mögen Sie an Makeup und am Makeup machen?\n",
      "Können Sie mir die Nummer geben, mit der Sie uns letztes Mal angerufen haben?\n",
      "Das ist verrückt, Sie haben\n",
      "Ist das Ihre Lieblingspizza?\n",
      "Was? Was ist mit Ihrem Arm passiert? Ich wollte nichts sagen. Ich weiß nicht, wie ich das erklären soll, ich würde sagen, dass ich mich geschnitten habe.\n",
      "Es ist genug in dem hausgemachten Essen enthalten, dass Sie sich nur damit immer 10 mal besser fühlen werden.\n",
      "Ich wollte mit Jeans gehen aber konnte nicht viele verkaufen. Was ist Ihre Meinung über den Einzelhandel?\n",
      "Was ist das Härteste daran, von Ihrer Familie getrennt zu sein?\n",
      "Das ist so lustig. Mögen Sie es während der Arbeit oft Aufmerksamkeit zu bekommen oder stört es Sie Aufmerksamkeit während Ihrer persönlichen Zeit zu bekommen?\n",
      "Im Badezimmer können Sie sich waschen wegen Öl, Gerüchen und so weiter. Es roch wirklich für jeden gut. Das ist einfach Hygiene, mir gefiel es.\n",
      "Wie sind Ihre Eltern so, sind sie in Ordnung? Sie könnten Sie stören\n",
      "Und noch Universtät für Ihre Kinder. Es gibt vieles, was man nicht tun sollte, es ist ein Buch, das man kurz lesen kann und das auch junge Leute einfach lesen können\n",
      "Ich kann es nicht glauben. Ehrlich gesagt, ich denke, dass es so ist, für Menschen, die es tun müssen oder wenn sie, wie Sie, ein professioneller Redner sind\n",
      "Wenn Sie vorhaben in einem Diner zu essen, dann ist Denny's nicht so gut.\n",
      "Habe ich Sie mitgenommen? Oder habe ich Ethan mitgenommen? So, wie Essen, es ist wie wenn man selbst Essen hat, wie nach Gewicht berechnetes Essen\n",
      "Haben Sie jemals Dinge gesagt wie Wow, Ich weiß alles, Sie haben sich getroffen, Sie kennen sich alle gegenseitig\n",
      "Mir geht es sehr gut. Ich hatte einen wirklich interessanten Morgen. Ich werde Ihnen davon erzählen, während Sie Ihre Nachrichten und so erledigen.\n",
      "Ich denke nicht, dass es wirklich falsch ist. Aber wenn ich gesagt hätte, dass es schlecht für die Wirtschaft ist. Würde das Ihre Meinung irgendwie ändern? Ich meine\n",
      "Sie bekommt an Zeiten wie Sonntag oder Nachts nach einer bestimmten Zeit keine Nachrichten mehr. Es ist, als ob Sie sich selbst Grenzen setzen\n",
      "Natürlich, können Sie mir bitte auch die Postleitzahl und den Straßennamen geben?\n",
      "Wir haben meine Routine. Was ist Ihre Routine?\n",
      "Und Sie können wirklich all diese schwierigen Dateien auf Ihrem Handy laden?\n",
      "Sie können nichts eintippen, aber mit unserem Programm können Sie eine vorgegebene Beschreibung auswählen. Also, Sie können sagen, dass das Kind abgelenkt war oder ohne zu arbeiten Pause gemacht hat\n",
      "Familie passt immer auf, wenn Sie Hilfe brauchen, wenn Sie Geld brauchen, die Familie sind die Ersten, die Ihnen hilft\n",
      "Das ist nicht wahr. Englisch ist Ihre Muttersprache.\n",
      "Mit der Zeit wird es immer mehr so sein. Erinnern Sie sich noch daran, als Sie begonnen haben selbst Dinge online einzukaufen?\n",
      "Es ist alles für Öl und dann können Sie nicht. Es ist alles Öl und dann wird es zu Plastik.\n",
      "Ich habe Ihnen die Gerüchte erzählt, die ich gehört habe, Ihre Familie ist nicht so groß, aber das ist kein Problem\n",
      "Ein Fremder von der Straße wie ein normaler Joe, das ist zu verschieden. Ich meine, die Menschen sind nicht an Ihrer Seite.\n",
      "Kaufen Sie bei Amazon?\n",
      "Und auch einfach in Ihrem Leben. Was sind Ihre Lieblingsfilme?\n",
      "Natürlich, sie werden immer da sein, wenn Sie Hilfe brauchen.\n",
      "Ich habe 100 Farben in Ihrer Stadt.\n",
      "Ich lasse es Sie wissen, wenn wir zu dem Ort gehen können, wo Sie alle Ihre Familienmitglieder sehen können.\n",
      "Was ist mit Ihrer Arbeit, wird dort aktiv recycelt? Nein, ich denke die meisten Restaurants in New York City kümmern sich nicht wirklich um Recycling, sie werfen einfach alles in den normalen Müll.\n",
      "Sehr gut, die Zahlung wird bearbeitet. Bitte warten Sie kurz, bis ich Ihre Transaktion abgeschlossen habe.\n",
      "Benutzen Ihre Eltern einen DVD-Spieler?\n",
      "Also, wusste Ihre Freundin, was bei diesen Treffen passiert, oder wusste sie es nicht?\n",
      "Ok, wir haben eine Minute übrig. Wir können es Ihnen dort beibringen. Und vielleicht können wir\n",
      "Weil wir Cousins sind und eine kleine Familie sind, kenne ich Ihren Cousin, der jetzt in Longmont lebt.\n",
      "Ich werde Ihren Mann auch ruinieren. Welchen Nutzen hat es?\n",
      "Was ist mit den meisten Ihrer Freunde? Haben die meisten Ihrer Freunde außer Ken einen Job oder sind sie arbeitslos?\n",
      "Ihre Famile gibt den ältesten Personen die schlechtesten Schlafmöglichkeiten, aber meine Familie gibt diese den jüngsten Personen.\n",
      "Ich glaube ich versuche den Preis zu senken. Ich sehe nicht viele Coupons von Airbnb. Ich meine, sie geben Ihnen nicht das Geld\n",
      "Sie können nicht, bekanntermaßen, es ist nicht als ob der Inhalt Ihrer Dateien genug ist, nein, das nicht. Okay, erst die Familie oder erst die Arbeit\n",
      "Hier steht, dass ich über die beste Restaurantkette des Landes sprechen soll. Was sind Ihre Lieblingsrestaurantketten?\n",
      "Die Reise hat Spaß gemacht. Was ist Ihre beste Erinnerung daran?\n",
      "Ja, jetzt akzeptieren sie die Zahlung mit Ihrem PayPal. Sie akzeptieren es? Ich bin mir sicher.\n",
      "Warum haben Sie das getan? Warum haben Sie im Restaurant das bestellt? Und sie lebte in einem Sorority-Haus, wo sie für sie Essen machen\n",
      "Sie können das alles auf Freelancer dot com tun. Ich habe dort ein Konto.\n",
      "Haben Sie noch nie eine Party zu Hause gefeiert?\n",
      "All die Zeit, die Sie von Ihrer Familie gelernt haben.\n",
      "Darf ich die Rechnung auf die Karte, die in Ihrem Konto hinterlegt ist, buchen?\n",
      "Alles, was Sie brauchen, wie eine Familie, haben Sie. Deshalb stelle ich die Familie vor die Arbeit, weil, ich denke, die Familie ist immer an Ihrer Seite, die Arbeit ist immer das Gleiche und man findet immer etwas.\n"
     ]
    }
   ],
   "source": [
    "for example in ko_de_matching:\n",
    "    print(example[\"formal_de\"])"
   ]
  },
  {
   "cell_type": "markdown",
   "metadata": {},
   "source": [
    "## Perform Attributions"
   ]
  },
  {
   "cell_type": "markdown",
   "metadata": {},
   "source": [
    "### Single Samples"
   ]
  },
  {
   "cell_type": "code",
   "execution_count": 9,
   "metadata": {
    "tags": []
   },
   "outputs": [
    {
     "name": "stdout",
     "output_type": "stream",
     "text": [
      "huggingface/tokenizers: The current process just got forked, after parallelism has already been used. Disabling parallelism to avoid deadlocks...\n",
      "To disable this warning, you can either:\n",
      "\t- Avoid using `tokenizers` before the fork if possible\n",
      "\t- Explicitly set the environment variable TOKENIZERS_PARALLELISM=(true | false)\n"
     ]
    },
    {
     "name": "stderr",
     "output_type": "stream",
     "text": [
      "Attributing with input_x_gradient...: 100%|████████████████████████████████████████████████████████████████████████████████████████████████████████████████████████████████████████| 12/12 [00:14<00:00,  1.28s/it]\n",
      "/Users/lsickert/Repositories/rude-nmt/.venv/lib/python3.10/site-packages/inseq/data/attribution.py:275: UserWarning: The use of `x.T` on tensors of dimension other than 2 to reverse their shape is deprecated and it will throw an error in a future release. Consider `x.mT` to transpose batches of matrices or `x.permute(*torch.arange(x.ndim - 1, -1, -1))` to reverse the dimensions of a tensor. (Triggered internally at /Users/runner/work/pytorch/pytorch/pytorch/aten/src/ATen/native/TensorShape.cpp:3281.)\n",
      "  step_scores = self.step_scores[step_fn_id].T.unsqueeze(1)\n"
     ]
    },
    {
     "data": {
      "text/html": [
       "<br/><b>0th instance:</b><br/>\n",
       "<html>\n",
       "<div id=\"mogwlfosfizqlndfipff_viz_container\">\n",
       "    <div id=\"mogwlfosfizqlndfipff_content\" style=\"padding:15px;border-style:solid;margin:5px;\">\n",
       "        <div id = \"mogwlfosfizqlndfipff_saliency_plot_container\" class=\"mogwlfosfizqlndfipff_viz_container\" style=\"display:block\">\n",
       "            \n",
       "<div id=\"tounaiaywvhbwycmbttd_saliency_plot\" class=\"tounaiaywvhbwycmbttd_viz_content\">\n",
       "    <div style=\"margin:5px;font-family:sans-serif;font-weight:bold;\">\n",
       "        <span style=\"font-size: 20px;\">Source Saliency Heatmap</span>\n",
       "        <br>\n",
       "        x: Generated tokens, y: Attributed tokens\n",
       "    </div>\n",
       "    \n",
       "<table border=\"1\" cellpadding=\"5\" cellspacing=\"5\"\n",
       "    style=\"overflow-x:scroll;display:block;\">\n",
       "    <tr><th></th>\n",
       "<th>ko_KR</th><th>▁제가</th><th>▁하는</th><th>▁말이</th><th>▁무슨</th><th>▁뜻</th><th>인지</th><th>▁알</th><th>죠</th><th>?</th><th>&lt;/s&gt;</th></tr><tr><th>de_DE</th><th style=\"background:rgba(0.0, 0.0, 0.0, 0.0)\"></th><th style=\"background:rgba(255.0, 13.0, 87.0, 0.06195286195286207)\">0.014</th><th style=\"background:rgba(230.2941176470614, 26.505882352939775, 102.59215686274348, 0.0)\">0.0</th><th style=\"background:rgba(255.0, 13.0, 87.0, 0.030421865715983164)\">0.007</th><th style=\"background:rgba(230.2941176470614, 26.505882352939775, 102.59215686274348, 0.0)\">0.0</th><th style=\"background:rgba(230.2941176470614, 26.505882352939775, 102.59215686274348, 0.0)\">0.001</th><th style=\"background:rgba(230.2941176470614, 26.505882352939775, 102.59215686274348, 0.0)\">0.001</th><th style=\"background:rgba(230.2941176470614, 26.505882352939775, 102.59215686274348, 0.0)\">0.0</th><th style=\"background:rgba(255.0, 13.0, 87.0, 0.07771836007130124)\">0.016</th><th style=\"background:rgba(255.0, 13.0, 87.0, 0.36149732620320857)\">0.07</th><th style=\"background:rgba(230.2941176470614, 26.505882352939775, 102.59215686274348, 0.0)\">0.001</th></tr><tr><th>▁Wissen</th><th style=\"background:rgba(0.0, 0.0, 0.0, 0.0)\"></th><th style=\"background:rgba(255.0, 13.0, 87.0, 0.1171321053673995)\">0.023</th><th style=\"background:rgba(230.2941176470614, 26.505882352939775, 102.59215686274348, 0.0)\">0.0</th><th style=\"background:rgba(255.0, 13.0, 87.0, 0.03830461477520289)\">0.008</th><th style=\"background:rgba(230.2941176470614, 26.505882352939775, 102.59215686274348, 0.0)\">0.0</th><th style=\"background:rgba(255.0, 13.0, 87.0, 0.00677361853832443)\">0.002</th><th style=\"background:rgba(230.2941176470614, 26.505882352939775, 102.59215686274348, 0.0)\">0.001</th><th style=\"background:rgba(230.2941176470614, 26.505882352939775, 102.59215686274348, 0.0)\">0.001</th><th style=\"background:rgba(255.0, 13.0, 87.0, 0.23537334125569415)\">0.046</th><th style=\"background:rgba(255.0, 13.0, 87.0, 1.0)\">0.194</th><th style=\"background:rgba(230.2941176470614, 26.505882352939775, 102.59215686274348, 0.0)\">0.001</th></tr><tr><th>▁Sie</th><th style=\"background:rgba(0.0, 0.0, 0.0, 0.0)\"></th><th style=\"background:rgba(255.0, 13.0, 87.0, 0.04618736383442265)\">0.01</th><th style=\"background:rgba(230.2941176470614, 26.505882352939775, 102.59215686274348, 0.0)\">0.0</th><th style=\"background:rgba(255.0, 13.0, 87.0, 0.014656367597544035)\">0.004</th><th style=\"background:rgba(230.2941176470614, 26.505882352939775, 102.59215686274348, 0.0)\">0.0</th><th style=\"background:rgba(230.2941176470614, 26.505882352939775, 102.59215686274348, 0.0)\">0.001</th><th style=\"background:rgba(230.2941176470614, 26.505882352939775, 102.59215686274348, 0.0)\">0.0</th><th style=\"background:rgba(230.2941176470614, 26.505882352939775, 102.59215686274348, 0.0)\">0.0</th><th style=\"background:rgba(255.0, 13.0, 87.0, 0.10136660724896006)\">0.02</th><th style=\"background:rgba(255.0, 13.0, 87.0, 0.5349178055060405)\">0.103</th><th style=\"background:rgba(230.2941176470614, 26.505882352939775, 102.59215686274348, 0.0)\">0.0</th></tr><tr><th>,</th><th style=\"background:rgba(0.0, 0.0, 0.0, 0.0)\"></th><th style=\"background:rgba(255.0, 13.0, 87.0, 0.030421865715983164)\">0.007</th><th style=\"background:rgba(230.2941176470614, 26.505882352939775, 102.59215686274348, 0.0)\">0.0</th><th style=\"background:rgba(255.0, 13.0, 87.0, 0.014656367597544035)\">0.004</th><th style=\"background:rgba(230.2941176470614, 26.505882352939775, 102.59215686274348, 0.0)\">0.0</th><th style=\"background:rgba(230.2941176470614, 26.505882352939775, 102.59215686274348, 0.0)\">0.001</th><th style=\"background:rgba(230.2941176470614, 26.505882352939775, 102.59215686274348, 0.0)\">0.0</th><th style=\"background:rgba(230.2941176470614, 26.505882352939775, 102.59215686274348, 0.0)\">0.0</th><th style=\"background:rgba(255.0, 13.0, 87.0, 0.04618736383442265)\">0.01</th><th style=\"background:rgba(255.0, 13.0, 87.0, 0.219607843137255)\">0.044</th><th style=\"background:rgba(230.2941176470614, 26.505882352939775, 102.59215686274348, 0.0)\">0.0</th></tr><tr><th>▁was</th><th style=\"background:rgba(0.0, 0.0, 0.0, 0.0)\"></th><th style=\"background:rgba(255.0, 13.0, 87.0, 0.04618736383442265)\">0.01</th><th style=\"background:rgba(230.2941176470614, 26.505882352939775, 102.59215686274348, 0.0)\">0.0</th><th style=\"background:rgba(255.0, 13.0, 87.0, 0.014656367597544035)\">0.004</th><th style=\"background:rgba(230.2941176470614, 26.505882352939775, 102.59215686274348, 0.0)\">0.0</th><th style=\"background:rgba(230.2941176470614, 26.505882352939775, 102.59215686274348, 0.0)\">0.001</th><th style=\"background:rgba(230.2941176470614, 26.505882352939775, 102.59215686274348, 0.0)\">0.0</th><th style=\"background:rgba(230.2941176470614, 26.505882352939775, 102.59215686274348, 0.0)\">0.0</th><th style=\"background:rgba(255.0, 13.0, 87.0, 0.03830461477520289)\">0.009</th><th style=\"background:rgba(255.0, 13.0, 87.0, 0.306318082788671)\">0.06</th><th style=\"background:rgba(230.2941176470614, 26.505882352939775, 102.59215686274348, 0.0)\">0.0</th></tr><tr><th>▁ich</th><th style=\"background:rgba(0.0, 0.0, 0.0, 0.0)\"></th><th style=\"background:rgba(255.0, 13.0, 87.0, 0.06983561101208159)\">0.015</th><th style=\"background:rgba(230.2941176470614, 26.505882352939775, 102.59215686274348, 0.0)\">0.0</th><th style=\"background:rgba(255.0, 13.0, 87.0, 0.030421865715983164)\">0.007</th><th style=\"background:rgba(230.2941176470614, 26.505882352939775, 102.59215686274348, 0.0)\">0.0</th><th style=\"background:rgba(230.2941176470614, 26.505882352939775, 102.59215686274348, 0.0)\">0.001</th><th style=\"background:rgba(230.2941176470614, 26.505882352939775, 102.59215686274348, 0.0)\">0.0</th><th style=\"background:rgba(230.2941176470614, 26.505882352939775, 102.59215686274348, 0.0)\">0.0</th><th style=\"background:rgba(255.0, 13.0, 87.0, 0.04618736383442265)\">0.009</th><th style=\"background:rgba(255.0, 13.0, 87.0, 0.3142008318478907)\">0.061</th><th style=\"background:rgba(230.2941176470614, 26.505882352939775, 102.59215686274348, 0.0)\">0.0</th></tr><tr><th>▁meine</th><th style=\"background:rgba(0.0, 0.0, 0.0, 0.0)\"></th><th style=\"background:rgba(255.0, 13.0, 87.0, 0.1171321053673995)\">0.024</th><th style=\"background:rgba(230.2941176470614, 26.505882352939775, 102.59215686274348, 0.0)\">0.0</th><th style=\"background:rgba(255.0, 13.0, 87.0, 0.08560110913052081)\">0.018</th><th style=\"background:rgba(230.2941176470614, 26.505882352939775, 102.59215686274348, 0.0)\">0.0</th><th style=\"background:rgba(255.0, 13.0, 87.0, 0.014656367597544035)\">0.004</th><th style=\"background:rgba(230.2941176470614, 26.505882352939775, 102.59215686274348, 0.0)\">0.001</th><th style=\"background:rgba(230.2941176470614, 26.505882352939775, 102.59215686274348, 0.0)\">0.001</th><th style=\"background:rgba(255.0, 13.0, 87.0, 0.09348385818974037)\">0.018</th><th style=\"background:rgba(255.0, 13.0, 87.0, 0.49550406020994264)\">0.096</th><th style=\"background:rgba(230.2941176470614, 26.505882352939775, 102.59215686274348, 0.0)\">0.001</th></tr><tr><th>?</th><th style=\"background:rgba(0.0, 0.0, 0.0, 0.0)\"></th><th style=\"background:rgba(255.0, 13.0, 87.0, 0.04618736383442265)\">0.01</th><th style=\"background:rgba(230.2941176470614, 26.505882352939775, 102.59215686274348, 0.0)\">0.0</th><th style=\"background:rgba(255.0, 13.0, 87.0, 0.02253911665676371)\">0.006</th><th style=\"background:rgba(230.2941176470614, 26.505882352939775, 102.59215686274348, 0.0)\">0.0</th><th style=\"background:rgba(230.2941176470614, 26.505882352939775, 102.59215686274348, 0.0)\">0.001</th><th style=\"background:rgba(230.2941176470614, 26.505882352939775, 102.59215686274348, 0.0)\">0.001</th><th style=\"background:rgba(230.2941176470614, 26.505882352939775, 102.59215686274348, 0.0)\">0.0</th><th style=\"background:rgba(255.0, 13.0, 87.0, 0.06195286195286207)\">0.013</th><th style=\"background:rgba(255.0, 13.0, 87.0, 0.48762131115072294)\">0.095</th><th style=\"background:rgba(230.2941176470614, 26.505882352939775, 102.59215686274348, 0.0)\">0.001</th></tr><tr><th>&lt;/s&gt;</th><th style=\"background:rgba(0.0, 0.0, 0.0, 0.0)\"></th><th style=\"background:rgba(255.0, 13.0, 87.0, 0.03830461477520289)\">0.009</th><th style=\"background:rgba(230.2941176470614, 26.505882352939775, 102.59215686274348, 0.0)\">0.0</th><th style=\"background:rgba(255.0, 13.0, 87.0, 0.02253911665676371)\">0.005</th><th style=\"background:rgba(230.2941176470614, 26.505882352939775, 102.59215686274348, 0.0)\">0.0</th><th style=\"background:rgba(230.2941176470614, 26.505882352939775, 102.59215686274348, 0.0)\">0.001</th><th style=\"background:rgba(230.2941176470614, 26.505882352939775, 102.59215686274348, 0.0)\">0.0</th><th style=\"background:rgba(230.2941176470614, 26.505882352939775, 102.59215686274348, 0.0)\">0.0</th><th style=\"background:rgba(255.0, 13.0, 87.0, 0.04618736383442265)\">0.01</th><th style=\"background:rgba(255.0, 13.0, 87.0, 0.2590215884333532)\">0.051</th><th style=\"background:rgba(230.2941176470614, 26.505882352939775, 102.59215686274348, 0.0)\">0.0</th></tr><tr style=\"outline: thin solid\"><th><b>contrast_prob_diff</b></th><th>0.0</th><th>0.121</th><th>0.002</th><th>0.063</th><th>0.0</th><th>0.013</th><th>0.005</th><th>0.003</th><th>0.152</th><th><b>0.776</b></th><th>0.005</th><tr style=\"outline: thin solid\"><th><b>probability</b></th><th>0.0</th><th>0.124</th><th>0.025</th><th>0.2</th><th>0.052</th><th>0.142</th><th>0.164</th><th>0.046</th><th>0.171</th><th><b>0.859</b></th><th><b>0.887</b></th></table>\n",
       "</div>\n",
       "\n",
       "        </div>\n",
       "    </div>\n",
       "</div>\n",
       "</html>\n"
      ],
      "text/plain": [
       "<IPython.core.display.HTML object>"
      ]
     },
     "metadata": {},
     "output_type": "display_data"
    }
   ],
   "source": [
    "# Pre-compute ids and attention map for the contrastive target\n",
    "contrast = model_de_ko.encode(de_ko_matching[\"informal_ko\"][56], as_targets=True)\n",
    "\n",
    "out = model_de_ko.attribute(\n",
    "    input_texts=de_ko_matching[\"formal_de\"][56],\n",
    "    generated_texts=de_ko_matching[\"formal_ko\"][56],\n",
    "    attributed_fn=\"contrast_prob_diff\",\n",
    "    step_scores=[\"contrast_prob_diff\", \"probability\"],\n",
    "    contrast_ids=contrast.input_ids,\n",
    "    contrast_attention_mask=contrast.attention_mask,\n",
    ")\n",
    "\n",
    "out.weight_attributions(\"contrast_prob_diff\")\n",
    "out.show()"
   ]
  },
  {
   "cell_type": "code",
   "execution_count": 10,
   "metadata": {
    "tags": []
   },
   "outputs": [
    {
     "data": {
      "text/html": [
       "<br/><b>0th instance:</b><br/>\n",
       "<html>\n",
       "<div id=\"srzckiwgelkhgylwobzv_viz_container\">\n",
       "    <div id=\"srzckiwgelkhgylwobzv_content\" style=\"padding:15px;border-style:solid;margin:5px;\">\n",
       "        <div id = \"srzckiwgelkhgylwobzv_saliency_plot_container\" class=\"srzckiwgelkhgylwobzv_viz_container\" style=\"display:block\">\n",
       "            \n",
       "<div id=\"bqfxwbgrfdyomuuecllm_saliency_plot\" class=\"bqfxwbgrfdyomuuecllm_viz_content\">\n",
       "    <div style=\"margin:5px;font-family:sans-serif;font-weight:bold;\">\n",
       "        <span style=\"font-size: 20px;\">Source Saliency Heatmap</span>\n",
       "        <br>\n",
       "        x: Generated tokens, y: Attributed tokens\n",
       "    </div>\n",
       "    \n",
       "<table border=\"1\" cellpadding=\"5\" cellspacing=\"5\"\n",
       "    style=\"overflow-x:scroll;display:block;\">\n",
       "    <tr><th></th>\n",
       "<th>ko_KR</th><th>▁제가</th><th>▁하는</th><th>▁말이</th><th>▁무슨</th><th>▁뜻인지</th><th>▁알죠?</th><th>&lt;/s&gt;</th></tr><tr><th>de_DE</th><th style=\"background:rgba(0.0, 0.0, 0.0, 0.0)\"></th><th style=\"background:rgba(255.0, 13.0, 87.0, 0.06195286195286207)\">0.014</th><th style=\"background:rgba(230.2941176470614, 26.505882352939775, 102.59215686274348, 0.0)\">0.0</th><th style=\"background:rgba(255.0, 13.0, 87.0, 0.030421865715983164)\">0.007</th><th style=\"background:rgba(230.2941176470614, 26.505882352939775, 102.59215686274348, 0.0)\">0.0</th><th style=\"background:rgba(230.2941176470614, 26.505882352939775, 102.59215686274348, 0.0)\">0.001</th><th style=\"background:rgba(255.0, 13.0, 87.0, 0.36149732620320857)\">0.07</th><th style=\"background:rgba(230.2941176470614, 26.505882352939775, 102.59215686274348, 0.0)\">0.001</th></tr><tr><th>▁Wissen</th><th style=\"background:rgba(0.0, 0.0, 0.0, 0.0)\"></th><th style=\"background:rgba(255.0, 13.0, 87.0, 0.1171321053673995)\">0.023</th><th style=\"background:rgba(230.2941176470614, 26.505882352939775, 102.59215686274348, 0.0)\">0.0</th><th style=\"background:rgba(255.0, 13.0, 87.0, 0.03830461477520289)\">0.008</th><th style=\"background:rgba(230.2941176470614, 26.505882352939775, 102.59215686274348, 0.0)\">0.0</th><th style=\"background:rgba(255.0, 13.0, 87.0, 0.00677361853832443)\">0.002</th><th style=\"background:rgba(255.0, 13.0, 87.0, 1.0)\">0.194</th><th style=\"background:rgba(230.2941176470614, 26.505882352939775, 102.59215686274348, 0.0)\">0.001</th></tr><tr><th>▁Sie,</th><th style=\"background:rgba(0.0, 0.0, 0.0, 0.0)\"></th><th style=\"background:rgba(255.0, 13.0, 87.0, 0.04618736383442265)\">0.01</th><th style=\"background:rgba(230.2941176470614, 26.505882352939775, 102.59215686274348, 0.0)\">0.0</th><th style=\"background:rgba(255.0, 13.0, 87.0, 0.014656367597544035)\">0.004</th><th style=\"background:rgba(230.2941176470614, 26.505882352939775, 102.59215686274348, 0.0)\">0.0</th><th style=\"background:rgba(230.2941176470614, 26.505882352939775, 102.59215686274348, 0.0)\">0.001</th><th style=\"background:rgba(255.0, 13.0, 87.0, 0.5349178055060405)\">0.103</th><th style=\"background:rgba(230.2941176470614, 26.505882352939775, 102.59215686274348, 0.0)\">0.0</th></tr><tr><th>▁was</th><th style=\"background:rgba(0.0, 0.0, 0.0, 0.0)\"></th><th style=\"background:rgba(255.0, 13.0, 87.0, 0.04618736383442265)\">0.01</th><th style=\"background:rgba(230.2941176470614, 26.505882352939775, 102.59215686274348, 0.0)\">0.0</th><th style=\"background:rgba(255.0, 13.0, 87.0, 0.014656367597544035)\">0.004</th><th style=\"background:rgba(230.2941176470614, 26.505882352939775, 102.59215686274348, 0.0)\">0.0</th><th style=\"background:rgba(230.2941176470614, 26.505882352939775, 102.59215686274348, 0.0)\">0.001</th><th style=\"background:rgba(255.0, 13.0, 87.0, 0.306318082788671)\">0.06</th><th style=\"background:rgba(230.2941176470614, 26.505882352939775, 102.59215686274348, 0.0)\">0.0</th></tr><tr><th>▁ich</th><th style=\"background:rgba(0.0, 0.0, 0.0, 0.0)\"></th><th style=\"background:rgba(255.0, 13.0, 87.0, 0.06983561101208159)\">0.015</th><th style=\"background:rgba(230.2941176470614, 26.505882352939775, 102.59215686274348, 0.0)\">0.0</th><th style=\"background:rgba(255.0, 13.0, 87.0, 0.030421865715983164)\">0.007</th><th style=\"background:rgba(230.2941176470614, 26.505882352939775, 102.59215686274348, 0.0)\">0.0</th><th style=\"background:rgba(230.2941176470614, 26.505882352939775, 102.59215686274348, 0.0)\">0.001</th><th style=\"background:rgba(255.0, 13.0, 87.0, 0.3142008318478907)\">0.061</th><th style=\"background:rgba(230.2941176470614, 26.505882352939775, 102.59215686274348, 0.0)\">0.0</th></tr><tr><th>▁meine?</th><th style=\"background:rgba(0.0, 0.0, 0.0, 0.0)\"></th><th style=\"background:rgba(255.0, 13.0, 87.0, 0.1171321053673995)\">0.024</th><th style=\"background:rgba(230.2941176470614, 26.505882352939775, 102.59215686274348, 0.0)\">0.0</th><th style=\"background:rgba(255.0, 13.0, 87.0, 0.08560110913052081)\">0.018</th><th style=\"background:rgba(230.2941176470614, 26.505882352939775, 102.59215686274348, 0.0)\">0.0</th><th style=\"background:rgba(255.0, 13.0, 87.0, 0.014656367597544035)\">0.004</th><th style=\"background:rgba(255.0, 13.0, 87.0, 0.49550406020994264)\">0.096</th><th style=\"background:rgba(230.2941176470614, 26.505882352939775, 102.59215686274348, 0.0)\">0.001</th></tr><tr><th>&lt;/s&gt;</th><th style=\"background:rgba(0.0, 0.0, 0.0, 0.0)\"></th><th style=\"background:rgba(255.0, 13.0, 87.0, 0.03830461477520289)\">0.009</th><th style=\"background:rgba(230.2941176470614, 26.505882352939775, 102.59215686274348, 0.0)\">0.0</th><th style=\"background:rgba(255.0, 13.0, 87.0, 0.02253911665676371)\">0.005</th><th style=\"background:rgba(230.2941176470614, 26.505882352939775, 102.59215686274348, 0.0)\">0.0</th><th style=\"background:rgba(230.2941176470614, 26.505882352939775, 102.59215686274348, 0.0)\">0.001</th><th style=\"background:rgba(255.0, 13.0, 87.0, 0.2590215884333532)\">0.051</th><th style=\"background:rgba(230.2941176470614, 26.505882352939775, 102.59215686274348, 0.0)\">0.0</th></tr><tr style=\"outline: thin solid\"><th><b>contrast_prob_diff</b></th><th>0.0</th><th>0.121</th><th>0.002</th><th>0.063</th><th>0.0</th><th>0.0</th><th>0.0</th><th>0.005</th><tr style=\"outline: thin solid\"><th><b>probability</b></th><th>0.0</th><th>0.124</th><th>0.025</th><th>0.2</th><th>0.052</th><th>0.023</th><th>0.007</th><th><b>0.887</b></th></table>\n",
       "</div>\n",
       "\n",
       "        </div>\n",
       "    </div>\n",
       "</div>\n",
       "</html>\n"
      ],
      "text/plain": [
       "<IPython.core.display.HTML object>"
      ]
     },
     "metadata": {},
     "output_type": "display_data"
    }
   ],
   "source": [
    "out.show(aggregator=SubwordAggregator)"
   ]
  },
  {
   "cell_type": "code",
   "execution_count": 9,
   "metadata": {
    "tags": []
   },
   "outputs": [
    {
     "name": "stdout",
     "output_type": "stream",
     "text": [
      "huggingface/tokenizers: The current process just got forked, after parallelism has already been used. Disabling parallelism to avoid deadlocks...\n",
      "To disable this warning, you can either:\n",
      "\t- Avoid using `tokenizers` before the fork if possible\n",
      "\t- Explicitly set the environment variable TOKENIZERS_PARALLELISM=(true | false)\n"
     ]
    },
    {
     "name": "stderr",
     "output_type": "stream",
     "text": [
      "Attributing with input_x_gradient...: 100%|████████████████████████████████████████████████████████████████████████████████████████████████████████████████████████████████████████| 10/10 [00:12<00:00,  1.38s/it]\n",
      "/Users/lsickert/Repositories/rude-nmt/.venv/lib/python3.10/site-packages/inseq/data/attribution.py:275: UserWarning: The use of `x.T` on tensors of dimension other than 2 to reverse their shape is deprecated and it will throw an error in a future release. Consider `x.mT` to transpose batches of matrices or `x.permute(*torch.arange(x.ndim - 1, -1, -1))` to reverse the dimensions of a tensor. (Triggered internally at /Users/runner/work/pytorch/pytorch/pytorch/aten/src/ATen/native/TensorShape.cpp:3281.)\n",
      "  step_scores = self.step_scores[step_fn_id].T.unsqueeze(1)\n"
     ]
    },
    {
     "data": {
      "text/html": [
       "<br/><b>0th instance:</b><br/>\n",
       "<html>\n",
       "<div id=\"mogwlfosfizqlndfipff_viz_container\">\n",
       "    <div id=\"mogwlfosfizqlndfipff_content\" style=\"padding:15px;border-style:solid;margin:5px;\">\n",
       "        <div id = \"mogwlfosfizqlndfipff_saliency_plot_container\" class=\"mogwlfosfizqlndfipff_viz_container\" style=\"display:block\">\n",
       "            \n",
       "<div id=\"tounaiaywvhbwycmbttd_saliency_plot\" class=\"tounaiaywvhbwycmbttd_viz_content\">\n",
       "    <div style=\"margin:5px;font-family:sans-serif;font-weight:bold;\">\n",
       "        <span style=\"font-size: 20px;\">Source Saliency Heatmap</span>\n",
       "        <br>\n",
       "        x: Generated tokens, y: Attributed tokens\n",
       "    </div>\n",
       "    \n",
       "<table border=\"1\" cellpadding=\"5\" cellspacing=\"5\"\n",
       "    style=\"overflow-x:scroll;display:block;\">\n",
       "    <tr><th></th>\n",
       "<th>de_DE</th><th>▁Ist</th><th>▁das</th><th>▁Ihre</th><th>▁Lieblings</th><th>pi</th><th>zza</th><th>?</th><th>&lt;/s&gt;</th></tr><tr><th>ko_KR</th><th style=\"background:rgba(0.0, 0.0, 0.0, 0.0)\"></th><th style=\"background:rgba(0.0, 0.0, 0.0, 0.0)\"></th><th style=\"background:rgba(0.0, 0.0, 0.0, 0.0)\"></th><th style=\"background:rgba(255.0, 13.0, 87.0, 0.06983561101208159)\">0.001</th><th style=\"background:rgba(255.0, 13.0, 87.0, 0.1880768469003763)\">0.002</th><th style=\"background:rgba(54.70588235294111, 122.49411764705886, 213.40784313725496, 0.0)\">-0.0</th><th style=\"background:rgba(54.70588235294111, 122.49411764705886, 213.40784313725496, 0.0)\">-0.0</th><th style=\"background:rgba(255.0, 13.0, 87.0, 0.00677361853832443)\">0.0</th><th style=\"background:rgba(54.70588235294111, 122.49411764705886, 213.40784313725496, 0.0)\">-0.0</th></tr><tr><th>▁그</th><th style=\"background:rgba(0.0, 0.0, 0.0, 0.0)\"></th><th style=\"background:rgba(0.0, 0.0, 0.0, 0.0)\"></th><th style=\"background:rgba(0.0, 0.0, 0.0, 0.0)\"></th><th style=\"background:rgba(255.0, 13.0, 87.0, 0.03830461477520289)\">0.001</th><th style=\"background:rgba(255.0, 13.0, 87.0, 0.1171321053673995)\">0.001</th><th style=\"background:rgba(54.70588235294111, 122.49411764705886, 213.40784313725496, 0.0)\">-0.0</th><th style=\"background:rgba(54.70588235294111, 122.49411764705886, 213.40784313725496, 0.0)\">-0.0</th><th style=\"background:rgba(255.0, 13.0, 87.0, 0.00677361853832443)\">0.0</th><th style=\"background:rgba(54.70588235294111, 122.49411764705886, 213.40784313725496, 0.0)\">-0.0</th></tr><tr><th>게</th><th style=\"background:rgba(0.0, 0.0, 0.0, 0.0)\"></th><th style=\"background:rgba(0.0, 0.0, 0.0, 0.0)\"></th><th style=\"background:rgba(0.0, 0.0, 0.0, 0.0)\"></th><th style=\"background:rgba(255.0, 13.0, 87.0, 0.04618736383442265)\">0.001</th><th style=\"background:rgba(255.0, 13.0, 87.0, 0.13289760348583876)\">0.002</th><th style=\"background:rgba(54.70588235294111, 122.49411764705886, 213.40784313725496, 0.0)\">-0.0</th><th style=\"background:rgba(54.70588235294111, 122.49411764705886, 213.40784313725496, 0.0)\">-0.0</th><th style=\"background:rgba(255.0, 13.0, 87.0, 0.00677361853832443)\">0.0</th><th style=\"background:rgba(54.70588235294111, 122.49411764705886, 213.40784313725496, 0.0)\">-0.0</th></tr><tr><th>▁</th><th style=\"background:rgba(0.0, 0.0, 0.0, 0.0)\"></th><th style=\"background:rgba(0.0, 0.0, 0.0, 0.0)\"></th><th style=\"background:rgba(0.0, 0.0, 0.0, 0.0)\"></th><th style=\"background:rgba(255.0, 13.0, 87.0, 0.03830461477520289)\">0.001</th><th style=\"background:rgba(255.0, 13.0, 87.0, 0.07771836007130124)\">0.001</th><th style=\"background:rgba(54.70588235294111, 122.49411764705886, 213.40784313725496, 0.0)\">-0.0</th><th style=\"background:rgba(54.70588235294111, 122.49411764705886, 213.40784313725496, 0.0)\">-0.0</th><th style=\"background:rgba(230.2941176470614, 26.505882352939775, 102.59215686274348, 0.0)\">0.0</th><th style=\"background:rgba(54.70588235294111, 122.49411764705886, 213.40784313725496, 0.0)\">-0.0</th></tr><tr><th>님이</th><th style=\"background:rgba(0.0, 0.0, 0.0, 0.0)\"></th><th style=\"background:rgba(0.0, 0.0, 0.0, 0.0)\"></th><th style=\"background:rgba(0.0, 0.0, 0.0, 0.0)\"></th><th style=\"background:rgba(255.0, 13.0, 87.0, 0.5585660526836996)\">0.007</th><th style=\"background:rgba(255.0, 13.0, 87.0, 1.0)\">0.013</th><th style=\"background:rgba(30.0, 136.0, 229.0, 0.014656367597544028)\">-0.0</th><th style=\"background:rgba(30.0, 136.0, 229.0, 0.014656367597544028)\">-0.0</th><th style=\"background:rgba(255.0, 13.0, 87.0, 0.04618736383442265)\">0.001</th><th style=\"background:rgba(54.70588235294111, 122.49411764705886, 213.40784313725496, 0.0)\">-0.0</th></tr><tr><th>▁제일</th><th style=\"background:rgba(0.0, 0.0, 0.0, 0.0)\"></th><th style=\"background:rgba(0.0, 0.0, 0.0, 0.0)\"></th><th style=\"background:rgba(0.0, 0.0, 0.0, 0.0)\"></th><th style=\"background:rgba(255.0, 13.0, 87.0, 0.1171321053673995)\">0.002</th><th style=\"background:rgba(255.0, 13.0, 87.0, 0.3536145771439889)\">0.004</th><th style=\"background:rgba(54.70588235294111, 122.49411764705886, 213.40784313725496, 0.0)\">-0.0</th><th style=\"background:rgba(54.70588235294111, 122.49411764705886, 213.40784313725496, 0.0)\">-0.0</th><th style=\"background:rgba(255.0, 13.0, 87.0, 0.00677361853832443)\">0.0</th><th style=\"background:rgba(54.70588235294111, 122.49411764705886, 213.40784313725496, 0.0)\">-0.0</th></tr><tr><th>▁좋아</th><th style=\"background:rgba(0.0, 0.0, 0.0, 0.0)\"></th><th style=\"background:rgba(0.0, 0.0, 0.0, 0.0)\"></th><th style=\"background:rgba(0.0, 0.0, 0.0, 0.0)\"></th><th style=\"background:rgba(255.0, 13.0, 87.0, 0.09348385818974037)\">0.001</th><th style=\"background:rgba(255.0, 13.0, 87.0, 0.2747870865517925)\">0.003</th><th style=\"background:rgba(54.70588235294111, 122.49411764705886, 213.40784313725496, 0.0)\">-0.0</th><th style=\"background:rgba(54.70588235294111, 122.49411764705886, 213.40784313725496, 0.0)\">-0.0</th><th style=\"background:rgba(255.0, 13.0, 87.0, 0.00677361853832443)\">0.0</th><th style=\"background:rgba(54.70588235294111, 122.49411764705886, 213.40784313725496, 0.0)\">-0.0</th></tr><tr><th>하시는</th><th style=\"background:rgba(0.0, 0.0, 0.0, 0.0)\"></th><th style=\"background:rgba(0.0, 0.0, 0.0, 0.0)\"></th><th style=\"background:rgba(0.0, 0.0, 0.0, 0.0)\"></th><th style=\"background:rgba(255.0, 13.0, 87.0, 0.12501485442661908)\">0.002</th><th style=\"background:rgba(255.0, 13.0, 87.0, 0.3299663299663301)\">0.004</th><th style=\"background:rgba(54.70588235294111, 122.49411764705886, 213.40784313725496, 0.0)\">-0.0</th><th style=\"background:rgba(30.0, 136.0, 229.0, 0.006773618538324436)\">-0.0</th><th style=\"background:rgba(255.0, 13.0, 87.0, 0.02253911665676371)\">0.0</th><th style=\"background:rgba(54.70588235294111, 122.49411764705886, 213.40784313725496, 0.0)\">-0.0</th></tr><tr><th>▁피</th><th style=\"background:rgba(0.0, 0.0, 0.0, 0.0)\"></th><th style=\"background:rgba(0.0, 0.0, 0.0, 0.0)\"></th><th style=\"background:rgba(0.0, 0.0, 0.0, 0.0)\"></th><th style=\"background:rgba(255.0, 13.0, 87.0, 0.29055258467023165)\">0.004</th><th style=\"background:rgba(255.0, 13.0, 87.0, 0.48762131115072294)\">0.006</th><th style=\"background:rgba(30.0, 136.0, 229.0, 0.014656367597544028)\">-0.0</th><th style=\"background:rgba(30.0, 136.0, 229.0, 0.03042186571598325)\">-0.0</th><th style=\"background:rgba(255.0, 13.0, 87.0, 0.03830461477520289)\">0.001</th><th style=\"background:rgba(54.70588235294111, 122.49411764705886, 213.40784313725496, 0.0)\">-0.0</th></tr><tr><th>자</th><th style=\"background:rgba(0.0, 0.0, 0.0, 0.0)\"></th><th style=\"background:rgba(0.0, 0.0, 0.0, 0.0)\"></th><th style=\"background:rgba(0.0, 0.0, 0.0, 0.0)\"></th><th style=\"background:rgba(255.0, 13.0, 87.0, 0.20384234501881549)\">0.003</th><th style=\"background:rgba(255.0, 13.0, 87.0, 0.3536145771439889)\">0.004</th><th style=\"background:rgba(30.0, 136.0, 229.0, 0.006773618538324436)\">-0.0</th><th style=\"background:rgba(30.0, 136.0, 229.0, 0.03042186571598325)\">-0.0</th><th style=\"background:rgba(255.0, 13.0, 87.0, 0.03830461477520289)\">0.0</th><th style=\"background:rgba(54.70588235294111, 122.49411764705886, 213.40784313725496, 0.0)\">-0.0</th></tr><tr><th>예</th><th style=\"background:rgba(0.0, 0.0, 0.0, 0.0)\"></th><th style=\"background:rgba(0.0, 0.0, 0.0, 0.0)\"></th><th style=\"background:rgba(0.0, 0.0, 0.0, 0.0)\"></th><th style=\"background:rgba(255.0, 13.0, 87.0, 0.07771836007130124)\">0.001</th><th style=\"background:rgba(255.0, 13.0, 87.0, 0.22749059219647458)\">0.003</th><th style=\"background:rgba(54.70588235294111, 122.49411764705886, 213.40784313725496, 0.0)\">-0.0</th><th style=\"background:rgba(30.0, 136.0, 229.0, 0.006773618538324436)\">-0.0</th><th style=\"background:rgba(255.0, 13.0, 87.0, 0.014656367597544035)\">0.0</th><th style=\"background:rgba(54.70588235294111, 122.49411764705886, 213.40784313725496, 0.0)\">-0.0</th></tr><tr><th>요</th><th style=\"background:rgba(0.0, 0.0, 0.0, 0.0)\"></th><th style=\"background:rgba(0.0, 0.0, 0.0, 0.0)\"></th><th style=\"background:rgba(0.0, 0.0, 0.0, 0.0)\"></th><th style=\"background:rgba(255.0, 13.0, 87.0, 0.04618736383442265)\">0.001</th><th style=\"background:rgba(255.0, 13.0, 87.0, 0.13289760348583876)\">0.002</th><th style=\"background:rgba(54.70588235294111, 122.49411764705886, 213.40784313725496, 0.0)\">-0.0</th><th style=\"background:rgba(54.70588235294111, 122.49411764705886, 213.40784313725496, 0.0)\">-0.0</th><th style=\"background:rgba(255.0, 13.0, 87.0, 0.014656367597544035)\">0.0</th><th style=\"background:rgba(54.70588235294111, 122.49411764705886, 213.40784313725496, 0.0)\">-0.0</th></tr><tr><th>?</th><th style=\"background:rgba(0.0, 0.0, 0.0, 0.0)\"></th><th style=\"background:rgba(0.0, 0.0, 0.0, 0.0)\"></th><th style=\"background:rgba(0.0, 0.0, 0.0, 0.0)\"></th><th style=\"background:rgba(255.0, 13.0, 87.0, 0.030421865715983164)\">0.0</th><th style=\"background:rgba(255.0, 13.0, 87.0, 0.13289760348583876)\">0.002</th><th style=\"background:rgba(54.70588235294111, 122.49411764705886, 213.40784313725496, 0.0)\">-0.0</th><th style=\"background:rgba(54.70588235294111, 122.49411764705886, 213.40784313725496, 0.0)\">-0.0</th><th style=\"background:rgba(255.0, 13.0, 87.0, 0.00677361853832443)\">0.0</th><th style=\"background:rgba(54.70588235294111, 122.49411764705886, 213.40784313725496, 0.0)\">-0.0</th></tr><tr><th>&lt;/s&gt;</th><th style=\"background:rgba(0.0, 0.0, 0.0, 0.0)\"></th><th style=\"background:rgba(0.0, 0.0, 0.0, 0.0)\"></th><th style=\"background:rgba(0.0, 0.0, 0.0, 0.0)\"></th><th style=\"background:rgba(255.0, 13.0, 87.0, 0.05407011289364243)\">0.001</th><th style=\"background:rgba(255.0, 13.0, 87.0, 0.10136660724896006)\">0.001</th><th style=\"background:rgba(54.70588235294111, 122.49411764705886, 213.40784313725496, 0.0)\">-0.0</th><th style=\"background:rgba(54.70588235294111, 122.49411764705886, 213.40784313725496, 0.0)\">-0.0</th><th style=\"background:rgba(255.0, 13.0, 87.0, 0.00677361853832443)\">0.0</th><th style=\"background:rgba(54.70588235294111, 122.49411764705886, 213.40784313725496, 0.0)\">-0.0</th></tr><tr style=\"outline: thin solid\"><th><b>contrast_prob_diff</b></th><th>0.0</th><th>0.0</th><th>0.0</th><th>0.023</th><th>0.049</th><th>-0.001</th><th>-0.002</th><th>0.004</th><th>-0.0</th><tr style=\"outline: thin solid\"><th><b>probability</b></th><th>0.0</th><th>0.023</th><th><b>0.59</b></th><th>0.031</th><th>0.37</th><th>0.006</th><th>0.388</th><th><b>0.848</b></th><th><b>0.893</b></th></table>\n",
       "</div>\n",
       "\n",
       "        </div>\n",
       "    </div>\n",
       "</div>\n",
       "</html>\n"
      ],
      "text/plain": [
       "<IPython.core.display.HTML object>"
      ]
     },
     "metadata": {},
     "output_type": "display_data"
    }
   ],
   "source": [
    "# Pre-compute ids and attention map for the contrastive target\n",
    "contrast = model_ko_de.encode(ko_de_matching[\"informal_de\"][21], as_targets=True)\n",
    "\n",
    "out = model_ko_de.attribute(\n",
    "    input_texts=ko_de_matching[\"formal_ko\"][21],\n",
    "    generated_texts=ko_de_matching[\"formal_de\"][21],\n",
    "    attributed_fn=\"contrast_prob_diff\",\n",
    "    step_scores=[\"contrast_prob_diff\", \"probability\"],\n",
    "    contrast_ids=contrast.input_ids,\n",
    "    contrast_attention_mask=contrast.attention_mask,\n",
    ")\n",
    "\n",
    "out.weight_attributions(\"contrast_prob_diff\")\n",
    "out.show()"
   ]
  },
  {
   "cell_type": "code",
   "execution_count": 10,
   "metadata": {
    "tags": []
   },
   "outputs": [
    {
     "data": {
      "text/html": [
       "<br/><b>0th instance:</b><br/>\n",
       "<html>\n",
       "<div id=\"srzckiwgelkhgylwobzv_viz_container\">\n",
       "    <div id=\"srzckiwgelkhgylwobzv_content\" style=\"padding:15px;border-style:solid;margin:5px;\">\n",
       "        <div id = \"srzckiwgelkhgylwobzv_saliency_plot_container\" class=\"srzckiwgelkhgylwobzv_viz_container\" style=\"display:block\">\n",
       "            \n",
       "<div id=\"bqfxwbgrfdyomuuecllm_saliency_plot\" class=\"bqfxwbgrfdyomuuecllm_viz_content\">\n",
       "    <div style=\"margin:5px;font-family:sans-serif;font-weight:bold;\">\n",
       "        <span style=\"font-size: 20px;\">Source Saliency Heatmap</span>\n",
       "        <br>\n",
       "        x: Generated tokens, y: Attributed tokens\n",
       "    </div>\n",
       "    \n",
       "<table border=\"1\" cellpadding=\"5\" cellspacing=\"5\"\n",
       "    style=\"overflow-x:scroll;display:block;\">\n",
       "    <tr><th></th>\n",
       "<th>de_DE</th><th>▁Ist</th><th>▁das</th><th>▁Ihre</th><th>▁Lieblingspizza?</th><th>&lt;/s&gt;</th></tr><tr><th>ko_KR</th><th style=\"background:rgba(0.0, 0.0, 0.0, 0.0)\"></th><th style=\"background:rgba(0.0, 0.0, 0.0, 0.0)\"></th><th style=\"background:rgba(0.0, 0.0, 0.0, 0.0)\"></th><th style=\"background:rgba(255.0, 13.0, 87.0, 0.06983561101208159)\">0.001</th><th style=\"background:rgba(255.0, 13.0, 87.0, 0.1880768469003763)\">0.002</th><th style=\"background:rgba(54.70588235294111, 122.49411764705886, 213.40784313725496, 0.0)\">-0.0</th></tr><tr><th>▁그게</th><th style=\"background:rgba(0.0, 0.0, 0.0, 0.0)\"></th><th style=\"background:rgba(0.0, 0.0, 0.0, 0.0)\"></th><th style=\"background:rgba(0.0, 0.0, 0.0, 0.0)\"></th><th style=\"background:rgba(255.0, 13.0, 87.0, 0.04618736383442265)\">0.001</th><th style=\"background:rgba(255.0, 13.0, 87.0, 0.13289760348583876)\">0.002</th><th style=\"background:rgba(54.70588235294111, 122.49411764705886, 213.40784313725496, 0.0)\">-0.0</th></tr><tr><th>▁님이</th><th style=\"background:rgba(0.0, 0.0, 0.0, 0.0)\"></th><th style=\"background:rgba(0.0, 0.0, 0.0, 0.0)\"></th><th style=\"background:rgba(0.0, 0.0, 0.0, 0.0)\"></th><th style=\"background:rgba(255.0, 13.0, 87.0, 0.5585660526836996)\">0.007</th><th style=\"background:rgba(255.0, 13.0, 87.0, 1.0)\">0.013</th><th style=\"background:rgba(54.70588235294111, 122.49411764705886, 213.40784313725496, 0.0)\">-0.0</th></tr><tr><th>▁제일</th><th style=\"background:rgba(0.0, 0.0, 0.0, 0.0)\"></th><th style=\"background:rgba(0.0, 0.0, 0.0, 0.0)\"></th><th style=\"background:rgba(0.0, 0.0, 0.0, 0.0)\"></th><th style=\"background:rgba(255.0, 13.0, 87.0, 0.1171321053673995)\">0.002</th><th style=\"background:rgba(255.0, 13.0, 87.0, 0.3536145771439889)\">0.004</th><th style=\"background:rgba(54.70588235294111, 122.49411764705886, 213.40784313725496, 0.0)\">-0.0</th></tr><tr><th>▁좋아하시는</th><th style=\"background:rgba(0.0, 0.0, 0.0, 0.0)\"></th><th style=\"background:rgba(0.0, 0.0, 0.0, 0.0)\"></th><th style=\"background:rgba(0.0, 0.0, 0.0, 0.0)\"></th><th style=\"background:rgba(255.0, 13.0, 87.0, 0.12501485442661908)\">0.002</th><th style=\"background:rgba(255.0, 13.0, 87.0, 0.3299663299663301)\">0.004</th><th style=\"background:rgba(54.70588235294111, 122.49411764705886, 213.40784313725496, 0.0)\">-0.0</th></tr><tr><th>▁피자예요?</th><th style=\"background:rgba(0.0, 0.0, 0.0, 0.0)\"></th><th style=\"background:rgba(0.0, 0.0, 0.0, 0.0)\"></th><th style=\"background:rgba(0.0, 0.0, 0.0, 0.0)\"></th><th style=\"background:rgba(255.0, 13.0, 87.0, 0.29055258467023165)\">0.004</th><th style=\"background:rgba(255.0, 13.0, 87.0, 0.48762131115072294)\">0.006</th><th style=\"background:rgba(54.70588235294111, 122.49411764705886, 213.40784313725496, 0.0)\">-0.0</th></tr><tr><th>&lt;/s&gt;</th><th style=\"background:rgba(0.0, 0.0, 0.0, 0.0)\"></th><th style=\"background:rgba(0.0, 0.0, 0.0, 0.0)\"></th><th style=\"background:rgba(0.0, 0.0, 0.0, 0.0)\"></th><th style=\"background:rgba(255.0, 13.0, 87.0, 0.05407011289364243)\">0.001</th><th style=\"background:rgba(255.0, 13.0, 87.0, 0.10136660724896006)\">0.001</th><th style=\"background:rgba(54.70588235294111, 122.49411764705886, 213.40784313725496, 0.0)\">-0.0</th></tr><tr style=\"outline: thin solid\"><th><b>contrast_prob_diff</b></th><th>0.0</th><th>0.0</th><th>0.0</th><th>0.023</th><th>0.0</th><th>-0.0</th><tr style=\"outline: thin solid\"><th><b>probability</b></th><th>0.0</th><th>0.023</th><th><b>0.59</b></th><th>0.031</th><th>0.001</th><th><b>0.893</b></th></table>\n",
       "</div>\n",
       "\n",
       "        </div>\n",
       "    </div>\n",
       "</div>\n",
       "</html>\n"
      ],
      "text/plain": [
       "<IPython.core.display.HTML object>"
      ]
     },
     "metadata": {},
     "output_type": "display_data"
    }
   ],
   "source": [
    "out.show(aggregator=SubwordAggregator)"
   ]
  },
  {
   "cell_type": "markdown",
   "metadata": {},
   "source": [
    "## Aggregated"
   ]
  },
  {
   "cell_type": "markdown",
   "metadata": {},
   "source": [
    "#### Perform Attributions"
   ]
  },
  {
   "cell_type": "code",
   "execution_count": null,
   "metadata": {},
   "outputs": [],
   "source": [
    "ds_informal_contr_ko = attribute.perform_contrastive_attr(ds, \"formal_de\", \"formal_ko\", \"informal_ko\", \"de\", \"ko\", \"input_x_gradient\")"
   ]
  },
  {
   "cell_type": "code",
   "execution_count": null,
   "metadata": {},
   "outputs": [],
   "source": [
    "ds_formal_contr_ko = attribute.perform_contrastive_attr(ds, \"informal_de\", \"informal_ko\", \"formal_ko\", \"de\", \"ko\", \"input_x_gradient\")"
   ]
  },
  {
   "cell_type": "code",
   "execution_count": null,
   "metadata": {},
   "outputs": [],
   "source": [
    "ds_informal_contr_de = attribute.perform_contrastive_attr(ds, \"formal_ko\", \"formal_de\", \"informal_de\", \"ko\", \"de\", \"input_x_gradient\")"
   ]
  },
  {
   "cell_type": "code",
   "execution_count": null,
   "metadata": {},
   "outputs": [],
   "source": [
    "ds_formal_contr_de = attribute.perform_contrastive_attr(ds, \"informal_ko\", \"informal_de\", \"formal_de\", \"ko\", \"de\", \"input_x_gradient\")"
   ]
  },
  {
   "cell_type": "markdown",
   "metadata": {},
   "source": [
    "#### ... Or load the precomputed attributions"
   ]
  },
  {
   "cell_type": "code",
   "execution_count": 9,
   "metadata": {},
   "outputs": [
    {
     "name": "stdout",
     "output_type": "stream",
     "text": [
      "Dataset({\n",
      "    features: ['informal_ko', 'informal_de', 'formal_ko', 'formal_de', 'en', 'category', 'upos_tags_informal_ko', 'pos_tags_informal_ko', 'ws_tokens_informal_ko', 'sent_ids_informal_ko', 'form_map_informal_ko', 'upos_tags_informal_de', 'pos_tags_informal_de', 'ws_tokens_informal_de', 'sent_ids_informal_de', 'form_map_informal_de', 'upos_tags_formal_ko', 'pos_tags_formal_ko', 'ws_tokens_formal_ko', 'sent_ids_formal_ko', 'form_map_formal_ko', 'upos_tags_formal_de', 'pos_tags_formal_de', 'ws_tokens_formal_de', 'sent_ids_formal_de', 'form_map_formal_de', 'contrastive_attr', 'contrastive_prob', 'attr_prob'],\n",
      "    num_rows: 57\n",
      "})\n"
     ]
    }
   ],
   "source": [
    "ds_informal_contr_ko = load_from_disk(\"../data/iwslt_labelled_formal_informal_ko\")\n",
    "print(ds_informal_contr_ko)"
   ]
  },
  {
   "cell_type": "code",
   "execution_count": 10,
   "metadata": {},
   "outputs": [
    {
     "name": "stdout",
     "output_type": "stream",
     "text": [
      "Dataset({\n",
      "    features: ['informal_ko', 'informal_de', 'formal_ko', 'formal_de', 'en', 'category', 'upos_tags_informal_ko', 'pos_tags_informal_ko', 'ws_tokens_informal_ko', 'sent_ids_informal_ko', 'form_map_informal_ko', 'upos_tags_informal_de', 'pos_tags_informal_de', 'ws_tokens_informal_de', 'sent_ids_informal_de', 'form_map_informal_de', 'upos_tags_formal_ko', 'pos_tags_formal_ko', 'ws_tokens_formal_ko', 'sent_ids_formal_ko', 'form_map_formal_ko', 'upos_tags_formal_de', 'pos_tags_formal_de', 'ws_tokens_formal_de', 'sent_ids_formal_de', 'form_map_formal_de', 'contrastive_attr', 'contrastive_prob', 'attr_prob'],\n",
      "    num_rows: 57\n",
      "})\n"
     ]
    }
   ],
   "source": [
    "ds_formal_contr_ko = load_from_disk(\"../data/iwslt_labelled_informal_formal_ko\")\n",
    "print(ds_formal_contr_ko)"
   ]
  },
  {
   "cell_type": "code",
   "execution_count": 11,
   "metadata": {},
   "outputs": [
    {
     "name": "stdout",
     "output_type": "stream",
     "text": [
      "Dataset({\n",
      "    features: ['informal_ko', 'informal_de', 'formal_ko', 'formal_de', 'en', 'category', 'upos_tags_informal_ko', 'pos_tags_informal_ko', 'ws_tokens_informal_ko', 'sent_ids_informal_ko', 'form_map_informal_ko', 'upos_tags_informal_de', 'pos_tags_informal_de', 'ws_tokens_informal_de', 'sent_ids_informal_de', 'form_map_informal_de', 'upos_tags_formal_ko', 'pos_tags_formal_ko', 'ws_tokens_formal_ko', 'sent_ids_formal_ko', 'form_map_formal_ko', 'upos_tags_formal_de', 'pos_tags_formal_de', 'ws_tokens_formal_de', 'sent_ids_formal_de', 'form_map_formal_de', 'contrastive_attr', 'contrastive_prob', 'attr_prob'],\n",
      "    num_rows: 72\n",
      "})\n"
     ]
    }
   ],
   "source": [
    "ds_informal_contr_de = load_from_disk(\"../data/iwslt_labelled_formal_informal_de\")\n",
    "print(ds_informal_contr_de)"
   ]
  },
  {
   "cell_type": "code",
   "execution_count": 12,
   "metadata": {},
   "outputs": [
    {
     "name": "stdout",
     "output_type": "stream",
     "text": [
      "Dataset({\n",
      "    features: ['informal_ko', 'informal_de', 'formal_ko', 'formal_de', 'en', 'category', 'upos_tags_informal_ko', 'pos_tags_informal_ko', 'ws_tokens_informal_ko', 'sent_ids_informal_ko', 'form_map_informal_ko', 'upos_tags_informal_de', 'pos_tags_informal_de', 'ws_tokens_informal_de', 'sent_ids_informal_de', 'form_map_informal_de', 'upos_tags_formal_ko', 'pos_tags_formal_ko', 'ws_tokens_formal_ko', 'sent_ids_formal_ko', 'form_map_formal_ko', 'upos_tags_formal_de', 'pos_tags_formal_de', 'ws_tokens_formal_de', 'sent_ids_formal_de', 'form_map_formal_de', 'contrastive_attr', 'contrastive_prob', 'attr_prob'],\n",
      "    num_rows: 72\n",
      "})\n"
     ]
    }
   ],
   "source": [
    "ds_formal_contr_de = load_from_disk(\"../data/iwslt_labelled_informal_formal_de\")\n",
    "print(ds_formal_contr_de)"
   ]
  },
  {
   "cell_type": "code",
   "execution_count": 16,
   "metadata": {},
   "outputs": [],
   "source": [
    "from spacy.training import Alignment"
   ]
  },
  {
   "cell_type": "markdown",
   "metadata": {},
   "source": [
    "#### Aggregate Atributions"
   ]
  },
  {
   "cell_type": "code",
   "execution_count": 40,
   "metadata": {},
   "outputs": [],
   "source": [
    "def aggregate_contrast_probs(data, reverse: bool = False):\n",
    "    first_contrast_tokens = []\n",
    "    for example in data:\n",
    "        for prob in example[\"contrastive_prob\"]:\n",
    "            if prob != 0.0:\n",
    "                first_contrast_tokens.append(prob)\n",
    "                break\n",
    "\n",
    "    if reverse:\n",
    "        return [-p for p in first_contrast_tokens]\n",
    "    else:\n",
    "        return first_contrast_tokens"
   ]
  },
  {
   "cell_type": "code",
   "execution_count": 39,
   "metadata": {},
   "outputs": [],
   "source": [
    "contrast_probs = []"
   ]
  },
  {
   "cell_type": "code",
   "execution_count": 46,
   "metadata": {},
   "outputs": [],
   "source": [
    "contrast_probs.append({\n",
    "    \"title\": r\"DE Informal $\\rightarrow$ Formal\",\n",
    "    \"data\": aggregate_contrast_probs(ds_formal_contr_de, reverse=True)\n",
    "})"
   ]
  },
  {
   "cell_type": "code",
   "execution_count": 42,
   "metadata": {},
   "outputs": [],
   "source": [
    "contrast_probs.append({\n",
    "    \"title\":  r\"DE Formal $\\rightarrow$ Informal\",\n",
    "    \"data\": aggregate_contrast_probs(ds_informal_contr_de, reverse=True)\n",
    "})"
   ]
  },
  {
   "cell_type": "code",
   "execution_count": 43,
   "metadata": {},
   "outputs": [],
   "source": [
    "contrast_probs.append({\n",
    "    \"title\": r\"KO Informal $\\rightarrow$ Formal\",\n",
    "    \"data\": aggregate_contrast_probs(ds_formal_contr_ko, reverse=True)\n",
    "})"
   ]
  },
  {
   "cell_type": "code",
   "execution_count": 44,
   "metadata": {},
   "outputs": [],
   "source": [
    "contrast_probs.append({\n",
    "    \"title\":  r\"KO Formal $\\rightarrow$ Informal\",\n",
    "    \"data\": aggregate_contrast_probs(ds_informal_contr_ko, reverse=True)\n",
    "})"
   ]
  },
  {
   "cell_type": "code",
   "execution_count": 62,
   "metadata": {},
   "outputs": [
    {
     "data": {
      "image/png": "[encoded data removed]",
      "text/plain": [
       "<Figure size 640x480 with 4 Axes>"
      ]
     },
     "metadata": {},
     "output_type": "display_data"
    }
   ],
   "source": [
    "fig, ax = plt.subplots(2,2, layout=\"constrained\")\n",
    "\n",
    "for row in range(2):\n",
    "    for col in range(2):\n",
    "        list_idx = row * 2 + col\n",
    "        ax[row, col].axvline(x=0, linewidth=0.75, linestyle=\"dashed\", color=\"grey\", zorder=0)\n",
    "        ax[row, col].hist(contrast_probs[list_idx][\"data\"], bins=20)\n",
    "        ax[row, col].set_title(contrast_probs[list_idx][\"title\"])\n",
    "        ax[row, col].set_xlabel(\"Probability Difference\")\n",
    "        ax[row, col].set_ylabel(\"Number of Samples\")\n",
    "        ax[row, col].set_xlim(-0.75, 0.75)\n",
    "        ax[row, col].set_ylim(0, len(contrast_probs[list_idx][\"data\"]))"
   ]
  },
  {
   "cell_type": "code",
   "execution_count": 13,
   "metadata": {},
   "outputs": [],
   "source": [
    "all_pos_list = attribute.get_max_contr_pos_tags(ds_formal_contr_ko, model_ko_de, \"informal_de\")"
   ]
  },
  {
   "cell_type": "code",
   "execution_count": 14,
   "metadata": {},
   "outputs": [],
   "source": [
    "all_pos_list2 = attribute.get_max_contr_pos_tags(ds_informal_contr_ko, model_ko_de, \"formal_de\")"
   ]
  },
  {
   "cell_type": "code",
   "execution_count": 15,
   "metadata": {},
   "outputs": [],
   "source": [
    "import pandas as pd"
   ]
  },
  {
   "cell_type": "code",
   "execution_count": 16,
   "metadata": {},
   "outputs": [],
   "source": [
    "max_pos_df = pd.DataFrame({\"formal\": all_pos_list, \"informal\": all_pos_list2})"
   ]
  },
  {
   "cell_type": "code",
   "execution_count": 17,
   "metadata": {},
   "outputs": [
    {
     "data": {
      "text/plain": [
       "<AxesSubplot:>"
      ]
     },
     "execution_count": 17,
     "metadata": {},
     "output_type": "execute_result"
    },
    {
     "data": {
      "image/png": "[encoded data removed]",
      "text/plain": [
       "<Figure size 640x480 with 1 Axes>"
      ]
     },
     "metadata": {},
     "output_type": "display_data"
    }
   ],
   "source": [
    "max_pos_df.apply(pd.Series.value_counts).plot(kind=\"bar\")"
   ]
  }
 ],
 "metadata": {
  "kernelspec": {
   "display_name": "Python 3 (ipykernel)",
   "language": "python",
   "name": "python3"
  },
  "language_info": {
   "codemirror_mode": {
    "name": "ipython",
    "version": 3
   },
   "file_extension": ".py",
   "mimetype": "text/x-python",
   "name": "python",
   "nbconvert_exporter": "python",
   "pygments_lexer": "ipython3",
   "version": "3.10.9"
  }
 },
 "nbformat": 4,
 "nbformat_minor": 4
}
