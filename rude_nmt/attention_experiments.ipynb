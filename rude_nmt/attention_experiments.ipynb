{
 "cells": [
  {
   "attachments": {},
   "cell_type": "markdown",
   "metadata": {},
   "source": [
    "# Validate Attention Attribution Results\n",
    "This notebook contains a few functions used to validate the unexpected results encountered in the attention attribution experiments for the mBart50 model."
   ]
  },
  {
   "cell_type": "code",
   "execution_count": 1,
   "metadata": {
    "tags": []
   },
   "outputs": [],
   "source": [
    "from typing import Optional\n",
    "from datasets import load_from_disk\n",
    "import inseq\n",
    "from inseq.data.aggregator import AggregatorPipeline, SubwordAggregator\n",
    "import matplotlib.pyplot as plt\n",
    "import numpy as np\n",
    "import torch\n"
   ]
  },
  {
   "attachments": {},
   "cell_type": "markdown",
   "metadata": {},
   "source": [
    "load datasets"
   ]
  },
  {
   "cell_type": "code",
   "execution_count": 2,
   "metadata": {
    "tags": []
   },
   "outputs": [],
   "source": [
    "ds = load_from_disk(\"../data/tatoeba_filtered\")\n",
    "\n",
    "iwslt_ds = load_from_disk(\"../data/iwslt_labelled\")\n"
   ]
  },
  {
   "attachments": {},
   "cell_type": "markdown",
   "metadata": {},
   "source": [
    "load interpolation function"
   ]
  },
  {
   "cell_type": "code",
   "execution_count": 33,
   "metadata": {},
   "outputs": [],
   "source": [
    "def create_interpolation_plot(\n",
    "    attr_list: list,\n",
    "    scale_size: Optional[tuple] = None,\n",
    "    plt_name: Optional[str] = \"interpolation_plot\",\n",
    "    save: bool = False,\n",
    ") -> None:\n",
    "\n",
    "    if scale_size is None:\n",
    "        x = np.ceil(np.mean([attr.size(0) for attr in attr_list])).astype(int)\n",
    "        y = np.ceil(np.mean([attr.size(1) for attr in attr_list])).astype(int)\n",
    "        scale_size = (x, y)\n",
    "\n",
    "    attr_list = [attr.unsqueeze(0).unsqueeze(0) for attr in attr_list]\n",
    "    scaled_attr = [\n",
    "        torch.nn.functional.interpolate(\n",
    "            attr, size=scale_size, mode=\"bicubic\", align_corners=True\n",
    "        )\n",
    "        .squeeze(0)\n",
    "        .squeeze(0)\n",
    "        for attr in attr_list\n",
    "    ]\n",
    "\n",
    "    scaled = torch.stack(scaled_attr).mean(dim=0)\n",
    "\n",
    "    arr = np.flip(scaled.numpy(), axis=0)\n",
    "\n",
    "    fig, ax = plt.subplots()\n",
    "\n",
    "    pcm = ax.pcolormesh(arr, vmin=0, vmax=1, cmap=\"Reds\")\n",
    "\n",
    "    ax.set_xlabel(\"Generated Tokens\")\n",
    "    ax.set_ylabel(\"Attributed Tokens\")\n",
    "\n",
    "    fig.colorbar(pcm, ax=ax, shrink=0.8, label=\"Attention Weight\")\n",
    "\n",
    "    if save:\n",
    "        plt.savefig(plt_name)\n"
   ]
  },
  {
   "attachments": {},
   "cell_type": "markdown",
   "metadata": {},
   "source": [
    "## mBart50\n",
    "analyze the attention attribution on the mBart50 model"
   ]
  },
  {
   "cell_type": "code",
   "execution_count": 3,
   "metadata": {
    "tags": []
   },
   "outputs": [],
   "source": [
    "aggregator = AggregatorPipeline([SubwordAggregator])\n"
   ]
  },
  {
   "cell_type": "code",
   "execution_count": 4,
   "metadata": {
    "tags": []
   },
   "outputs": [],
   "source": [
    "mbart_model_de_ko = inseq.load_model(\n",
    "    \"facebook/mbart-large-50-many-to-many-mmt\",\n",
    "    \"attention\",\n",
    "    tokenizer_kwargs={\"src_lang\": \"de_DE\", \"tgt_lang\": \"ko_KR\"},\n",
    ")\n"
   ]
  },
  {
   "cell_type": "code",
   "execution_count": 40,
   "metadata": {
    "tags": []
   },
   "outputs": [],
   "source": [
    "mbart_model_ko_de = inseq.load_model(\n",
    "    \"facebook/mbart-large-50-many-to-many-mmt\",\n",
    "    \"attention\",\n",
    "    tokenizer_kwargs={\"src_lang\": \"ko_KR\", \"tgt_lang\": \"de_DE\"},\n",
    ")\n"
   ]
  },
  {
   "cell_type": "code",
   "execution_count": 52,
   "metadata": {
    "tags": []
   },
   "outputs": [
    {
     "name": "stderr",
     "output_type": "stream",
     "text": [
      "Attributing with attention...: 100%|██████████| 27/27 [00:07<00:00,  3.36it/s]\n",
      "Attributing with attention...: 100%|██████████| 25/25 [00:07<00:00,  3.21it/s]\n",
      "Attributing with attention...: 100%|██████████| 22/22 [00:06<00:00,  3.29it/s]\n",
      "Attributing with attention...: 100%|██████████| 37/37 [00:10<00:00,  3.50it/s]\n",
      "Attributing with attention...: 100%|██████████| 39/39 [00:09<00:00,  3.81it/s]\n",
      "Attributing with attention...: 100%|██████████| 50/50 [00:13<00:00,  3.58it/s]\n",
      "Attributing with attention...: 100%|██████████| 27/27 [00:07<00:00,  3.26it/s]\n",
      "Attributing with attention...: 100%|██████████| 39/39 [00:11<00:00,  3.43it/s]\n",
      "Attributing with attention...: 100%|██████████| 40/40 [00:10<00:00,  3.59it/s]\n",
      "Attributing with attention...: 100%|██████████| 56/56 [00:17<00:00,  3.22it/s]\n",
      "Attributing with attention...: 100%|██████████| 21/21 [00:05<00:00,  3.39it/s]\n",
      "Attributing with attention...: 100%|██████████| 25/25 [00:07<00:00,  3.23it/s]\n",
      "Attributing with attention...: 100%|██████████| 22/22 [00:06<00:00,  3.20it/s]\n",
      "Attributing with attention...: 100%|██████████| 28/28 [00:08<00:00,  3.18it/s]\n",
      "Attributing with attention...: 100%|██████████| 20/20 [00:05<00:00,  3.46it/s]\n",
      "Attributing with attention...: 100%|██████████| 31/31 [00:08<00:00,  3.46it/s]\n",
      "Attributing with attention...: 100%|██████████| 41/41 [00:12<00:00,  3.12it/s]\n",
      "Attributing with attention...: 100%|██████████| 24/24 [00:07<00:00,  3.26it/s]\n",
      "Attributing with attention...: 100%|██████████| 44/44 [00:13<00:00,  3.11it/s]\n",
      "Attributing with attention...: 100%|██████████| 20/20 [00:05<00:00,  3.49it/s]\n",
      "Attributing with attention...: 100%|██████████| 63/63 [00:15<00:00,  3.95it/s]\n",
      "Attributing with attention...: 100%|██████████| 43/43 [00:13<00:00,  3.15it/s]\n",
      "Attributing with attention...: 100%|██████████| 45/45 [00:11<00:00,  3.86it/s]\n",
      "Attributing with attention...: 100%|██████████| 27/27 [00:07<00:00,  3.29it/s]\n",
      "Attributing with attention...: 100%|██████████| 27/27 [00:08<00:00,  3.17it/s]\n",
      "Attributing with attention...: 100%|██████████| 28/28 [00:07<00:00,  3.45it/s]\n",
      "Attributing with attention...: 100%|██████████| 101/101 [00:28<00:00,  3.52it/s]\n",
      "Attributing with attention...: 100%|██████████| 58/58 [00:15<00:00,  3.70it/s]\n",
      "Attributing with attention...: 100%|██████████| 131/131 [00:38<00:00,  3.39it/s]\n",
      "Attributing with attention...: 100%|██████████| 24/24 [00:07<00:00,  3.01it/s]\n",
      "Attributing with attention...: 100%|██████████| 25/25 [00:06<00:00,  3.72it/s]\n",
      "Attributing with attention...: 100%|██████████| 31/31 [00:09<00:00,  3.20it/s]\n",
      "Attributing with attention...: 100%|██████████| 21/21 [00:05<00:00,  3.39it/s]\n",
      "Attributing with attention...: 100%|██████████| 48/48 [00:14<00:00,  3.31it/s]\n",
      "Attributing with attention...: 100%|██████████| 35/35 [00:10<00:00,  3.28it/s]\n",
      "Attributing with attention...: 100%|██████████| 30/30 [00:08<00:00,  3.43it/s]\n",
      "Attributing with attention...: 100%|██████████| 50/50 [00:14<00:00,  3.27it/s]\n",
      "Attributing with attention...: 100%|██████████| 34/34 [00:09<00:00,  3.53it/s]\n",
      "Attributing with attention...: 100%|██████████| 47/47 [00:15<00:00,  3.03it/s]\n",
      "Attributing with attention...: 100%|██████████| 38/38 [00:11<00:00,  3.36it/s]\n",
      "Attributing with attention...: 100%|██████████| 27/27 [00:07<00:00,  3.45it/s]\n",
      "Attributing with attention...: 100%|██████████| 72/72 [00:21<00:00,  3.23it/s]\n",
      "Attributing with attention...: 100%|██████████| 33/33 [00:08<00:00,  3.62it/s]\n",
      "Attributing with attention...: 100%|██████████| 48/48 [00:12<00:00,  3.75it/s]\n",
      "Attributing with attention...: 100%|██████████| 57/57 [00:14<00:00,  3.79it/s]\n",
      "Attributing with attention...: 100%|██████████| 32/32 [00:08<00:00,  3.76it/s]\n",
      "Attributing with attention...: 100%|██████████| 32/32 [00:08<00:00,  3.70it/s]\n",
      "Attributing with attention...: 100%|██████████| 31/31 [00:09<00:00,  3.20it/s]\n",
      "Attributing with attention...: 100%|██████████| 41/41 [00:11<00:00,  3.55it/s]\n",
      "Attributing with attention...: 100%|██████████| 23/23 [00:06<00:00,  3.26it/s]\n",
      "Attributing with attention...: 100%|██████████| 22/22 [00:06<00:00,  3.39it/s]\n",
      "Attributing with attention...: 100%|██████████| 44/44 [00:13<00:00,  3.30it/s]\n",
      "Attributing with attention...: 100%|██████████| 36/36 [00:09<00:00,  3.82it/s]\n",
      "Attributing with attention...: 100%|██████████| 60/60 [00:18<00:00,  3.17it/s]\n",
      "Attributing with attention...: 100%|██████████| 44/44 [00:12<00:00,  3.42it/s]\n",
      "Attributing with attention...: 100%|██████████| 26/26 [00:07<00:00,  3.50it/s]\n",
      "Attributing with attention...: 100%|██████████| 58/58 [00:15<00:00,  3.80it/s]\n",
      "Attributing with attention...: 100%|██████████| 29/29 [00:08<00:00,  3.42it/s]\n",
      "Attributing with attention...: 100%|██████████| 40/40 [00:12<00:00,  3.14it/s]\n",
      "Attributing with attention...: 100%|██████████| 39/39 [00:11<00:00,  3.39it/s]\n",
      "Attributing with attention...: 100%|██████████| 40/40 [00:12<00:00,  3.13it/s]\n",
      "Attributing with attention...: 100%|██████████| 66/66 [00:21<00:00,  3.08it/s]\n",
      "Attributing with attention...: 100%|██████████| 38/38 [00:10<00:00,  3.69it/s]\n",
      "Attributing with attention...: 100%|██████████| 27/27 [00:07<00:00,  3.48it/s]\n",
      "Attributing with attention...: 100%|██████████| 40/40 [00:12<00:00,  3.20it/s]\n",
      "Attributing with attention...: 100%|██████████| 52/52 [00:16<00:00,  3.14it/s]\n",
      "Attributing with attention...: 100%|██████████| 21/21 [00:05<00:00,  3.77it/s]\n",
      "Attributing with attention...: 100%|██████████| 30/30 [00:09<00:00,  2.90it/s]\n",
      "Attributing with attention...: 100%|██████████| 35/35 [00:10<00:00,  3.19it/s]\n",
      "Attributing with attention...: 100%|██████████| 62/62 [00:16<00:00,  3.59it/s]\n",
      "Attributing with attention...: 100%|██████████| 33/33 [00:10<00:00,  3.19it/s]\n",
      "Attributing with attention...: 100%|██████████| 39/39 [00:10<00:00,  3.53it/s]\n",
      "Attributing with attention...: 100%|██████████| 44/44 [00:12<00:00,  3.45it/s]\n",
      "Attributing with attention...: 100%|██████████| 50/50 [00:15<00:00,  3.26it/s]\n",
      "Attributing with attention...: 100%|██████████| 33/33 [00:09<00:00,  3.36it/s]\n",
      "Attributing with attention...: 100%|██████████| 26/26 [00:07<00:00,  3.51it/s]\n",
      "Attributing with attention...: 100%|██████████| 53/53 [00:16<00:00,  3.24it/s]\n",
      "Attributing with attention...: 100%|██████████| 54/54 [00:18<00:00,  2.88it/s]\n",
      "Attributing with attention...: 100%|██████████| 35/35 [00:10<00:00,  3.37it/s]\n",
      "Attributing with attention...: 100%|██████████| 121/121 [00:31<00:00,  3.86it/s]\n",
      "Attributing with attention...: 100%|██████████| 38/38 [00:10<00:00,  3.43it/s]\n",
      "Attributing with attention...: 100%|██████████| 47/47 [00:15<00:00,  2.91it/s]\n",
      "Attributing with attention...: 100%|██████████| 18/18 [00:05<00:00,  3.30it/s]\n",
      "Attributing with attention...: 100%|██████████| 56/56 [00:14<00:00,  3.71it/s]\n",
      "Attributing with attention...: 100%|██████████| 28/28 [00:07<00:00,  3.47it/s]\n",
      "Attributing with attention...: 100%|██████████| 68/68 [00:22<00:00,  3.00it/s]\n",
      "Attributing with attention...: 100%|██████████| 71/71 [00:18<00:00,  3.81it/s]\n",
      "Attributing with attention...: 100%|██████████| 44/44 [00:12<00:00,  3.46it/s]\n",
      "Attributing with attention...: 100%|██████████| 37/37 [00:11<00:00,  3.12it/s]\n",
      "Attributing with attention...: 100%|██████████| 54/54 [00:14<00:00,  3.56it/s]\n",
      "Attributing with attention...: 100%|██████████| 31/31 [00:08<00:00,  3.55it/s]\n",
      "Attributing with attention...: 100%|██████████| 60/60 [00:17<00:00,  3.46it/s]\n",
      "Attributing with attention...: 100%|██████████| 24/24 [00:07<00:00,  3.25it/s]\n",
      "Attributing with attention...: 100%|██████████| 40/40 [00:13<00:00,  2.94it/s]\n",
      "Attributing with attention...: 100%|██████████| 19/19 [00:04<00:00,  3.70it/s]\n",
      "Attributing with attention...: 100%|██████████| 42/42 [00:12<00:00,  3.36it/s]\n",
      "Attributing with attention...: 100%|██████████| 60/60 [00:17<00:00,  3.34it/s]\n",
      "Attributing with attention...: 100%|██████████| 65/65 [00:20<00:00,  3.17it/s]\n",
      "Attributing with attention...: 100%|██████████| 72/72 [00:21<00:00,  3.34it/s]\n",
      "Attributing with attention...: 100%|██████████| 36/36 [00:11<00:00,  3.12it/s]\n"
     ]
    }
   ],
   "source": [
    "mbart_attributions_de_ko_forced = mbart_model_de_ko.attribute(\n",
    "    input_texts=ds[0:1600][\"source\"],\n",
    "    generated_texts=ds[0:1600][\"ko_nmt\"],\n",
    "    attribute_target=False,\n",
    "    batch_size=16,\n",
    ")\n",
    "mbart_attributions_de_ko_forced = mbart_attributions_de_ko_forced.aggregate(\n",
    "    aggregator=aggregator\n",
    ")\n"
   ]
  },
  {
   "cell_type": "code",
   "execution_count": 53,
   "metadata": {},
   "outputs": [
    {
     "data": {
      "text/html": [
       "<br/><b>0th instance:</b><br/>\n",
       "<html>\n",
       "<div id=\"cgchqjjfgyqpesejzqor_viz_container\">\n",
       "    <div id=\"cgchqjjfgyqpesejzqor_content\" style=\"padding:15px;border-style:solid;margin:5px;\">\n",
       "        <div id = \"cgchqjjfgyqpesejzqor_saliency_plot_container\" class=\"cgchqjjfgyqpesejzqor_viz_container\" style=\"display:block\">\n",
       "            \n",
       "<div id=\"yiccwpusnzjovqwpsbfh_saliency_plot\" class=\"yiccwpusnzjovqwpsbfh_viz_content\">\n",
       "    <div style=\"margin:5px;font-family:sans-serif;font-weight:bold;\">\n",
       "        <span style=\"font-size: 20px;\">Source Saliency Heatmap</span>\n",
       "        <br>\n",
       "        x: Generated tokens, y: Attributed tokens\n",
       "    </div>\n",
       "    \n",
       "<table border=\"1\" cellpadding=\"5\" cellspacing=\"5\"\n",
       "    style=\"overflow-x:scroll;display:block;\">\n",
       "    <tr><th></th>\n",
       "<th>ko_KR</th><th>▁캐롤,</th><th>▁여기</th><th>▁Vincent이</th><th>▁있습니다.</th><th>▁말하지</th><th>▁마세요.</th><th>▁그냥</th><th>▁들어보세요.</th><th>&lt;/s&gt;</th></tr><tr><th>de_DE</th><th style=\"background:rgba(255.0, 13.0, 87.0, 0.2511388393741335)\">0.195</th><th style=\"background:rgba(255.0, 13.0, 87.0, 0.3457318280847692)\">0.266</th><th style=\"background:rgba(255.0, 13.0, 87.0, 0.4009110714993067)\">0.31</th><th style=\"background:rgba(255.0, 13.0, 87.0, 0.4087938205585263)\">0.316</th><th style=\"background:rgba(255.0, 13.0, 87.0, 0.2826698356110118)\">0.218</th><th style=\"background:rgba(255.0, 13.0, 87.0, 0.3142008318478907)\">0.243</th><th style=\"background:rgba(255.0, 13.0, 87.0, 0.2511388393741335)\">0.195</th><th style=\"background:rgba(255.0, 13.0, 87.0, 0.3299663299663301)\">0.259</th><th style=\"background:rgba(255.0, 13.0, 87.0, 0.2590215884333532)\">0.2</th><th style=\"background:rgba(255.0, 13.0, 87.0, 0.2511388393741335)\">0.196</th></tr><tr><th>▁Carol,</th><th style=\"background:rgba(255.0, 13.0, 87.0, 0.08560110913052081)\">0.07</th><th style=\"background:rgba(255.0, 13.0, 87.0, 0.26690433749257286)\">0.205</th><th style=\"background:rgba(255.0, 13.0, 87.0, 0.030421865715983164)\">0.025</th><th style=\"background:rgba(230.2941176470614, 26.505882352939775, 102.59215686274348, 0.0)\">0.005</th><th style=\"background:rgba(255.0, 13.0, 87.0, 0.02253911665676371)\">0.018</th><th style=\"background:rgba(230.2941176470614, 26.505882352939775, 102.59215686274348, 0.0)\">0.005</th><th style=\"background:rgba(255.0, 13.0, 87.0, 0.02253911665676371)\">0.022</th><th style=\"background:rgba(230.2941176470614, 26.505882352939775, 102.59215686274348, 0.0)\">0.003</th><th style=\"background:rgba(255.0, 13.0, 87.0, 0.00677361853832443)\">0.01</th><th style=\"background:rgba(255.0, 13.0, 87.0, 0.05407011289364243)\">0.046</th></tr><tr><th>▁hier</th><th style=\"background:rgba(255.0, 13.0, 87.0, 0.00677361853832443)\">0.012</th><th style=\"background:rgba(255.0, 13.0, 87.0, 0.04618736383442265)\">0.039</th><th style=\"background:rgba(255.0, 13.0, 87.0, 0.030421865715983164)\">0.029</th><th style=\"background:rgba(255.0, 13.0, 87.0, 0.00677361853832443)\">0.007</th><th style=\"background:rgba(255.0, 13.0, 87.0, 0.00677361853832443)\">0.01</th><th style=\"background:rgba(255.0, 13.0, 87.0, 0.00677361853832443)\">0.007</th><th style=\"background:rgba(230.2941176470614, 26.505882352939775, 102.59215686274348, 0.0)\">0.004</th><th style=\"background:rgba(230.2941176470614, 26.505882352939775, 102.59215686274348, 0.0)\">0.002</th><th style=\"background:rgba(230.2941176470614, 26.505882352939775, 102.59215686274348, 0.0)\">0.004</th><th style=\"background:rgba(255.0, 13.0, 87.0, 0.00677361853832443)\">0.008</th></tr><tr><th>▁ist</th><th style=\"background:rgba(255.0, 13.0, 87.0, 0.00677361853832443)\">0.008</th><th style=\"background:rgba(255.0, 13.0, 87.0, 0.02253911665676371)\">0.019</th><th style=\"background:rgba(255.0, 13.0, 87.0, 0.02253911665676371)\">0.023</th><th style=\"background:rgba(255.0, 13.0, 87.0, 0.00677361853832443)\">0.008</th><th style=\"background:rgba(230.2941176470614, 26.505882352939775, 102.59215686274348, 0.0)\">0.004</th><th style=\"background:rgba(230.2941176470614, 26.505882352939775, 102.59215686274348, 0.0)\">0.002</th><th style=\"background:rgba(230.2941176470614, 26.505882352939775, 102.59215686274348, 0.0)\">0.002</th><th style=\"background:rgba(230.2941176470614, 26.505882352939775, 102.59215686274348, 0.0)\">0.0</th><th style=\"background:rgba(230.2941176470614, 26.505882352939775, 102.59215686274348, 0.0)\">0.003</th><th style=\"background:rgba(230.2941176470614, 26.505882352939775, 102.59215686274348, 0.0)\">0.004</th></tr><tr><th>▁Vincent.</th><th style=\"background:rgba(255.0, 13.0, 87.0, 0.030421865715983164)\">0.024</th><th style=\"background:rgba(255.0, 13.0, 87.0, 0.1171321053673995)\">0.094</th><th style=\"background:rgba(255.0, 13.0, 87.0, 0.17231134878193693)\">0.138</th><th style=\"background:rgba(255.0, 13.0, 87.0, 0.16442859972271742)\">0.129</th><th style=\"background:rgba(255.0, 13.0, 87.0, 0.04618736383442265)\">0.039</th><th style=\"background:rgba(255.0, 13.0, 87.0, 0.030421865715983164)\">0.024</th><th style=\"background:rgba(255.0, 13.0, 87.0, 0.014656367597544035)\">0.016</th><th style=\"background:rgba(230.2941176470614, 26.505882352939775, 102.59215686274348, 0.0)\">0.005</th><th style=\"background:rgba(255.0, 13.0, 87.0, 0.02253911665676371)\">0.019</th><th style=\"background:rgba(255.0, 13.0, 87.0, 0.06195286195286207)\">0.052</th></tr><tr><th>▁Sag</th><th style=\"background:rgba(255.0, 13.0, 87.0, 0.014656367597544035)\">0.016</th><th style=\"background:rgba(255.0, 13.0, 87.0, 0.014656367597544035)\">0.017</th><th style=\"background:rgba(255.0, 13.0, 87.0, 0.014656367597544035)\">0.015</th><th style=\"background:rgba(255.0, 13.0, 87.0, 0.00677361853832443)\">0.01</th><th style=\"background:rgba(255.0, 13.0, 87.0, 0.06195286195286207)\">0.049</th><th style=\"background:rgba(255.0, 13.0, 87.0, 0.10136660724896006)\">0.084</th><th style=\"background:rgba(255.0, 13.0, 87.0, 0.00677361853832443)\">0.008</th><th style=\"background:rgba(230.2941176470614, 26.505882352939775, 102.59215686274348, 0.0)\">0.004</th><th style=\"background:rgba(230.2941176470614, 26.505882352939775, 102.59215686274348, 0.0)\">0.003</th><th style=\"background:rgba(255.0, 13.0, 87.0, 0.00677361853832443)\">0.008</th></tr><tr><th>▁nichts.</th><th style=\"background:rgba(255.0, 13.0, 87.0, 0.00677361853832443)\">0.012</th><th style=\"background:rgba(255.0, 13.0, 87.0, 0.02253911665676371)\">0.022</th><th style=\"background:rgba(255.0, 13.0, 87.0, 0.030421865715983164)\">0.025</th><th style=\"background:rgba(255.0, 13.0, 87.0, 0.00677361853832443)\">0.009</th><th style=\"background:rgba(255.0, 13.0, 87.0, 0.04618736383442265)\">0.038</th><th style=\"background:rgba(255.0, 13.0, 87.0, 0.06983561101208159)\">0.057</th><th style=\"background:rgba(255.0, 13.0, 87.0, 0.00677361853832443)\">0.01</th><th style=\"background:rgba(230.2941176470614, 26.505882352939775, 102.59215686274348, 0.0)\">0.004</th><th style=\"background:rgba(230.2941176470614, 26.505882352939775, 102.59215686274348, 0.0)\">0.003</th><th style=\"background:rgba(255.0, 13.0, 87.0, 0.00677361853832443)\">0.007</th></tr><tr><th>▁Hör</th><th style=\"background:rgba(255.0, 13.0, 87.0, 0.014656367597544035)\">0.016</th><th style=\"background:rgba(230.2941176470614, 26.505882352939775, 102.59215686274348, 0.0)\">0.005</th><th style=\"background:rgba(230.2941176470614, 26.505882352939775, 102.59215686274348, 0.0)\">0.002</th><th style=\"background:rgba(230.2941176470614, 26.505882352939775, 102.59215686274348, 0.0)\">0.001</th><th style=\"background:rgba(255.0, 13.0, 87.0, 0.014656367597544035)\">0.017</th><th style=\"background:rgba(255.0, 13.0, 87.0, 0.02253911665676371)\">0.022</th><th style=\"background:rgba(255.0, 13.0, 87.0, 0.05407011289364243)\">0.047</th><th style=\"background:rgba(255.0, 13.0, 87.0, 0.06195286195286207)\">0.053</th><th style=\"background:rgba(255.0, 13.0, 87.0, 0.030421865715983164)\">0.025</th><th style=\"background:rgba(255.0, 13.0, 87.0, 0.00677361853832443)\">0.011</th></tr><tr><th>▁bloß</th><th style=\"background:rgba(255.0, 13.0, 87.0, 0.014656367597544035)\">0.014</th><th style=\"background:rgba(255.0, 13.0, 87.0, 0.00677361853832443)\">0.007</th><th style=\"background:rgba(230.2941176470614, 26.505882352939775, 102.59215686274348, 0.0)\">0.001</th><th style=\"background:rgba(230.2941176470614, 26.505882352939775, 102.59215686274348, 0.0)\">0.002</th><th style=\"background:rgba(255.0, 13.0, 87.0, 0.02253911665676371)\">0.019</th><th style=\"background:rgba(255.0, 13.0, 87.0, 0.02253911665676371)\">0.024</th><th style=\"background:rgba(255.0, 13.0, 87.0, 0.05407011289364243)\">0.043</th><th style=\"background:rgba(255.0, 13.0, 87.0, 0.08560110913052081)\">0.071</th><th style=\"background:rgba(255.0, 13.0, 87.0, 0.00677361853832443)\">0.011</th><th style=\"background:rgba(255.0, 13.0, 87.0, 0.014656367597544035)\">0.012</th></tr><tr><th>▁zu.</th><th style=\"background:rgba(255.0, 13.0, 87.0, 0.00677361853832443)\">0.011</th><th style=\"background:rgba(230.2941176470614, 26.505882352939775, 102.59215686274348, 0.0)\">0.003</th><th style=\"background:rgba(230.2941176470614, 26.505882352939775, 102.59215686274348, 0.0)\">0.002</th><th style=\"background:rgba(230.2941176470614, 26.505882352939775, 102.59215686274348, 0.0)\">0.003</th><th style=\"background:rgba(255.0, 13.0, 87.0, 0.00677361853832443)\">0.01</th><th style=\"background:rgba(255.0, 13.0, 87.0, 0.02253911665676371)\">0.022</th><th style=\"background:rgba(255.0, 13.0, 87.0, 0.030421865715983164)\">0.026</th><th style=\"background:rgba(255.0, 13.0, 87.0, 0.05407011289364243)\">0.048</th><th style=\"background:rgba(255.0, 13.0, 87.0, 0.03830461477520289)\">0.035</th><th style=\"background:rgba(230.2941176470614, 26.505882352939775, 102.59215686274348, 0.0)\">0.005</th></tr><tr><th>&lt;/s&gt;</th><th style=\"background:rgba(255.0, 13.0, 87.0, 0.7635175282234107)\">0.589</th><th style=\"background:rgba(255.0, 13.0, 87.0, 0.8581105169340464)\">0.659</th><th style=\"background:rgba(255.0, 13.0, 87.0, 0.5349178055060405)\">0.416</th><th style=\"background:rgba(255.0, 13.0, 87.0, 0.9684690037631213)\">0.744</th><th style=\"background:rgba(255.0, 13.0, 87.0, 0.9527035056446822)\">0.733</th><th style=\"background:rgba(255.0, 13.0, 87.0, 0.9842345018815607)\">0.756</th><th style=\"background:rgba(255.0, 13.0, 87.0, 1.0)\">0.772</th><th style=\"background:rgba(255.0, 13.0, 87.0, 0.7004555357496535)\">0.54</th><th style=\"background:rgba(255.0, 13.0, 87.0, 0.976351752822341)\">0.748</th><th style=\"background:rgba(255.0, 13.0, 87.0, 0.8344622697563875)\">0.641</th></tr></table>\n",
       "</div>\n",
       "\n",
       "        </div>\n",
       "    </div>\n",
       "</div>\n",
       "</html>\n"
      ],
      "text/plain": [
       "<IPython.core.display.HTML object>"
      ]
     },
     "metadata": {},
     "output_type": "display_data"
    }
   ],
   "source": [
    "mbart_attributions_de_ko_forced.sequence_attributions[0].show()"
   ]
  },
  {
   "cell_type": "code",
   "execution_count": 54,
   "metadata": {},
   "outputs": [],
   "source": [
    "source_attr = [\n",
    "    attr.source_attributions\n",
    "    for attr in mbart_attributions_de_ko_forced.sequence_attributions\n",
    "]\n"
   ]
  },
  {
   "cell_type": "code",
   "execution_count": 55,
   "metadata": {},
   "outputs": [
    {
     "data": {
      "image/png": "[encoded data removed]",
      "text/plain": [
       "<Figure size 640x480 with 2 Axes>"
      ]
     },
     "metadata": {},
     "output_type": "display_data"
    }
   ],
   "source": [
    "create_interpolation_plot(source_attr, plt_name=\"de_ko_forced\")\n"
   ]
  },
  {
   "cell_type": "code",
   "execution_count": 36,
   "metadata": {
    "tags": []
   },
   "outputs": [
    {
     "name": "stderr",
     "output_type": "stream",
     "text": [
      "/Users/lsickert/Repositories/rude-nmt/.venv/lib/python3.10/site-packages/transformers/generation/utils.py:1219: UserWarning: You have modified the pretrained model configuration to control generation. This is a deprecated strategy to control generation and will be removed soon, in a future version. Please use a generation configuration file (see https://huggingface.co/docs/transformers/main_classes/text_generation)\n",
      "  warnings.warn(\n",
      "/Users/lsickert/Repositories/rude-nmt/.venv/lib/python3.10/site-packages/transformers/generation/utils.py:1313: UserWarning: Using `max_length`'s default (200) to control the generation length. This behaviour is deprecated and will be removed from the config in v5 of Transformers -- we recommend using `max_new_tokens` to control the maximum length of the generation.\n",
      "  warnings.warn(\n",
      "Attributing with attention...: 100%|██████████| 21/21 [00:06<00:00,  3.02it/s]\n",
      "Attributing with attention...: 100%|██████████| 27/27 [00:06<00:00,  4.17it/s]\n",
      "Attributing with attention...: 100%|██████████| 25/25 [00:06<00:00,  3.81it/s]\n",
      "Attributing with attention...: 100%|██████████| 22/22 [00:05<00:00,  3.88it/s]\n",
      "Attributing with attention...: 100%|██████████| 20/20 [00:04<00:00,  4.21it/s]\n",
      "Attributing with attention...: 100%|██████████| 22/22 [00:04<00:00,  4.27it/s]\n",
      "Attributing with attention...: 100%|██████████| 37/37 [00:09<00:00,  3.76it/s]\n",
      "Attributing with attention...: 100%|██████████| 34/34 [00:08<00:00,  3.87it/s]\n",
      "Attributing with attention...: 100%|██████████| 15/15 [00:03<00:00,  3.80it/s]\n",
      "Attributing with attention...: 100%|██████████| 39/39 [00:10<00:00,  3.62it/s]\n",
      "Attributing with attention...: 100%|██████████| 50/50 [00:14<00:00,  3.46it/s]\n",
      "Attributing with attention...: 100%|██████████| 22/22 [00:05<00:00,  3.53it/s]\n",
      "Attributing with attention...: 100%|██████████| 27/27 [00:06<00:00,  3.73it/s]\n",
      "Attributing with attention...: 100%|██████████| 27/27 [00:07<00:00,  3.64it/s]\n",
      "Attributing with attention...: 100%|██████████| 28/28 [00:06<00:00,  3.87it/s]\n",
      "Attributing with attention...: 100%|██████████| 39/39 [00:09<00:00,  3.99it/s]\n",
      "Attributing with attention...: 100%|██████████| 40/40 [00:10<00:00,  3.75it/s]\n",
      "Attributing with attention...: 100%|██████████| 23/23 [00:05<00:00,  3.82it/s]\n",
      "Attributing with attention...: 100%|██████████| 31/31 [00:08<00:00,  3.74it/s]\n",
      "Attributing with attention...: 100%|██████████| 56/56 [00:16<00:00,  3.36it/s]\n"
     ]
    }
   ],
   "source": [
    "mbart_attributions_de_ko_free = mbart_model_de_ko.attribute(\n",
    "    input_texts=ds[0:160][\"source\"],\n",
    "    generation_args={\n",
    "        \"forced_bos_token_id\": mbart_model_de_ko.tokenizer.lang_code_to_id[\"ko_KR\"]\n",
    "    },\n",
    "    attribute_target=False,\n",
    "    batch_size=8,\n",
    ")\n",
    "mbart_attributions_de_ko_free = mbart_attributions_de_ko_free.aggregate(\n",
    "    aggregator=aggregator\n",
    ")\n"
   ]
  },
  {
   "cell_type": "code",
   "execution_count": 37,
   "metadata": {},
   "outputs": [],
   "source": [
    "source_attr = [\n",
    "    attr.source_attributions\n",
    "    for attr in mbart_attributions_de_ko_free.sequence_attributions\n",
    "]"
   ]
  },
  {
   "cell_type": "code",
   "execution_count": 38,
   "metadata": {},
   "outputs": [
    {
     "data": {
      "image/png": "[encoded data removed]",
      "text/plain": [
       "<Figure size 640x480 with 2 Axes>"
      ]
     },
     "metadata": {},
     "output_type": "display_data"
    }
   ],
   "source": [
    "create_interpolation_plot(source_attr, plt_name=\"de_ko_free\")\n"
   ]
  },
  {
   "cell_type": "code",
   "execution_count": 41,
   "metadata": {
    "tags": []
   },
   "outputs": [
    {
     "name": "stderr",
     "output_type": "stream",
     "text": [
      "Attributing with attention...: 100%|██████████| 20/20 [00:05<00:00,  3.74it/s]\n",
      "Attributing with attention...: 100%|██████████| 15/15 [00:03<00:00,  3.88it/s]\n",
      "Attributing with attention...: 100%|██████████| 26/26 [00:06<00:00,  4.01it/s]\n",
      "Attributing with attention...: 100%|██████████| 22/22 [00:05<00:00,  3.92it/s]\n",
      "Attributing with attention...: 100%|██████████| 17/17 [00:03<00:00,  4.26it/s]\n",
      "Attributing with attention...: 100%|██████████| 18/18 [00:04<00:00,  4.15it/s]\n",
      "Attributing with attention...: 100%|██████████| 27/27 [00:06<00:00,  4.02it/s]\n",
      "Attributing with attention...: 100%|██████████| 25/25 [00:05<00:00,  4.24it/s]\n",
      "Attributing with attention...: 100%|██████████| 23/23 [00:05<00:00,  4.28it/s]\n",
      "Attributing with attention...: 100%|██████████| 30/30 [00:06<00:00,  4.49it/s]\n",
      "Attributing with attention...: 100%|██████████| 38/38 [00:08<00:00,  4.62it/s]\n",
      "Attributing with attention...: 100%|██████████| 24/24 [00:05<00:00,  4.08it/s]\n",
      "Attributing with attention...: 100%|██████████| 21/21 [00:04<00:00,  4.16it/s]\n",
      "Attributing with attention...: 100%|██████████| 33/33 [00:07<00:00,  4.51it/s]\n",
      "Attributing with attention...: 100%|██████████| 34/34 [00:08<00:00,  4.01it/s]\n",
      "Attributing with attention...: 100%|██████████| 27/27 [00:05<00:00,  4.40it/s]\n",
      "Attributing with attention...: 100%|██████████| 24/24 [00:05<00:00,  4.37it/s]\n",
      "Attributing with attention...: 100%|██████████| 17/17 [00:03<00:00,  4.07it/s]\n",
      "Attributing with attention...: 100%|██████████| 42/42 [00:09<00:00,  4.14it/s]\n",
      "Attributing with attention...: 100%|██████████| 62/62 [00:16<00:00,  3.77it/s]\n"
     ]
    }
   ],
   "source": [
    "mbart_attributions_ko_de_forced = mbart_model_ko_de.attribute(\n",
    "    input_texts=ds[0:160][\"target\"],\n",
    "    generated_texts=ds[0:160][\"de_nmt\"],\n",
    "    attribute_target=False,\n",
    "    batch_size=8,\n",
    ")\n",
    "mbart_attributions_ko_de_forced = mbart_attributions_ko_de_forced.aggregate(\n",
    "    aggregator=aggregator\n",
    ")\n"
   ]
  },
  {
   "cell_type": "code",
   "execution_count": 42,
   "metadata": {},
   "outputs": [
    {
     "data": {
      "text/html": [
       "<br/><b>0th instance:</b><br/>\n",
       "<html>\n",
       "<div id=\"cgchqjjfgyqpesejzqor_viz_container\">\n",
       "    <div id=\"cgchqjjfgyqpesejzqor_content\" style=\"padding:15px;border-style:solid;margin:5px;\">\n",
       "        <div id = \"cgchqjjfgyqpesejzqor_saliency_plot_container\" class=\"cgchqjjfgyqpesejzqor_viz_container\" style=\"display:block\">\n",
       "            \n",
       "<div id=\"yiccwpusnzjovqwpsbfh_saliency_plot\" class=\"yiccwpusnzjovqwpsbfh_viz_content\">\n",
       "    <div style=\"margin:5px;font-family:sans-serif;font-weight:bold;\">\n",
       "        <span style=\"font-size: 20px;\">Source Saliency Heatmap</span>\n",
       "        <br>\n",
       "        x: Generated tokens, y: Attributed tokens\n",
       "    </div>\n",
       "    \n",
       "<table border=\"1\" cellpadding=\"5\" cellspacing=\"5\"\n",
       "    style=\"overflow-x:scroll;display:block;\">\n",
       "    <tr><th></th>\n",
       "<th>de_DE</th><th>▁Carol,</th><th>▁don't</th><th>▁say</th><th>▁\"Naya</th><th>▁Vincent\"!</th><th>&lt;/s&gt;</th></tr><tr><th>ko_KR</th><th style=\"background:rgba(255.0, 13.0, 87.0, 0.26690433749257286)\">0.201</th><th style=\"background:rgba(255.0, 13.0, 87.0, 0.306318082788671)\">0.229</th><th style=\"background:rgba(255.0, 13.0, 87.0, 0.32208358090711037)\">0.241</th><th style=\"background:rgba(255.0, 13.0, 87.0, 0.2826698356110118)\">0.214</th><th style=\"background:rgba(255.0, 13.0, 87.0, 0.2826698356110118)\">0.215</th><th style=\"background:rgba(255.0, 13.0, 87.0, 0.29843533372945136)\">0.227</th><th style=\"background:rgba(255.0, 13.0, 87.0, 0.2826698356110118)\">0.213</th></tr><tr><th>▁캐럴,</th><th style=\"background:rgba(255.0, 13.0, 87.0, 0.03830461477520289)\">0.033</th><th style=\"background:rgba(255.0, 13.0, 87.0, 0.16442859972271742)\">0.124</th><th style=\"background:rgba(255.0, 13.0, 87.0, 0.030421865715983164)\">0.024</th><th style=\"background:rgba(230.2941176470614, 26.505882352939775, 102.59215686274348, 0.0)\">0.005</th><th style=\"background:rgba(255.0, 13.0, 87.0, 0.02253911665676371)\">0.019</th><th style=\"background:rgba(255.0, 13.0, 87.0, 0.00677361853832443)\">0.009</th><th style=\"background:rgba(255.0, 13.0, 87.0, 0.02253911665676371)\">0.021</th></tr><tr><th>▁나야</th><th style=\"background:rgba(255.0, 13.0, 87.0, 0.00677361853832443)\">0.007</th><th style=\"background:rgba(255.0, 13.0, 87.0, 0.030421865715983164)\">0.026</th><th style=\"background:rgba(255.0, 13.0, 87.0, 0.06983561101208159)\">0.058</th><th style=\"background:rgba(255.0, 13.0, 87.0, 0.04618736383442265)\">0.039</th><th style=\"background:rgba(255.0, 13.0, 87.0, 0.09348385818974037)\">0.072</th><th style=\"background:rgba(230.2941176470614, 26.505882352939775, 102.59215686274348, 0.0)\">0.004</th><th style=\"background:rgba(230.2941176470614, 26.505882352939775, 102.59215686274348, 0.0)\">0.004</th></tr><tr><th>▁빈센트</th><th style=\"background:rgba(230.2941176470614, 26.505882352939775, 102.59215686274348, 0.0)\">0.005</th><th style=\"background:rgba(255.0, 13.0, 87.0, 0.04618736383442265)\">0.038</th><th style=\"background:rgba(255.0, 13.0, 87.0, 0.05407011289364243)\">0.045</th><th style=\"background:rgba(255.0, 13.0, 87.0, 0.10136660724896006)\">0.081</th><th style=\"background:rgba(255.0, 13.0, 87.0, 0.2747870865517925)\">0.206</th><th style=\"background:rgba(255.0, 13.0, 87.0, 0.15654585066349747)\">0.12</th><th style=\"background:rgba(255.0, 13.0, 87.0, 0.00677361853832443)\">0.007</th></tr><tr><th>▁말하지</th><th style=\"background:rgba(255.0, 13.0, 87.0, 0.00677361853832443)\">0.007</th><th style=\"background:rgba(255.0, 13.0, 87.0, 0.00677361853832443)\">0.011</th><th style=\"background:rgba(255.0, 13.0, 87.0, 0.030421865715983164)\">0.024</th><th style=\"background:rgba(255.0, 13.0, 87.0, 0.06195286195286207)\">0.047</th><th style=\"background:rgba(255.0, 13.0, 87.0, 0.014656367597544035)\">0.012</th><th style=\"background:rgba(255.0, 13.0, 87.0, 0.014656367597544035)\">0.013</th><th style=\"background:rgba(255.0, 13.0, 87.0, 0.00677361853832443)\">0.01</th></tr><tr><th>▁말고</th><th style=\"background:rgba(255.0, 13.0, 87.0, 0.014656367597544035)\">0.017</th><th style=\"background:rgba(255.0, 13.0, 87.0, 0.08560110913052081)\">0.068</th><th style=\"background:rgba(255.0, 13.0, 87.0, 0.07771836007130124)\">0.063</th><th style=\"background:rgba(255.0, 13.0, 87.0, 0.02253911665676371)\">0.022</th><th style=\"background:rgba(255.0, 13.0, 87.0, 0.00677361853832443)\">0.011</th><th style=\"background:rgba(255.0, 13.0, 87.0, 0.02253911665676371)\">0.02</th><th style=\"background:rgba(255.0, 13.0, 87.0, 0.014656367597544035)\">0.017</th></tr><tr><th>▁들어</th><th style=\"background:rgba(255.0, 13.0, 87.0, 0.02253911665676371)\">0.021</th><th style=\"background:rgba(255.0, 13.0, 87.0, 0.02253911665676371)\">0.02</th><th style=\"background:rgba(255.0, 13.0, 87.0, 0.04618736383442265)\">0.037</th><th style=\"background:rgba(255.0, 13.0, 87.0, 0.030421865715983164)\">0.027</th><th style=\"background:rgba(255.0, 13.0, 87.0, 0.014656367597544035)\">0.014</th><th style=\"background:rgba(255.0, 13.0, 87.0, 0.06983561101208159)\">0.054</th><th style=\"background:rgba(255.0, 13.0, 87.0, 0.06195286195286207)\">0.052</th></tr><tr><th>&lt;/s&gt;</th><th style=\"background:rgba(255.0, 13.0, 87.0, 0.865993265993266)\">0.641</th><th style=\"background:rgba(255.0, 13.0, 87.0, 0.755634779164191)\">0.565</th><th style=\"background:rgba(255.0, 13.0, 87.0, 0.9527035056446822)\">0.709</th><th style=\"background:rgba(255.0, 13.0, 87.0, 0.6295107942166767)\">0.469</th><th style=\"background:rgba(255.0, 13.0, 87.0, 0.8738760150524857)\">0.649</th><th style=\"background:rgba(255.0, 13.0, 87.0, 1.0)\">0.746</th><th style=\"background:rgba(255.0, 13.0, 87.0, 0.865993265993266)\">0.646</th></tr></table>\n",
       "</div>\n",
       "\n",
       "        </div>\n",
       "    </div>\n",
       "</div>\n",
       "</html>\n"
      ],
      "text/plain": [
       "<IPython.core.display.HTML object>"
      ]
     },
     "metadata": {},
     "output_type": "display_data"
    }
   ],
   "source": [
    "mbart_attributions_ko_de_forced.sequence_attributions[0].show()"
   ]
  },
  {
   "cell_type": "code",
   "execution_count": 43,
   "metadata": {},
   "outputs": [],
   "source": [
    "source_attr = [\n",
    "    attr.source_attributions\n",
    "    for attr in mbart_attributions_ko_de_forced.sequence_attributions\n",
    "]"
   ]
  },
  {
   "cell_type": "code",
   "execution_count": 44,
   "metadata": {},
   "outputs": [
    {
     "data": {
      "image/png": "[encoded data removed]",
      "text/plain": [
       "<Figure size 640x480 with 2 Axes>"
      ]
     },
     "metadata": {},
     "output_type": "display_data"
    }
   ],
   "source": [
    "create_interpolation_plot(source_attr, plt_name=\"ko_de_forced\")\n"
   ]
  },
  {
   "cell_type": "code",
   "execution_count": 10,
   "metadata": {
    "tags": []
   },
   "outputs": [
    {
     "name": "stderr",
     "output_type": "stream",
     "text": [
      "Attributing with attention...: 100%|██████████| 14/14 [00:02<00:00,  4.46it/s]\n"
     ]
    },
    {
     "data": {
      "text/html": [
       "<br/><b>0th instance:</b><br/>\n",
       "<html>\n",
       "<div id=\"cgchqjjfgyqpesejzqor_viz_container\">\n",
       "    <div id=\"cgchqjjfgyqpesejzqor_content\" style=\"padding:15px;border-style:solid;margin:5px;\">\n",
       "        <div id = \"cgchqjjfgyqpesejzqor_saliency_plot_container\" class=\"cgchqjjfgyqpesejzqor_viz_container\" style=\"display:block\">\n",
       "            \n",
       "<div id=\"yiccwpusnzjovqwpsbfh_saliency_plot\" class=\"yiccwpusnzjovqwpsbfh_viz_content\">\n",
       "    <div style=\"margin:5px;font-family:sans-serif;font-weight:bold;\">\n",
       "        <span style=\"font-size: 20px;\">Source Saliency Heatmap</span>\n",
       "        <br>\n",
       "        x: Generated tokens, y: Attributed tokens\n",
       "    </div>\n",
       "    \n",
       "<table border=\"1\" cellpadding=\"5\" cellspacing=\"5\"\n",
       "    style=\"overflow-x:scroll;display:block;\">\n",
       "    <tr><th></th>\n",
       "<th>de_DE</th><th>▁\"Come,</th><th>▁baby.</th><th>▁Du</th><th>▁bist</th><th>▁nicht</th><th>▁allein.\"</th><th>&lt;/s&gt;</th></tr><tr><th>ko_KR</th><th style=\"background:rgba(255.0, 13.0, 87.0, 0.26690433749257286)\">0.21</th><th style=\"background:rgba(255.0, 13.0, 87.0, 0.3299663299663301)\">0.261</th><th style=\"background:rgba(255.0, 13.0, 87.0, 0.4009110714993067)\">0.313</th><th style=\"background:rgba(255.0, 13.0, 87.0, 0.2747870865517925)\">0.218</th><th style=\"background:rgba(255.0, 13.0, 87.0, 0.23537334125569415)\">0.185</th><th style=\"background:rgba(255.0, 13.0, 87.0, 0.2590215884333532)\">0.202</th><th style=\"background:rgba(255.0, 13.0, 87.0, 0.24325609031491383)\">0.193</th><th style=\"background:rgba(255.0, 13.0, 87.0, 0.24325609031491383)\">0.193</th></tr><tr><th>▁가자</th><th style=\"background:rgba(255.0, 13.0, 87.0, 0.02253911665676371)\">0.021</th><th style=\"background:rgba(255.0, 13.0, 87.0, 0.06983561101208159)\">0.057</th><th style=\"background:rgba(255.0, 13.0, 87.0, 0.00677361853832443)\">0.009</th><th style=\"background:rgba(230.2941176470614, 26.505882352939775, 102.59215686274348, 0.0)\">0.005</th><th style=\"background:rgba(230.2941176470614, 26.505882352939775, 102.59215686274348, 0.0)\">0.002</th><th style=\"background:rgba(230.2941176470614, 26.505882352939775, 102.59215686274348, 0.0)\">0.001</th><th style=\"background:rgba(230.2941176470614, 26.505882352939775, 102.59215686274348, 0.0)\">0.002</th><th style=\"background:rgba(230.2941176470614, 26.505882352939775, 102.59215686274348, 0.0)\">0.006</th></tr><tr><th>▁아가야</th><th style=\"background:rgba(255.0, 13.0, 87.0, 0.014656367597544035)\">0.014</th><th style=\"background:rgba(255.0, 13.0, 87.0, 0.10136660724896006)\">0.081</th><th style=\"background:rgba(255.0, 13.0, 87.0, 0.12501485442661908)\">0.102</th><th style=\"background:rgba(255.0, 13.0, 87.0, 0.00677361853832443)\">0.009</th><th style=\"background:rgba(230.2941176470614, 26.505882352939775, 102.59215686274348, 0.0)\">0.003</th><th style=\"background:rgba(230.2941176470614, 26.505882352939775, 102.59215686274348, 0.0)\">0.005</th><th style=\"background:rgba(230.2941176470614, 26.505882352939775, 102.59215686274348, 0.0)\">0.006</th><th style=\"background:rgba(255.0, 13.0, 87.0, 0.00677361853832443)\">0.01</th></tr><tr><th>▁넌</th><th style=\"background:rgba(255.0, 13.0, 87.0, 0.00677361853832443)\">0.011</th><th style=\"background:rgba(255.0, 13.0, 87.0, 0.00677361853832443)\">0.01</th><th style=\"background:rgba(255.0, 13.0, 87.0, 0.02253911665676371)\">0.022</th><th style=\"background:rgba(255.0, 13.0, 87.0, 0.03830461477520289)\">0.033</th><th style=\"background:rgba(255.0, 13.0, 87.0, 0.00677361853832443)\">0.008</th><th style=\"background:rgba(255.0, 13.0, 87.0, 0.00677361853832443)\">0.007</th><th style=\"background:rgba(255.0, 13.0, 87.0, 0.00677361853832443)\">0.009</th><th style=\"background:rgba(255.0, 13.0, 87.0, 0.00677361853832443)\">0.007</th></tr><tr><th>▁혼자가</th><th style=\"background:rgba(255.0, 13.0, 87.0, 0.00677361853832443)\">0.009</th><th style=\"background:rgba(255.0, 13.0, 87.0, 0.014656367597544035)\">0.015</th><th style=\"background:rgba(255.0, 13.0, 87.0, 0.014656367597544035)\">0.017</th><th style=\"background:rgba(255.0, 13.0, 87.0, 0.030421865715983164)\">0.027</th><th style=\"background:rgba(255.0, 13.0, 87.0, 0.030421865715983164)\">0.03</th><th style=\"background:rgba(255.0, 13.0, 87.0, 0.030421865715983164)\">0.026</th><th style=\"background:rgba(255.0, 13.0, 87.0, 0.03830461477520289)\">0.036</th><th style=\"background:rgba(255.0, 13.0, 87.0, 0.00677361853832443)\">0.007</th></tr><tr><th>▁아냐</th><th style=\"background:rgba(255.0, 13.0, 87.0, 0.014656367597544035)\">0.016</th><th style=\"background:rgba(255.0, 13.0, 87.0, 0.014656367597544035)\">0.014</th><th style=\"background:rgba(255.0, 13.0, 87.0, 0.014656367597544035)\">0.015</th><th style=\"background:rgba(255.0, 13.0, 87.0, 0.030421865715983164)\">0.026</th><th style=\"background:rgba(230.2941176470614, 26.505882352939775, 102.59215686274348, 0.0)\">0.004</th><th style=\"background:rgba(255.0, 13.0, 87.0, 0.00677361853832443)\">0.007</th><th style=\"background:rgba(255.0, 13.0, 87.0, 0.014656367597544035)\">0.014</th><th style=\"background:rgba(255.0, 13.0, 87.0, 0.00677361853832443)\">0.008</th></tr><tr><th>&lt;/s&gt;</th><th style=\"background:rgba(255.0, 13.0, 87.0, 0.865993265993266)\">0.67</th><th style=\"background:rgba(255.0, 13.0, 87.0, 1.0)\">0.776</th><th style=\"background:rgba(255.0, 13.0, 87.0, 0.8581105169340464)\">0.665</th><th style=\"background:rgba(255.0, 13.0, 87.0, 0.8344622697563875)\">0.648</th><th style=\"background:rgba(255.0, 13.0, 87.0, 0.976351752822341)\">0.755</th><th style=\"background:rgba(255.0, 13.0, 87.0, 0.9448207565854626)\">0.73</th><th style=\"background:rgba(255.0, 13.0, 87.0, 1.0)\">0.779</th><th style=\"background:rgba(255.0, 13.0, 87.0, 0.9605862547039017)\">0.745</th></tr></table>\n",
       "</div>\n",
       "\n",
       "        </div>\n",
       "    </div>\n",
       "</div>\n",
       "</html>\n"
      ],
      "text/plain": [
       "<IPython.core.display.HTML object>"
      ]
     },
     "metadata": {},
     "output_type": "display_data"
    }
   ],
   "source": [
    "mbart_attributions_ko_de_free = mbart_model_ko_de.attribute(\n",
    "    input_texts=ds[0:16][\"target\"],\n",
    "    generation_args={\n",
    "        \"forced_bos_token_id\": mbart_model_de_ko.tokenizer.lang_code_to_id[\"de_DE\"]\n",
    "    },\n",
    "    attribute_target=False,\n",
    "    batch_size=8,\n",
    ")\n",
    "mbart_attributions_ko_de_free = mbart_attributions_ko_de_free.aggregate(\n",
    "    aggregator=aggregator\n",
    ")\n",
    "mbart_attributions_ko_de_free.show()\n"
   ]
  },
  {
   "cell_type": "code",
   "execution_count": null,
   "metadata": {},
   "outputs": [],
   "source": [
    "mbart_model_de_en = inseq.load_model(\n",
    "    \"facebook/mbart-large-50-many-to-many-mmt\",\n",
    "    \"attention\",\n",
    "    tokenizer_kwargs={\"src_lang\": \"de_DE\", \"tgt_lang\": \"en_XX\"},\n",
    ")\n"
   ]
  },
  {
   "cell_type": "code",
   "execution_count": null,
   "metadata": {},
   "outputs": [],
   "source": [
    "mbart_model_en_de = inseq.load_model(\n",
    "    \"facebook/mbart-large-50-many-to-many-mmt\",\n",
    "    \"attention\",\n",
    "    tokenizer_kwargs={\"src_lang\": \"en_XX\", \"tgt_lang\": \"de_DE\"},\n",
    ")\n"
   ]
  },
  {
   "cell_type": "code",
   "execution_count": null,
   "metadata": {},
   "outputs": [],
   "source": [
    "nllb_model = inseq.load_model(\n",
    "    \"facebook/nllb-200-distilled-600M\",\n",
    "    \"attention\",\n",
    "    tokenizer_kwargs={\"src_lang\": \"deu_Latn\", \"tgt_lang\": \"kor_Hang\"},\n",
    ")\n"
   ]
  },
  {
   "cell_type": "code",
   "execution_count": null,
   "metadata": {},
   "outputs": [],
   "source": [
    "out = nllb_model.attribute(\n",
    "    input_texts=ds[0:16][\"source\"],\n",
    "    generation_args={\n",
    "        \"forced_bos_token_id\": nllb_model.tokenizer.lang_code_to_id[\"kor_Hang\"]\n",
    "    },\n",
    "    attribute_target=False,\n",
    "    batch_size=8,\n",
    ")\n",
    "out.show()\n"
   ]
  },
  {
   "cell_type": "code",
   "execution_count": null,
   "metadata": {},
   "outputs": [],
   "source": [
    "# \"Helsinki-NLP/opus-mt-en-de\"\n",
    "opus_model = inseq.load_model(\"Helsinki-NLP/opus-mt-de-en\", \"attention\")\n"
   ]
  },
  {
   "cell_type": "code",
   "execution_count": null,
   "metadata": {},
   "outputs": [],
   "source": [
    "out = opus_model.attribute(\n",
    "    input_texts=ds[0:16][\"source\"], attribute_target=False, batch_size=8\n",
    ")\n",
    "out.show()\n"
   ]
  }
 ],
 "metadata": {
  "kernelspec": {
   "display_name": "Python 3 (ipykernel)",
   "language": "python",
   "name": "python3"
  },
  "language_info": {
   "codemirror_mode": {
    "name": "ipython",
    "version": 3
   },
   "file_extension": ".py",
   "mimetype": "text/x-python",
   "name": "python",
   "nbconvert_exporter": "python",
   "pygments_lexer": "ipython3",
   "version": "3.10.9"
  }
 },
 "nbformat": 4,
 "nbformat_minor": 4
}
