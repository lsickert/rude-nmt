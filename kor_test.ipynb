{
 "cells": [
  {
   "cell_type": "code",
   "execution_count": 2,
   "metadata": {},
   "outputs": [],
   "source": [
    "import re\n",
    "from rude_nmt import label_korean"
   ]
  },
  {
   "cell_type": "code",
   "execution_count": 8,
   "metadata": {},
   "outputs": [],
   "source": [
    "test_str = \"만약 최종판이 지구 온난화라면, 정말 잘하고 있는 겁습니다.\""
   ]
  },
  {
   "cell_type": "code",
   "execution_count": 4,
   "metadata": {},
   "outputs": [],
   "source": [
    "TEST_RE = re.compile(r\"\\w(?:습니다)\\b\")"
   ]
  },
  {
   "cell_type": "code",
   "execution_count": 22,
   "metadata": {},
   "outputs": [
    {
     "name": "stdout",
     "output_type": "stream",
     "text": [
      "{'stem': '겁습', 'declInd1': '니다', 'declInd2': None, 'declInd3': None, 'declInd4': None, 'declDesc': None, 'cert': None, 'intInd': None, 'intInt': None, 'imp': None, 'prop1': None, 'prop2': None, 'prop3': None, 'req': None}\n",
      "[('겁습', '니다', '', '', '', '', '', '', '', '', '', '', '', '')]\n"
     ]
    }
   ],
   "source": [
    "matches = label_korean.HASIPSIOCHE_RE.finditer(test_str)\n",
    "for match in matches:\n",
    "    print(match.groupdict())\n",
    "\n",
    "matches2 = label_korean.HASIPSIOCHE_RE.findall(test_str)\n",
    "print(matches2)"
   ]
  }
 ],
 "metadata": {
  "kernelspec": {
   "display_name": ".venv",
   "language": "python",
   "name": "python3"
  },
  "language_info": {
   "codemirror_mode": {
    "name": "ipython",
    "version": 3
   },
   "file_extension": ".py",
   "mimetype": "text/x-python",
   "name": "python",
   "nbconvert_exporter": "python",
   "pygments_lexer": "ipython3",
   "version": "3.10.9"
  },
  "orig_nbformat": 4,
  "vscode": {
   "interpreter": {
    "hash": "9ea2b68fb3360e02997fb42a3e126fee4f6f46a4333cd08cb463da23fd84daeb"
   }
  }
 },
 "nbformat": 4,
 "nbformat_minor": 2
}
