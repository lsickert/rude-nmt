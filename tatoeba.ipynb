{
 "cells": [
  {
   "cell_type": "markdown",
   "metadata": {},
   "source": [
    "# Exploring the German-Korean Tatoeba dataset\n",
    "[Github](https://github.com/Helsinki-NLP/Tatoeba-Challenge)\n",
    "\n",
    "[Huggingface](https://huggingface.co/datasets/Helsinki-NLP/tatoeba_mt)"
   ]
  },
  {
   "cell_type": "code",
   "execution_count": 22,
   "metadata": {
    "tags": []
   },
   "outputs": [],
   "source": [
    "from tatoeba import preprocess, analysis\n",
    "from rude_nmt import label_german, label_korean\n",
    "import re\n",
    "import os\n",
    "import pandas as pd\n",
    "from datasets import load_from_disk\n",
    "import spacy"
   ]
  },
  {
   "cell_type": "code",
   "execution_count": 27,
   "metadata": {},
   "outputs": [
    {
     "name": "stdout",
     "output_type": "stream",
     "text": [
      "adjective\n"
     ]
    }
   ],
   "source": [
    "nlp = spacy.load(\"ko_core_news_lg\", disable=[\"lemmatizer\"])\n",
    "print(spacy.explain(\"ADJ\"))"
   ]
  },
  {
   "cell_type": "code",
   "execution_count": null,
   "metadata": {
    "tags": []
   },
   "outputs": [],
   "source": [
    "subtitle_data = preprocess.get_subtitle_dataset(force_renew=False)"
   ]
  },
  {
   "cell_type": "code",
   "execution_count": 2,
   "metadata": {},
   "outputs": [],
   "source": [
    "subtitle_data = load_from_disk(\"data/unknown_labelled\")"
   ]
  },
  {
   "cell_type": "code",
   "execution_count": 3,
   "metadata": {
    "tags": []
   },
   "outputs": [
    {
     "name": "stdout",
     "output_type": "stream",
     "text": [
      "Dataset({\n",
      "    features: ['id', 'source', 'target', 'de_upos_tags', 'de_pos_tags', 'de_ws_tokens', 'de_sent_ids', 'de_formality', 'ko_upos_tags', 'ko_pos_tags', 'ko_ws_tokens', 'ko_sent_ids', 'ko_formality'],\n",
      "    num_rows: 996525\n",
      "})\n"
     ]
    }
   ],
   "source": [
    "len(subtitle_data)\n",
    "print(subtitle_data)\n"
   ]
  },
  {
   "cell_type": "code",
   "execution_count": null,
   "metadata": {},
   "outputs": [],
   "source": [
    "long_data = subtitle_data.filter(lambda ex: len(ex[\"de_ws_tokens\"]) > 100 or len(ex[\"ko_ws_tokens\"]) > 100, num_proc=os.cpu_count())"
   ]
  },
  {
   "cell_type": "code",
   "execution_count": null,
   "metadata": {},
   "outputs": [],
   "source": [
    "de_long = []\n",
    "for sent in long_data[\"de_ws_tokens\"]:\n",
    "    de_long.append(len(sent))\n",
    "print(list(reversed(sorted(de_long))))"
   ]
  },
  {
   "cell_type": "code",
   "execution_count": null,
   "metadata": {},
   "outputs": [],
   "source": [
    "de_long = []\n",
    "for sent in long_data[\"de_ws_tokens\"]:\n",
    "    de_long.append(len(sent))\n",
    "print(list(reversed(sorted(de_long))))"
   ]
  },
  {
   "cell_type": "code",
   "execution_count": null,
   "metadata": {},
   "outputs": [],
   "source": [
    "ko_long = []\n",
    "for sent in long_data[\"ko_ws_tokens\"]:\n",
    "    ko_long.append(len(sent))\n",
    "print(list(reversed(sorted(ko_long))))"
   ]
  },
  {
   "cell_type": "code",
   "execution_count": null,
   "metadata": {},
   "outputs": [],
   "source": [
    "ko_long = []\n",
    "for sent in long_data[\"ko_ws_tokens\"]:\n",
    "    ko_long.append(len(sent))\n",
    "print(list(reversed(sorted(ko_long))))"
   ]
  },
  {
   "cell_type": "code",
   "execution_count": null,
   "metadata": {
    "tags": []
   },
   "outputs": [],
   "source": [
    "subtitle_data = subtitle_data.map(label_german.annotate_formality, load_from_cache_file=True, num_proc=8)\n",
    "subtitle_data = subtitle_data.map(label_korean.annotate_formality, load_from_cache_file=True, num_proc=8)"
   ]
  },
  {
   "cell_type": "code",
   "execution_count": null,
   "metadata": {
    "tags": []
   },
   "outputs": [],
   "source": [
    "doc = label_german.get_pos_tags(subtitle_data[1:3])"
   ]
  },
  {
   "cell_type": "code",
   "execution_count": null,
   "metadata": {
    "tags": []
   },
   "outputs": [],
   "source": [
    "print(doc)"
   ]
  },
  {
   "cell_type": "code",
   "execution_count": null,
   "metadata": {
    "tags": []
   },
   "outputs": [],
   "source": [
    "subtitle_data = subtitle_data.map(label_german.get_pos_tags, load_from_cache_file=False, batched=True)"
   ]
  },
  {
   "cell_type": "code",
   "execution_count": null,
   "metadata": {
    "tags": []
   },
   "outputs": [],
   "source": [
    "subtitle_data.to_csv(\"./data/subtitle_data.csv\")"
   ]
  },
  {
   "cell_type": "code",
   "execution_count": null,
   "metadata": {
    "tags": []
   },
   "outputs": [],
   "source": [
    "one_word_trg = analysis.get_one_word_sentences(subtitle_data)\n",
    "print(one_word_trg)"
   ]
  },
  {
   "cell_type": "code",
   "execution_count": 4,
   "metadata": {
    "tags": []
   },
   "outputs": [],
   "source": [
    "dat = subtitle_data.to_pandas()"
   ]
  },
  {
   "cell_type": "code",
   "execution_count": 5,
   "metadata": {
    "tags": []
   },
   "outputs": [
    {
     "name": "stdout",
     "output_type": "stream",
     "text": [
      "<class 'pandas.core.frame.DataFrame'>\n",
      "RangeIndex: 996525 entries, 0 to 996524\n",
      "Data columns (total 13 columns):\n",
      " #   Column        Non-Null Count   Dtype \n",
      "---  ------        --------------   ----- \n",
      " 0   id            996525 non-null  object\n",
      " 1   source        996525 non-null  object\n",
      " 2   target        996525 non-null  object\n",
      " 3   de_upos_tags  996525 non-null  object\n",
      " 4   de_pos_tags   996525 non-null  object\n",
      " 5   de_ws_tokens  996525 non-null  object\n",
      " 6   de_sent_ids   996525 non-null  object\n",
      " 7   de_formality  996525 non-null  object\n",
      " 8   ko_upos_tags  996525 non-null  object\n",
      " 9   ko_pos_tags   996525 non-null  object\n",
      " 10  ko_ws_tokens  996525 non-null  object\n",
      " 11  ko_sent_ids   996525 non-null  object\n",
      " 12  ko_formality  996525 non-null  object\n",
      "dtypes: object(13)\n",
      "memory usage: 98.8+ MB\n"
     ]
    }
   ],
   "source": [
    "dat.info()"
   ]
  },
  {
   "cell_type": "code",
   "execution_count": 6,
   "metadata": {
    "tags": []
   },
   "outputs": [],
   "source": [
    "dat[\"de_formality\"] = dat[\"de_formality\"].astype('category')"
   ]
  },
  {
   "cell_type": "code",
   "execution_count": 9,
   "metadata": {
    "tags": []
   },
   "outputs": [
    {
     "data": {
      "image/png": "[encoded data removed]",
      "text/plain": [
       "<Figure size 640x480 with 1 Axes>"
      ]
     },
     "metadata": {},
     "output_type": "display_data"
    }
   ],
   "source": [
    "rows = len(dat.index)\n",
    "ax = dat[\"de_formality\"].value_counts().plot(kind=\"bar\")\n",
    "for p in ax.patches:\n",
    "    b = p.get_bbox()\n",
    "    ax.annotate(str(round(p.get_height()/rows * 100,2)), ((b.x0 + b.x1)/2 - 0.16, b.y1 + 8000))\n",
    "\n",
    "fig = ax.get_figure()\n",
    "fig.savefig(\"german.png\", bbox_inches=\"tight\")"
   ]
  },
  {
   "cell_type": "code",
   "execution_count": 10,
   "metadata": {
    "tags": []
   },
   "outputs": [
    {
     "data": {
      "image/png": "[encoded data removed]",
      "text/plain": [
       "<Figure size 640x480 with 1 Axes>"
      ]
     },
     "metadata": {},
     "output_type": "display_data"
    }
   ],
   "source": [
    "rows = len(dat.index)\n",
    "ax = dat[\"ko_formality\"].value_counts().plot(kind=\"bar\")\n",
    "for p in ax.patches:\n",
    "    b = p.get_bbox()\n",
    "    ax.annotate(str(round(p.get_height()/rows * 100,2)), ((b.x0 + b.x1)/2 - 0.3, b.y1 + 2500))\n",
    "\n",
    "fig = ax.get_figure()\n",
    "fig.savefig(\"korean.png\", bbox_inches=\"tight\")"
   ]
  },
  {
   "cell_type": "code",
   "execution_count": null,
   "metadata": {
    "tags": []
   },
   "outputs": [],
   "source": [
    "pd.set_option('display.max_rows', 500)"
   ]
  },
  {
   "cell_type": "code",
   "execution_count": null,
   "metadata": {
    "tags": []
   },
   "outputs": [],
   "source": [
    "print(len(dat.index))"
   ]
  },
  {
   "cell_type": "code",
   "execution_count": 7,
   "metadata": {
    "tags": []
   },
   "outputs": [
    {
     "data": {
      "text/plain": [
       "underspecified    786418\n",
       "informal          122893\n",
       "formal             86266\n",
       "ambiguous            948\n",
       "Name: de_formality, dtype: int64"
      ]
     },
     "execution_count": 7,
     "metadata": {},
     "output_type": "execute_result"
    }
   ],
   "source": [
    "dat[\"de_formality\"].value_counts()"
   ]
  },
  {
   "cell_type": "code",
   "execution_count": 8,
   "metadata": {
    "tags": []
   },
   "outputs": [
    {
     "data": {
      "text/plain": [
       "underspecified    459876\n",
       "haeche            164826\n",
       "hayoche           161710\n",
       "hasipsioche       117869\n",
       "ambiguous          57829\n",
       "haerache           25056\n",
       "hageche             7085\n",
       "haoche              2214\n",
       "hasoseoche            60\n",
       "Name: ko_formality, dtype: int64"
      ]
     },
     "execution_count": 8,
     "metadata": {},
     "output_type": "execute_result"
    }
   ],
   "source": [
    "dat[\"ko_formality\"].value_counts()"
   ]
  },
  {
   "cell_type": "code",
   "execution_count": null,
   "metadata": {
    "tags": []
   },
   "outputs": [],
   "source": [
    "dat.head(10)"
   ]
  },
  {
   "cell_type": "code",
   "execution_count": 11,
   "metadata": {
    "tags": []
   },
   "outputs": [],
   "source": [
    "amb_dat = dat[dat[\"ko_formality\"].str.match(\"underspecified\")]"
   ]
  },
  {
   "cell_type": "code",
   "execution_count": 29,
   "metadata": {
    "tags": []
   },
   "outputs": [],
   "source": [
    "amb_dat[[\"ko_pos_tags\", \"ko_upos_tags\",\"ko_ws_tokens\",\"target\"]].head(100).to_csv(\"ambiguity.csv\")"
   ]
  }
 ],
 "metadata": {
  "kernelspec": {
   "display_name": "Python 3 (ipykernel)",
   "language": "python",
   "name": "python3"
  },
  "language_info": {
   "codemirror_mode": {
    "name": "ipython",
    "version": 3
   },
   "file_extension": ".py",
   "mimetype": "text/x-python",
   "name": "python",
   "nbconvert_exporter": "python",
   "pygments_lexer": "ipython3",
   "version": "3.10.9"
  },
  "vscode": {
   "interpreter": {
    "hash": "9ea2b68fb3360e02997fb42a3e126fee4f6f46a4333cd08cb463da23fd84daeb"
   }
  }
 },
 "nbformat": 4,
 "nbformat_minor": 4
}
