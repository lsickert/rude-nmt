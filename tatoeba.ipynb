{
 "cells": [
  {
   "cell_type": "markdown",
   "metadata": {},
   "source": [
    "# Exploring the German-Korean Tatoeba dataset\n",
    "[Github](https://github.com/Helsinki-NLP/Tatoeba-Challenge)\n",
    "\n",
    "[Huggingface](https://huggingface.co/datasets/Helsinki-NLP/tatoeba_mt)"
   ]
  },
  {
   "cell_type": "code",
   "execution_count": 2,
   "metadata": {
    "tags": []
   },
   "outputs": [],
   "source": [
    "from tatoeba import preprocess, analysis\n",
    "from rude_nmt import label_german, label_korean\n",
    "import re\n",
    "import os\n",
    "import pandas as pd\n",
    "from datasets import load_from_disk\n",
    "import spacy"
   ]
  },
  {
   "cell_type": "code",
   "execution_count": 27,
   "metadata": {},
   "outputs": [
    {
     "name": "stdout",
     "output_type": "stream",
     "text": [
      "adjective\n"
     ]
    }
   ],
   "source": [
    "nlp = spacy.load(\"ko_core_news_lg\", disable=[\"lemmatizer\"])\n",
    "print(spacy.explain(\"ADJ\"))"
   ]
  },
  {
   "cell_type": "code",
   "execution_count": null,
   "metadata": {
    "tags": []
   },
   "outputs": [],
   "source": [
    "subtitle_data = preprocess.get_subtitle_dataset(force_renew=False)"
   ]
  },
  {
   "cell_type": "code",
   "execution_count": 3,
   "metadata": {},
   "outputs": [
    {
     "name": "stderr",
     "output_type": "stream",
     "text": [
      "Found cached dataset csv (/Users/lsickert/.cache/huggingface/datasets/csv/data-161199d54979d516/0.0.0/6954658bab30a358235fa864b05cf819af0e179325c740e4bc853bcc7ec513e1)\n"
     ]
    },
    {
     "data": {
      "application/vnd.jupyter.widget-view+json": {
       "model_id": "644d759ad64f4e62bfacedf728cb4e49",
       "version_major": 2,
       "version_minor": 0
      },
      "text/plain": [
       "  0%|          | 0/3 [00:00<?, ?it/s]"
      ]
     },
     "metadata": {},
     "output_type": "display_data"
    },
    {
     "data": {
      "application/vnd.jupyter.widget-view+json": {
       "model_id": "827722cebafb493eb6c179c7ecd7c377",
       "version_major": 2,
       "version_minor": 0
      },
      "text/plain": [
       "Filter (num_proc=10):   0%|          | 0/14391527 [00:00<?, ? examples/s]"
      ]
     },
     "metadata": {},
     "output_type": "display_data"
    },
    {
     "name": "stderr",
     "output_type": "stream",
     "text": [
      "num_proc must be <= 9. Reducing num_proc to 9 for dataset of size 9.\n"
     ]
    },
    {
     "data": {
      "application/vnd.jupyter.widget-view+json": {
       "model_id": "740f61e65a4e4daa9b1fd4cea65fbd00",
       "version_major": 2,
       "version_minor": 0
      },
      "text/plain": [
       "Filter (num_proc=9):   0%|          | 0/9 [00:00<?, ? examples/s]"
      ]
     },
     "metadata": {},
     "output_type": "display_data"
    },
    {
     "data": {
      "application/vnd.jupyter.widget-view+json": {
       "model_id": "f63e1c809bd242ed9de5b148b5afd32c",
       "version_major": 2,
       "version_minor": 0
      },
      "text/plain": [
       "Filter (num_proc=10):   0%|          | 0/1104 [00:00<?, ? examples/s]"
      ]
     },
     "metadata": {},
     "output_type": "display_data"
    },
    {
     "name": "stdout",
     "output_type": "stream",
     "text": [
      "#### removed {'train': 39, 'dev': 10, 'test': 0} old cache files ####\n"
     ]
    }
   ],
   "source": [
    "data = preprocess.get_dataset()"
   ]
  },
  {
   "cell_type": "code",
   "execution_count": 4,
   "metadata": {},
   "outputs": [],
   "source": [
    "full_dat = data[\"train\"].to_pandas()"
   ]
  },
  {
   "cell_type": "code",
   "execution_count": 5,
   "metadata": {},
   "outputs": [
    {
     "data": {
      "text/plain": [
       "CCMatrix-v1\\tdeu\\tkor_Hang            7507536\n",
       "MultiCCAligned-v1.1\\tdeu\\tkor_Hang    1752335\n",
       "MultiCCAligned-v1.1\\tdeu\\tkor          721752\n",
       "CCMatrix-v1\\tdeu\\tkor_Latn             701077\n",
       "MultiParaCrawl-v8\\tdeu\\tkor_Hang       687449\n",
       "                                       ...   \n",
       "MultiCCAligned-v1.1\\tdeu\\tkor_Rohg          1\n",
       "CCMatrix-v1\\tdeu\\tkor_Guru                  1\n",
       "MultiParaCrawl-v8\\tdeu\\tkor_Hani            1\n",
       "MultiCCAligned-v1.1\\tdeu\\tkor_Nand          1\n",
       "GlobalVoices-v2018q4\\tdeu\\tkor              1\n",
       "Name: id, Length: 125, dtype: int64"
      ]
     },
     "execution_count": 5,
     "metadata": {},
     "output_type": "execute_result"
    }
   ],
   "source": [
    "full_dat[\"id\"].value_counts()"
   ]
  },
  {
   "cell_type": "code",
   "execution_count": 7,
   "metadata": {},
   "outputs": [
    {
     "data": {
      "text/plain": [
       "['CCMatrix-v1\\tdeu\\tkor_Hang',\n",
       " 'MultiCCAligned-v1.1\\tdeu\\tkor_Hang',\n",
       " 'CCMatrix-v1\\tdeu\\tkor_Latn',\n",
       " 'OpenSubtitles-v2018\\tdeu\\tkor_Hang',\n",
       " 'XLEnt-v1.1\\tdeu\\tkor_Hang',\n",
       " 'JW300-v1c\\tdeu\\tkor_Hang',\n",
       " 'CCMatrix-v1\\tdeu\\tkor',\n",
       " 'MultiCCAligned-v1.1\\tdeu\\tkor',\n",
       " 'MultiParaCrawl-v8\\tdeu\\tkor_Hang',\n",
       " 'MultiCCAligned-v1.1\\tdeu\\tkor_Latn',\n",
       " 'WikiMatrix-v1\\tdeu\\tkor_Hang',\n",
       " 'MultiParaCrawl-v8\\tdeu\\tkor_Latn',\n",
       " 'JW300-v1c\\tdeu\\tkor',\n",
       " 'TED2020-v1\\tdeu\\tkor_Hang',\n",
       " 'WikiMatrix-v1\\tdeu\\tkor',\n",
       " 'MultiCCAligned-v1.1\\tdeu\\tkor_Grek',\n",
       " 'Mozilla-I10n-v1\\tdeu\\tkor_Hang',\n",
       " 'QED-v2.0a\\tdeu\\tkor_Hang',\n",
       " 'OpenSubtitles-v2018\\tdeu\\tkor',\n",
       " 'Tanzil-v1\\tdeu\\tkor_Hang',\n",
       " 'KDE4-v2\\tdeu\\tkor_Latn',\n",
       " 'bible-uedin-v1\\tdeu\\tkor_Hang',\n",
       " 'QED-v2.0a\\tdeu\\tkor',\n",
       " 'CCMatrix-v1\\tdeu\\tkor_Hani',\n",
       " 'KDE4-v2\\tdeu\\tkor_Hang',\n",
       " 'XLEnt-v1.1\\tdeu\\tkor_Latn',\n",
       " 'MultiCCAligned-v1.1\\tdeu\\tkor_Hira',\n",
       " 'XLEnt-v1.1\\tdeu\\tkor',\n",
       " 'GNOME-v1\\tdeu\\tkor_Hang',\n",
       " 'CCMatrix-v1\\tdeu\\tkor_Yiii',\n",
       " 'OpenSubtitles-v2018\\tdeu\\tkor_Latn',\n",
       " 'JW300-v1c\\tdeu\\tkor_Yiii',\n",
       " 'TED2020-v1\\tdeu\\tkor',\n",
       " 'Mozilla-I10n-v1\\tdeu\\tkor_Latn',\n",
       " 'CCMatrix-v1\\tdeu\\tkor_Kana',\n",
       " 'PHP-v1\\tdeu\\tkor_Hang',\n",
       " 'CCMatrix-v1\\tdeu\\tkor_Hira',\n",
       " 'GlobalVoices-v2018q4\\tdeu\\tkor_Hang',\n",
       " 'MultiParaCrawl-v8\\tdeu\\tkor',\n",
       " 'WikiMatrix-v1\\tdeu\\tkor_Latn',\n",
       " 'KDE4-v2\\tdeu\\tkor',\n",
       " 'CCMatrix-v1\\tdeu\\tkor_Zinh',\n",
       " 'JW300-v1c\\tdeu\\tkor_Bopo',\n",
       " 'JW300-v1c\\tdeu\\tkor_Hani',\n",
       " 'CCMatrix-v1\\tdeu\\tkor_Bopo',\n",
       " 'WikiMatrix-v1\\tdeu\\tkor_Hira',\n",
       " 'Ubuntu-v14.10\\tdeu\\tkor_Latn',\n",
       " 'Ubuntu-v14.10\\tdeu\\tkor_Hang',\n",
       " 'WikiMatrix-v1\\tdeu\\tkor_Hani',\n",
       " 'MultiCCAligned-v1.1\\tdeu\\tkor_Hani',\n",
       " 'bible-uedin-v1\\tdeu\\tkor',\n",
       " 'QED-v2.0a\\tdeu\\tkor_Latn',\n",
       " 'XLEnt-v1.1\\tdeu\\tkor_Kana',\n",
       " 'wikimedia-v20210402\\tdeu\\tkor_Hang',\n",
       " 'MultiCCAligned-v1.1\\tdeu\\tkor_Kana',\n",
       " 'WikiMatrix-v1\\tdeu\\tkor_Cyrl',\n",
       " 'MultiCCAligned-v1.1\\tdeu\\tkor_Cyrl',\n",
       " 'Mozilla-I10n-v1\\tdeu\\tkor',\n",
       " 'WikiMatrix-v1\\tdeu\\tkor_Kana',\n",
       " 'TED2020-v1\\tdeu\\tkor_Latn',\n",
       " 'MultiCCAligned-v1.1\\tdeu\\tkor_Hebr',\n",
       " 'PHP-v1\\tdeu\\tkor_Latn',\n",
       " 'JW300-v1c\\tdeu\\tkor_Latn',\n",
       " 'XLEnt-v1.1\\tdeu\\tkor_Hani',\n",
       " 'CCMatrix-v1\\tdeu\\tkor_Thai',\n",
       " 'CCMatrix-v1\\tdeu\\tkor_Cyrl',\n",
       " 'Ubuntu-v14.10\\tdeu\\tkor',\n",
       " 'PHP-v1\\tdeu\\tkor',\n",
       " 'MultiCCAligned-v1.1\\tdeu\\tkor_Arab',\n",
       " 'wikimedia-v20210402\\tdeu\\tkor_Latn',\n",
       " 'Ubuntu-v14.10\\tdeu_AT\\tkor_Hang',\n",
       " 'CCMatrix-v1\\tdeu\\tkor_Brai',\n",
       " 'CCMatrix-v1\\tdeu\\tkor_Arab',\n",
       " 'XLEnt-v1.1\\tdeu\\tkor_Hebr',\n",
       " 'MultiCCAligned-v1.1\\tdeu\\tkor_Ethi',\n",
       " 'CCMatrix-v1\\tdeu\\tkor_Ethi',\n",
       " 'XLEnt-v1.1\\tdeu\\tkor_Bopo',\n",
       " 'GNOME-v1\\tdeu\\tkor',\n",
       " 'CCMatrix-v1\\tdeu\\tkor_Deva',\n",
       " 'CCMatrix-v1\\tdeu\\tkor_Nand',\n",
       " 'CCMatrix-v1\\tdeu\\tkor_Hebr',\n",
       " 'wikimedia-v20210402\\tdeu\\tkor',\n",
       " 'XLEnt-v1.1\\tdeu\\tkor_Cyrl',\n",
       " 'CCMatrix-v1\\tdeu\\tkor_Orya',\n",
       " 'CCMatrix-v1\\tdeu\\tkor_Khoj',\n",
       " 'CCMatrix-v1\\tdeu\\tkor_Mong',\n",
       " 'MultiCCAligned-v1.1\\tdeu\\tkor_Rohg',\n",
       " 'GNOME-v1\\tdeu\\tkor_Latn',\n",
       " 'CCMatrix-v1\\tdeu\\tkor_Dogr',\n",
       " 'XLEnt-v1.1\\tdeu\\tkor_Ethi',\n",
       " 'CCMatrix-v1\\tdeu\\tkor_Gong',\n",
       " 'WikiMatrix-v1\\tdeu\\tkor_Arab',\n",
       " 'MultiCCAligned-v1.1\\tdeu\\tkor_Zinh',\n",
       " 'MultiCCAligned-v1.1\\tdeu\\tkor_Sylo',\n",
       " 'CCMatrix-v1\\tdeu\\tkor_Grek',\n",
       " 'OpenSubtitles-v2018\\tdeu\\tkor_Hira',\n",
       " 'OpenSubtitles-v2018\\tdeu\\tkor_Hani',\n",
       " 'MultiParaCrawl-v8\\tdeu\\tkor_Hani',\n",
       " 'MultiCCAligned-v1.1\\tdeu\\tkor_Nand',\n",
       " 'CCMatrix-v1\\tdeu\\tkor_Armn',\n",
       " 'GlobalVoices-v2018q4\\tdeu\\tkor_Latn',\n",
       " 'CCMatrix-v1\\tdeu\\tkor_Thaa',\n",
       " 'WikiMatrix-v1\\tdeu\\tkor_Grek',\n",
       " 'CCMatrix-v1\\tdeu\\tkor_Knda',\n",
       " 'MultiCCAligned-v1.1\\tdeu\\tkor_Thai',\n",
       " 'XLEnt-v1.1\\tdeu\\tkor_Arab',\n",
       " 'CCMatrix-v1\\tdeu\\tkor_Guru',\n",
       " 'CCMatrix-v1\\tdeu\\tkor_Gujr',\n",
       " 'CCMatrix-v1\\tdeu\\tkor_Beng',\n",
       " 'CCMatrix-v1\\tdeu\\tkor_Tibt',\n",
       " 'MultiCCAligned-v1.1\\tdeu\\tkor_Cher',\n",
       " 'CCMatrix-v1\\tdeu_Hang\\tkor_Hang',\n",
       " 'CCMatrix-v1\\tdeu\\tkor_Telu',\n",
       " 'CCMatrix-v1\\tdeu\\tkor_Syrc',\n",
       " 'Ubuntu-v14.10\\tdeu_AT\\tkor',\n",
       " 'CCMatrix-v1\\tdeu\\tkor_Cher',\n",
       " 'WikiMatrix-v1\\tdeu\\tkor_Hebr',\n",
       " 'CCMatrix-v1\\tdeu\\tkor_Cans',\n",
       " 'MultiCCAligned-v1.1\\tdeu\\tkor_Dogr',\n",
       " 'Ubuntu-v14.10\\tdeu_AT\\tkor_Latn',\n",
       " 'MultiCCAligned-v1.1\\tdeu\\tkor_Brai',\n",
       " 'TED2020-v1\\tdeu\\tkor_Hani',\n",
       " 'CCMatrix-v1\\tdeu\\tkor_Mand',\n",
       " 'CCMatrix-v1\\tdeu\\tkor_Geor',\n",
       " 'GlobalVoices-v2018q4\\tdeu\\tkor']"
      ]
     },
     "execution_count": 7,
     "metadata": {},
     "output_type": "execute_result"
    }
   ],
   "source": [
    "list(full_dat[\"id\"].unique())"
   ]
  },
  {
   "cell_type": "code",
   "execution_count": 2,
   "metadata": {},
   "outputs": [],
   "source": [
    "subtitle_data = load_from_disk(\"data/tatoeba_labelled\")"
   ]
  },
  {
   "cell_type": "code",
   "execution_count": 3,
   "metadata": {
    "tags": []
   },
   "outputs": [
    {
     "name": "stdout",
     "output_type": "stream",
     "text": [
      "Dataset({\n",
      "    features: ['id', 'source', 'target', 'upos_tags_source', 'pos_tags_source', 'ws_tokens_source', 'sent_ids_source', 'de_formality', 'upos_tags_target', 'pos_tags_target', 'ws_tokens_target', 'sent_ids_target', 'ko_formality'],\n",
      "    num_rows: 996350\n",
      "})\n"
     ]
    }
   ],
   "source": [
    "len(subtitle_data)\n",
    "print(subtitle_data)\n"
   ]
  },
  {
   "cell_type": "code",
   "execution_count": null,
   "metadata": {},
   "outputs": [],
   "source": [
    "long_data = subtitle_data.filter(lambda ex: len(ex[\"de_ws_tokens\"]) > 100 or len(ex[\"ko_ws_tokens\"]) > 100, num_proc=os.cpu_count())"
   ]
  },
  {
   "cell_type": "code",
   "execution_count": null,
   "metadata": {},
   "outputs": [],
   "source": [
    "de_long = []\n",
    "for sent in long_data[\"de_ws_tokens\"]:\n",
    "    de_long.append(len(sent))\n",
    "print(list(reversed(sorted(de_long))))"
   ]
  },
  {
   "cell_type": "code",
   "execution_count": null,
   "metadata": {},
   "outputs": [],
   "source": [
    "de_long = []\n",
    "for sent in long_data[\"de_ws_tokens\"]:\n",
    "    de_long.append(len(sent))\n",
    "print(list(reversed(sorted(de_long))))"
   ]
  },
  {
   "cell_type": "code",
   "execution_count": null,
   "metadata": {},
   "outputs": [],
   "source": [
    "ko_long = []\n",
    "for sent in long_data[\"ko_ws_tokens\"]:\n",
    "    ko_long.append(len(sent))\n",
    "print(list(reversed(sorted(ko_long))))"
   ]
  },
  {
   "cell_type": "code",
   "execution_count": null,
   "metadata": {},
   "outputs": [],
   "source": [
    "ko_long = []\n",
    "for sent in long_data[\"ko_ws_tokens\"]:\n",
    "    ko_long.append(len(sent))\n",
    "print(list(reversed(sorted(ko_long))))"
   ]
  },
  {
   "cell_type": "code",
   "execution_count": null,
   "metadata": {
    "tags": []
   },
   "outputs": [],
   "source": [
    "subtitle_data = subtitle_data.map(label_german.annotate_formality, load_from_cache_file=True, num_proc=8)\n",
    "subtitle_data = subtitle_data.map(label_korean.annotate_formality, load_from_cache_file=True, num_proc=8)"
   ]
  },
  {
   "cell_type": "code",
   "execution_count": null,
   "metadata": {
    "tags": []
   },
   "outputs": [],
   "source": [
    "doc = label_german.get_pos_tags(subtitle_data[1:3])"
   ]
  },
  {
   "cell_type": "code",
   "execution_count": null,
   "metadata": {
    "tags": []
   },
   "outputs": [],
   "source": [
    "print(doc)"
   ]
  },
  {
   "cell_type": "code",
   "execution_count": null,
   "metadata": {
    "tags": []
   },
   "outputs": [],
   "source": [
    "subtitle_data = subtitle_data.map(label_german.get_pos_tags, load_from_cache_file=False, batched=True)"
   ]
  },
  {
   "cell_type": "code",
   "execution_count": null,
   "metadata": {
    "tags": []
   },
   "outputs": [],
   "source": [
    "subtitle_data.to_csv(\"./data/subtitle_data.csv\")"
   ]
  },
  {
   "cell_type": "code",
   "execution_count": null,
   "metadata": {
    "tags": []
   },
   "outputs": [],
   "source": [
    "one_word_trg = analysis.get_one_word_sentences(subtitle_data)\n",
    "print(one_word_trg)"
   ]
  },
  {
   "cell_type": "code",
   "execution_count": 4,
   "metadata": {
    "tags": []
   },
   "outputs": [],
   "source": [
    "dat = subtitle_data.to_pandas()"
   ]
  },
  {
   "cell_type": "code",
   "execution_count": 5,
   "metadata": {
    "tags": []
   },
   "outputs": [
    {
     "name": "stdout",
     "output_type": "stream",
     "text": [
      "<class 'pandas.core.frame.DataFrame'>\n",
      "RangeIndex: 996350 entries, 0 to 996349\n",
      "Data columns (total 13 columns):\n",
      " #   Column            Non-Null Count   Dtype \n",
      "---  ------            --------------   ----- \n",
      " 0   id                996350 non-null  object\n",
      " 1   source            996350 non-null  object\n",
      " 2   target            996350 non-null  object\n",
      " 3   upos_tags_source  996350 non-null  object\n",
      " 4   pos_tags_source   996350 non-null  object\n",
      " 5   ws_tokens_source  996350 non-null  object\n",
      " 6   sent_ids_source   996350 non-null  object\n",
      " 7   de_formality      996350 non-null  object\n",
      " 8   upos_tags_target  996350 non-null  object\n",
      " 9   pos_tags_target   996350 non-null  object\n",
      " 10  ws_tokens_target  996350 non-null  object\n",
      " 11  sent_ids_target   996350 non-null  object\n",
      " 12  ko_formality      996350 non-null  object\n",
      "dtypes: object(13)\n",
      "memory usage: 98.8+ MB\n"
     ]
    }
   ],
   "source": [
    "dat.info()"
   ]
  },
  {
   "cell_type": "code",
   "execution_count": 6,
   "metadata": {
    "tags": []
   },
   "outputs": [],
   "source": [
    "dat[\"de_formality\"] = dat[\"de_formality\"].astype('category')"
   ]
  },
  {
   "cell_type": "code",
   "execution_count": 7,
   "metadata": {
    "tags": []
   },
   "outputs": [
    {
     "data": {
      "image/png": "[encoded data removed]",
      "text/plain": [
       "<Figure size 640x480 with 1 Axes>"
      ]
     },
     "metadata": {},
     "output_type": "display_data"
    }
   ],
   "source": [
    "rows = len(dat.index)\n",
    "ax = dat[\"de_formality\"].value_counts().plot(kind=\"bar\")\n",
    "for p in ax.patches:\n",
    "    b = p.get_bbox()\n",
    "    ax.annotate(str(round(p.get_height()/rows * 100,2)), ((b.x0 + b.x1)/2 - 0.16, b.y1 + 8000))\n",
    "\n",
    "fig = ax.get_figure()\n",
    "fig.savefig(\"german.png\", bbox_inches=\"tight\")"
   ]
  },
  {
   "cell_type": "code",
   "execution_count": 8,
   "metadata": {
    "tags": []
   },
   "outputs": [
    {
     "data": {
      "image/png": "[encoded data removed]",
      "text/plain": [
       "<Figure size 640x480 with 1 Axes>"
      ]
     },
     "metadata": {},
     "output_type": "display_data"
    }
   ],
   "source": [
    "rows = len(dat.index)\n",
    "ax = dat[\"ko_formality\"].value_counts().plot(kind=\"bar\")\n",
    "for p in ax.patches:\n",
    "    b = p.get_bbox()\n",
    "    ax.annotate(str(round(p.get_height()/rows * 100,2)), ((b.x0 + b.x1)/2 - 0.3, b.y1 + 2500))\n",
    "\n",
    "fig = ax.get_figure()\n",
    "fig.savefig(\"korean.png\", bbox_inches=\"tight\")"
   ]
  },
  {
   "cell_type": "code",
   "execution_count": 9,
   "metadata": {
    "tags": []
   },
   "outputs": [],
   "source": [
    "pd.set_option('display.max_rows', 500)"
   ]
  },
  {
   "cell_type": "code",
   "execution_count": 10,
   "metadata": {
    "tags": []
   },
   "outputs": [
    {
     "name": "stdout",
     "output_type": "stream",
     "text": [
      "996350\n"
     ]
    }
   ],
   "source": [
    "print(len(dat.index))"
   ]
  },
  {
   "cell_type": "code",
   "execution_count": 11,
   "metadata": {
    "tags": []
   },
   "outputs": [
    {
     "data": {
      "text/plain": [
       "underspecified    786347\n",
       "informal          122849\n",
       "formal             86226\n",
       "ambiguous            928\n",
       "Name: de_formality, dtype: int64"
      ]
     },
     "execution_count": 11,
     "metadata": {},
     "output_type": "execute_result"
    }
   ],
   "source": [
    "dat[\"de_formality\"].value_counts()"
   ]
  },
  {
   "cell_type": "code",
   "execution_count": 12,
   "metadata": {
    "tags": []
   },
   "outputs": [
    {
     "data": {
      "text/plain": [
       "underspecified    461786\n",
       "haeche            205143\n",
       "hayoche           141897\n",
       "hasipsioche        80805\n",
       "ambiguous          61451\n",
       "haerache           35211\n",
       "hageche             7291\n",
       "haoche              2664\n",
       "hasoseoche           102\n",
       "Name: ko_formality, dtype: int64"
      ]
     },
     "execution_count": 12,
     "metadata": {},
     "output_type": "execute_result"
    }
   ],
   "source": [
    "dat[\"ko_formality\"].value_counts()"
   ]
  },
  {
   "cell_type": "code",
   "execution_count": 13,
   "metadata": {
    "tags": []
   },
   "outputs": [
    {
     "data": {
      "text/html": [
       "<div>\n",
       "<style scoped>\n",
       "    .dataframe tbody tr th:only-of-type {\n",
       "        vertical-align: middle;\n",
       "    }\n",
       "\n",
       "    .dataframe tbody tr th {\n",
       "        vertical-align: top;\n",
       "    }\n",
       "\n",
       "    .dataframe thead th {\n",
       "        text-align: right;\n",
       "    }\n",
       "</style>\n",
       "<table border=\"1\" class=\"dataframe\">\n",
       "  <thead>\n",
       "    <tr style=\"text-align: right;\">\n",
       "      <th></th>\n",
       "      <th>id</th>\n",
       "      <th>source</th>\n",
       "      <th>target</th>\n",
       "      <th>upos_tags_source</th>\n",
       "      <th>pos_tags_source</th>\n",
       "      <th>ws_tokens_source</th>\n",
       "      <th>sent_ids_source</th>\n",
       "      <th>de_formality</th>\n",
       "      <th>upos_tags_target</th>\n",
       "      <th>pos_tags_target</th>\n",
       "      <th>ws_tokens_target</th>\n",
       "      <th>sent_ids_target</th>\n",
       "      <th>ko_formality</th>\n",
       "    </tr>\n",
       "  </thead>\n",
       "  <tbody>\n",
       "    <tr>\n",
       "      <th>0</th>\n",
       "      <td>OpenSubtitles-v2018\\tdeu\\tkor_Hang</td>\n",
       "      <td>Weil ... du sie sehr geliebt hast und sie dir ...</td>\n",
       "      <td>당신이... 할머닐 너무 사랑하고 그리워했기 때문에요?</td>\n",
       "      <td>[SCONJ, PUNCT, PRON, PRON, ADV, VERB, AUX, CCO...</td>\n",
       "      <td>[KOUS, $(, PPER, PPER, ADV, VVPP, VAFIN, KON, ...</td>\n",
       "      <td>[Weil, ..., du, sie, sehr, geliebt, hast, und,...</td>\n",
       "      <td>[0, 0, 0, 0, 0, 0, 0, 0, 0, 0, 0, 0, 0]</td>\n",
       "      <td>informal</td>\n",
       "      <td>[PRON, PUNCT, VERB, ADV, CCONJ, AUX, VERB, PUNCT]</td>\n",
       "      <td>[npp+jcs, sf, pvg+etm, mag, ncpa+xsv+ecc, px+e...</td>\n",
       "      <td>[당신이, ..., 할머닐, 너무, 사랑하고, 그리워했기, 때문에요, ?]</td>\n",
       "      <td>[0, 0, 0, 0, 0, 0, 0, 0]</td>\n",
       "      <td>underspecified</td>\n",
       "    </tr>\n",
       "    <tr>\n",
       "      <th>1</th>\n",
       "      <td>OpenSubtitles-v2018\\tdeu\\tkor_Hang</td>\n",
       "      <td>Carol, hier ist Vincent. Sag nichts. Hör bloß zu.</td>\n",
       "      <td>캐럴, 나야 빈센트 말하지 말고 들어</td>\n",
       "      <td>[PROPN, PUNCT, ADV, AUX, PROPN, PUNCT, VERB, P...</td>\n",
       "      <td>[NE, $,, ADV, VAFIN, NE, $., VVIMP, PIS, $., V...</td>\n",
       "      <td>[Carol, ,, hier, ist, Vincent, ., Sag, nichts,...</td>\n",
       "      <td>[0, 0, 0, 0, 0, 0, 1, 1, 1, 2, 2, 2, 2]</td>\n",
       "      <td>underspecified</td>\n",
       "      <td>[NOUN, PUNCT, ADV, PROPN, VERB, CCONJ, SCONJ]</td>\n",
       "      <td>[ncn, sp, npp+jca, nq, pvg+ecx, px+ecc, pvg+ecs]</td>\n",
       "      <td>[캐럴, ,, 나야, 빈센트, 말하지, 말고, 들어]</td>\n",
       "      <td>[0, 0, 0, 0, 0, 0, 0]</td>\n",
       "      <td>haeche</td>\n",
       "    </tr>\n",
       "    <tr>\n",
       "      <th>2</th>\n",
       "      <td>OpenSubtitles-v2018\\tdeu\\tkor_Hang</td>\n",
       "      <td>Yay! Yay!</td>\n",
       "      <td>만번째세요!</td>\n",
       "      <td>[PROPN, PUNCT, PROPN, PUNCT]</td>\n",
       "      <td>[NE, $., NE, $.]</td>\n",
       "      <td>[Yay, !, Yay, !]</td>\n",
       "      <td>[0, 0, 1, 1]</td>\n",
       "      <td>underspecified</td>\n",
       "      <td>[VERB, PUNCT]</td>\n",
       "      <td>[ncn+jp+ef, sf]</td>\n",
       "      <td>[만번째세요, !]</td>\n",
       "      <td>[0, 0]</td>\n",
       "      <td>underspecified</td>\n",
       "    </tr>\n",
       "    <tr>\n",
       "      <th>3</th>\n",
       "      <td>OpenSubtitles-v2018\\tdeu\\tkor_Hang</td>\n",
       "      <td>Sie müssen mir helfen. Ich brauche Ihre Hilfe....</td>\n",
       "      <td>나도 그러고는 싶네만..</td>\n",
       "      <td>[PRON, AUX, PRON, VERB, PUNCT, PRON, VERB, DET...</td>\n",
       "      <td>[PPER, VMFIN, PPER, VVINF, $., PPER, VVFIN, PP...</td>\n",
       "      <td>[Sie, müssen, mir, helfen, ., Ich, brauche, Ih...</td>\n",
       "      <td>[0, 0, 0, 0, 0, 1, 1, 1, 1, 1, 2, 3, 3]</td>\n",
       "      <td>formal</td>\n",
       "      <td>[ADV, NOUN, ADV, VERB]</td>\n",
       "      <td>[npp+jxc, mag+jxt, paa+etn+jxc, pvg+ef]</td>\n",
       "      <td>[나도, 그러고는, 싶네만, ..]</td>\n",
       "      <td>[0, 0, 0, 0]</td>\n",
       "      <td>underspecified</td>\n",
       "    </tr>\n",
       "    <tr>\n",
       "      <th>4</th>\n",
       "      <td>OpenSubtitles-v2018\\tdeu\\tkor_Hang</td>\n",
       "      <td>Wir müssen herausfinden, wo die Tests sind.</td>\n",
       "      <td>어디로 가려는 거야? 시험 결과를 보관해 놓은 곳을 찾아야 해</td>\n",
       "      <td>[PRON, AUX, VERB, PUNCT, SCONJ, DET, NOUN, AUX...</td>\n",
       "      <td>[PPER, VMFIN, VVINF, $,, PWAV, ART, NN, VAFIN,...</td>\n",
       "      <td>[Wir, müssen, herausfinden, ,, wo, die, Tests,...</td>\n",
       "      <td>[0, 0, 0, 0, 0, 0, 0, 0, 0]</td>\n",
       "      <td>underspecified</td>\n",
       "      <td>[ADV, VERB, VERB, PUNCT, NOUN, NOUN, VERB, AUX...</td>\n",
       "      <td>[npd+jca, pvg+etm, nbn+jp+ef, sf, ncpa, ncn+jc...</td>\n",
       "      <td>[어디로, 가려는, 거야, ?, 시험, 결과를, 보관해, 놓은, 곳을, 찾아야, 해]</td>\n",
       "      <td>[0, 0, 0, 0, 1, 1, 1, 1, 1, 1, 1]</td>\n",
       "      <td>haeche</td>\n",
       "    </tr>\n",
       "    <tr>\n",
       "      <th>5</th>\n",
       "      <td>OpenSubtitles-v2018\\tdeu\\tkor_Hang</td>\n",
       "      <td>Denken Sie, wir können ihr helfen?</td>\n",
       "      <td>우리가 도울 수 있을까요?</td>\n",
       "      <td>[VERB, PRON, PUNCT, PRON, AUX, PRON, VERB, PUNCT]</td>\n",
       "      <td>[VVFIN, PPER, $,, PPER, VMFIN, PPER, VVINF, $.]</td>\n",
       "      <td>[Denken, Sie, ,, wir, können, ihr, helfen, ?]</td>\n",
       "      <td>[0, 0, 0, 0, 0, 0, 0, 0]</td>\n",
       "      <td>formal</td>\n",
       "      <td>[PRON, VERB, NOUN, VERB, PUNCT]</td>\n",
       "      <td>[npp+jcs, pvg+etm, nbn, paa+ef+jxf, sf]</td>\n",
       "      <td>[우리가, 도울, 수, 있을까요, ?]</td>\n",
       "      <td>[0, 0, 0, 0, 0]</td>\n",
       "      <td>hayoche</td>\n",
       "    </tr>\n",
       "    <tr>\n",
       "      <th>6</th>\n",
       "      <td>OpenSubtitles-v2018\\tdeu\\tkor_Hang</td>\n",
       "      <td>Du bist nicht alleine. Dieser Raum ist zum Beten.</td>\n",
       "      <td>가자 아가야 넌 혼자가 아냐</td>\n",
       "      <td>[PRON, AUX, PART, ADV, PUNCT, DET, NOUN, AUX, ...</td>\n",
       "      <td>[PPER, VAFIN, PTKNEG, ADV, $., PDAT, NN, VAFIN...</td>\n",
       "      <td>[Du, bist, nicht, alleine, ., Dieser, Raum, is...</td>\n",
       "      <td>[0, 0, 0, 0, 0, 1, 1, 1, 1, 1, 1]</td>\n",
       "      <td>informal</td>\n",
       "      <td>[SCONJ, ADV, PRON, NOUN, SCONJ]</td>\n",
       "      <td>[pvg+ecs, nq, npp+jxt, ncn+jcc, paa+ef]</td>\n",
       "      <td>[가자, 아가야, 넌, 혼자가, 아냐]</td>\n",
       "      <td>[0, 0, 0, 0, 0]</td>\n",
       "      <td>haerache</td>\n",
       "    </tr>\n",
       "    <tr>\n",
       "      <th>7</th>\n",
       "      <td>OpenSubtitles-v2018\\tdeu\\tkor_Hang</td>\n",
       "      <td>Was hast du gekauft? Einen Haufen Zeug.</td>\n",
       "      <td>웰빙 마트로 갔어?</td>\n",
       "      <td>[PRON, AUX, PRON, VERB, PUNCT, DET, NOUN, NOUN...</td>\n",
       "      <td>[PWS, VAFIN, PPER, VVPP, $., ART, NN, NN, $.]</td>\n",
       "      <td>[Was, hast, du, gekauft, ?, Einen, Haufen, Zeu...</td>\n",
       "      <td>[0, 0, 0, 0, 0, 1, 1, 1, 1]</td>\n",
       "      <td>informal</td>\n",
       "      <td>[NOUN, ADV, VERB, PUNCT]</td>\n",
       "      <td>[ncn, ncn+jca, pvg+ep+ef, sf]</td>\n",
       "      <td>[웰빙, 마트로, 갔어, ?]</td>\n",
       "      <td>[0, 0, 0, 0]</td>\n",
       "      <td>haeche</td>\n",
       "    </tr>\n",
       "    <tr>\n",
       "      <th>8</th>\n",
       "      <td>OpenSubtitles-v2018\\tdeu\\tkor_Hang</td>\n",
       "      <td>Ich weiß, du hast gesagt, dass du dich nicht e...</td>\n",
       "      <td>니가 불안해하는 게 아니라고 했었지</td>\n",
       "      <td>[PRON, VERB, PUNCT, PRON, AUX, VERB, PUNCT, SC...</td>\n",
       "      <td>[PPER, VVFIN, $,, PPER, VAFIN, VVPP, $,, KOUS,...</td>\n",
       "      <td>[Ich, weiß, ,, du, hast, gesagt, ,, dass, du, ...</td>\n",
       "      <td>[0, 0, 0, 0, 0, 0, 0, 0, 0, 0, 0, 0, 0, 0]</td>\n",
       "      <td>informal</td>\n",
       "      <td>[PROPN, VERB, NOUN, VERB, SCONJ]</td>\n",
       "      <td>[nq+jcs, pvg+etm, nbn+jcc, paa+ef+jcr, pvg+ep+...</td>\n",
       "      <td>[니가, 불안해하는, 게, 아니라고, 했었지]</td>\n",
       "      <td>[0, 0, 0, 0, 0]</td>\n",
       "      <td>haeche</td>\n",
       "    </tr>\n",
       "    <tr>\n",
       "      <th>9</th>\n",
       "      <td>OpenSubtitles-v2018\\tdeu\\tkor_Hang</td>\n",
       "      <td>\"und führst ein anständiges Leben...</td>\n",
       "      <td>이제껏 그랬던 것처럼</td>\n",
       "      <td>[PUNCT, CCONJ, VERB, DET, ADJ, NOUN, PUNCT]</td>\n",
       "      <td>[$(, KON, VVFIN, ART, ADJA, NN, $(]</td>\n",
       "      <td>[\", und, führst, ein, anständiges, Leben, ...]</td>\n",
       "      <td>[0, 1, 1, 1, 1, 1, 1]</td>\n",
       "      <td>underspecified</td>\n",
       "      <td>[ADV, VERB, ADV]</td>\n",
       "      <td>[mag, pvg+ep+etm, nbn+jca]</td>\n",
       "      <td>[이제껏, 그랬던, 것처럼]</td>\n",
       "      <td>[0, 0, 0]</td>\n",
       "      <td>haerache</td>\n",
       "    </tr>\n",
       "  </tbody>\n",
       "</table>\n",
       "</div>"
      ],
      "text/plain": [
       "                                   id  \\\n",
       "0  OpenSubtitles-v2018\\tdeu\\tkor_Hang   \n",
       "1  OpenSubtitles-v2018\\tdeu\\tkor_Hang   \n",
       "2  OpenSubtitles-v2018\\tdeu\\tkor_Hang   \n",
       "3  OpenSubtitles-v2018\\tdeu\\tkor_Hang   \n",
       "4  OpenSubtitles-v2018\\tdeu\\tkor_Hang   \n",
       "5  OpenSubtitles-v2018\\tdeu\\tkor_Hang   \n",
       "6  OpenSubtitles-v2018\\tdeu\\tkor_Hang   \n",
       "7  OpenSubtitles-v2018\\tdeu\\tkor_Hang   \n",
       "8  OpenSubtitles-v2018\\tdeu\\tkor_Hang   \n",
       "9  OpenSubtitles-v2018\\tdeu\\tkor_Hang   \n",
       "\n",
       "                                              source  \\\n",
       "0  Weil ... du sie sehr geliebt hast und sie dir ...   \n",
       "1  Carol, hier ist Vincent. Sag nichts. Hör bloß zu.   \n",
       "2                                          Yay! Yay!   \n",
       "3  Sie müssen mir helfen. Ich brauche Ihre Hilfe....   \n",
       "4        Wir müssen herausfinden, wo die Tests sind.   \n",
       "5                 Denken Sie, wir können ihr helfen?   \n",
       "6  Du bist nicht alleine. Dieser Raum ist zum Beten.   \n",
       "7            Was hast du gekauft? Einen Haufen Zeug.   \n",
       "8  Ich weiß, du hast gesagt, dass du dich nicht e...   \n",
       "9               \"und führst ein anständiges Leben...   \n",
       "\n",
       "                               target  \\\n",
       "0      당신이... 할머닐 너무 사랑하고 그리워했기 때문에요?   \n",
       "1                캐럴, 나야 빈센트 말하지 말고 들어   \n",
       "2                              만번째세요!   \n",
       "3                       나도 그러고는 싶네만..   \n",
       "4  어디로 가려는 거야? 시험 결과를 보관해 놓은 곳을 찾아야 해   \n",
       "5                      우리가 도울 수 있을까요?   \n",
       "6                     가자 아가야 넌 혼자가 아냐   \n",
       "7                          웰빙 마트로 갔어?   \n",
       "8                 니가 불안해하는 게 아니라고 했었지   \n",
       "9                         이제껏 그랬던 것처럼   \n",
       "\n",
       "                                    upos_tags_source  \\\n",
       "0  [SCONJ, PUNCT, PRON, PRON, ADV, VERB, AUX, CCO...   \n",
       "1  [PROPN, PUNCT, ADV, AUX, PROPN, PUNCT, VERB, P...   \n",
       "2                       [PROPN, PUNCT, PROPN, PUNCT]   \n",
       "3  [PRON, AUX, PRON, VERB, PUNCT, PRON, VERB, DET...   \n",
       "4  [PRON, AUX, VERB, PUNCT, SCONJ, DET, NOUN, AUX...   \n",
       "5  [VERB, PRON, PUNCT, PRON, AUX, PRON, VERB, PUNCT]   \n",
       "6  [PRON, AUX, PART, ADV, PUNCT, DET, NOUN, AUX, ...   \n",
       "7  [PRON, AUX, PRON, VERB, PUNCT, DET, NOUN, NOUN...   \n",
       "8  [PRON, VERB, PUNCT, PRON, AUX, VERB, PUNCT, SC...   \n",
       "9        [PUNCT, CCONJ, VERB, DET, ADJ, NOUN, PUNCT]   \n",
       "\n",
       "                                     pos_tags_source  \\\n",
       "0  [KOUS, $(, PPER, PPER, ADV, VVPP, VAFIN, KON, ...   \n",
       "1  [NE, $,, ADV, VAFIN, NE, $., VVIMP, PIS, $., V...   \n",
       "2                                   [NE, $., NE, $.]   \n",
       "3  [PPER, VMFIN, PPER, VVINF, $., PPER, VVFIN, PP...   \n",
       "4  [PPER, VMFIN, VVINF, $,, PWAV, ART, NN, VAFIN,...   \n",
       "5    [VVFIN, PPER, $,, PPER, VMFIN, PPER, VVINF, $.]   \n",
       "6  [PPER, VAFIN, PTKNEG, ADV, $., PDAT, NN, VAFIN...   \n",
       "7      [PWS, VAFIN, PPER, VVPP, $., ART, NN, NN, $.]   \n",
       "8  [PPER, VVFIN, $,, PPER, VAFIN, VVPP, $,, KOUS,...   \n",
       "9                [$(, KON, VVFIN, ART, ADJA, NN, $(]   \n",
       "\n",
       "                                    ws_tokens_source  \\\n",
       "0  [Weil, ..., du, sie, sehr, geliebt, hast, und,...   \n",
       "1  [Carol, ,, hier, ist, Vincent, ., Sag, nichts,...   \n",
       "2                                   [Yay, !, Yay, !]   \n",
       "3  [Sie, müssen, mir, helfen, ., Ich, brauche, Ih...   \n",
       "4  [Wir, müssen, herausfinden, ,, wo, die, Tests,...   \n",
       "5      [Denken, Sie, ,, wir, können, ihr, helfen, ?]   \n",
       "6  [Du, bist, nicht, alleine, ., Dieser, Raum, is...   \n",
       "7  [Was, hast, du, gekauft, ?, Einen, Haufen, Zeu...   \n",
       "8  [Ich, weiß, ,, du, hast, gesagt, ,, dass, du, ...   \n",
       "9     [\", und, führst, ein, anständiges, Leben, ...]   \n",
       "\n",
       "                              sent_ids_source    de_formality  \\\n",
       "0     [0, 0, 0, 0, 0, 0, 0, 0, 0, 0, 0, 0, 0]        informal   \n",
       "1     [0, 0, 0, 0, 0, 0, 1, 1, 1, 2, 2, 2, 2]  underspecified   \n",
       "2                                [0, 0, 1, 1]  underspecified   \n",
       "3     [0, 0, 0, 0, 0, 1, 1, 1, 1, 1, 2, 3, 3]          formal   \n",
       "4                 [0, 0, 0, 0, 0, 0, 0, 0, 0]  underspecified   \n",
       "5                    [0, 0, 0, 0, 0, 0, 0, 0]          formal   \n",
       "6           [0, 0, 0, 0, 0, 1, 1, 1, 1, 1, 1]        informal   \n",
       "7                 [0, 0, 0, 0, 0, 1, 1, 1, 1]        informal   \n",
       "8  [0, 0, 0, 0, 0, 0, 0, 0, 0, 0, 0, 0, 0, 0]        informal   \n",
       "9                       [0, 1, 1, 1, 1, 1, 1]  underspecified   \n",
       "\n",
       "                                    upos_tags_target  \\\n",
       "0  [PRON, PUNCT, VERB, ADV, CCONJ, AUX, VERB, PUNCT]   \n",
       "1      [NOUN, PUNCT, ADV, PROPN, VERB, CCONJ, SCONJ]   \n",
       "2                                      [VERB, PUNCT]   \n",
       "3                             [ADV, NOUN, ADV, VERB]   \n",
       "4  [ADV, VERB, VERB, PUNCT, NOUN, NOUN, VERB, AUX...   \n",
       "5                    [PRON, VERB, NOUN, VERB, PUNCT]   \n",
       "6                    [SCONJ, ADV, PRON, NOUN, SCONJ]   \n",
       "7                           [NOUN, ADV, VERB, PUNCT]   \n",
       "8                   [PROPN, VERB, NOUN, VERB, SCONJ]   \n",
       "9                                   [ADV, VERB, ADV]   \n",
       "\n",
       "                                     pos_tags_target  \\\n",
       "0  [npp+jcs, sf, pvg+etm, mag, ncpa+xsv+ecc, px+e...   \n",
       "1   [ncn, sp, npp+jca, nq, pvg+ecx, px+ecc, pvg+ecs]   \n",
       "2                                    [ncn+jp+ef, sf]   \n",
       "3            [npp+jxc, mag+jxt, paa+etn+jxc, pvg+ef]   \n",
       "4  [npd+jca, pvg+etm, nbn+jp+ef, sf, ncpa, ncn+jc...   \n",
       "5            [npp+jcs, pvg+etm, nbn, paa+ef+jxf, sf]   \n",
       "6            [pvg+ecs, nq, npp+jxt, ncn+jcc, paa+ef]   \n",
       "7                      [ncn, ncn+jca, pvg+ep+ef, sf]   \n",
       "8  [nq+jcs, pvg+etm, nbn+jcc, paa+ef+jcr, pvg+ep+...   \n",
       "9                         [mag, pvg+ep+etm, nbn+jca]   \n",
       "\n",
       "                                  ws_tokens_target  \\\n",
       "0        [당신이, ..., 할머닐, 너무, 사랑하고, 그리워했기, 때문에요, ?]   \n",
       "1                    [캐럴, ,, 나야, 빈센트, 말하지, 말고, 들어]   \n",
       "2                                       [만번째세요, !]   \n",
       "3                              [나도, 그러고는, 싶네만, ..]   \n",
       "4  [어디로, 가려는, 거야, ?, 시험, 결과를, 보관해, 놓은, 곳을, 찾아야, 해]   \n",
       "5                            [우리가, 도울, 수, 있을까요, ?]   \n",
       "6                            [가자, 아가야, 넌, 혼자가, 아냐]   \n",
       "7                                 [웰빙, 마트로, 갔어, ?]   \n",
       "8                        [니가, 불안해하는, 게, 아니라고, 했었지]   \n",
       "9                                  [이제껏, 그랬던, 것처럼]   \n",
       "\n",
       "                     sent_ids_target    ko_formality  \n",
       "0           [0, 0, 0, 0, 0, 0, 0, 0]  underspecified  \n",
       "1              [0, 0, 0, 0, 0, 0, 0]          haeche  \n",
       "2                             [0, 0]  underspecified  \n",
       "3                       [0, 0, 0, 0]  underspecified  \n",
       "4  [0, 0, 0, 0, 1, 1, 1, 1, 1, 1, 1]          haeche  \n",
       "5                    [0, 0, 0, 0, 0]         hayoche  \n",
       "6                    [0, 0, 0, 0, 0]        haerache  \n",
       "7                       [0, 0, 0, 0]          haeche  \n",
       "8                    [0, 0, 0, 0, 0]          haeche  \n",
       "9                          [0, 0, 0]        haerache  "
      ]
     },
     "execution_count": 13,
     "metadata": {},
     "output_type": "execute_result"
    }
   ],
   "source": [
    "dat.head(10)"
   ]
  },
  {
   "cell_type": "code",
   "execution_count": 14,
   "metadata": {
    "tags": []
   },
   "outputs": [],
   "source": [
    "amb_dat = dat[dat[\"ko_formality\"].str.match(\"underspecified\")]"
   ]
  },
  {
   "cell_type": "code",
   "execution_count": 16,
   "metadata": {
    "tags": []
   },
   "outputs": [],
   "source": [
    "amb_dat[[\"pos_tags_target\", \"upos_tags_target\",\"ws_tokens_target\",\"target\"]].head(100).to_csv(\"ambiguity.csv\")"
   ]
  }
 ],
 "metadata": {
  "kernelspec": {
   "display_name": "Python 3 (ipykernel)",
   "language": "python",
   "name": "python3"
  },
  "language_info": {
   "codemirror_mode": {
    "name": "ipython",
    "version": 3
   },
   "file_extension": ".py",
   "mimetype": "text/x-python",
   "name": "python",
   "nbconvert_exporter": "python",
   "pygments_lexer": "ipython3",
   "version": "3.10.9"
  },
  "vscode": {
   "interpreter": {
    "hash": "9ea2b68fb3360e02997fb42a3e126fee4f6f46a4333cd08cb463da23fd84daeb"
   }
  }
 },
 "nbformat": 4,
 "nbformat_minor": 4
}
