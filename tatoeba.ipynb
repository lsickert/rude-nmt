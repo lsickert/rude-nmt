{
 "cells": [
  {
   "cell_type": "markdown",
   "metadata": {},
   "source": [
    "# Exploring the German-Korean Tatoeba dataset\n",
    "[Github](https://github.com/Helsinki-NLP/Tatoeba-Challenge)\n",
    "\n",
    "[Huggingface](https://huggingface.co/datasets/Helsinki-NLP/tatoeba_mt)"
   ]
  },
  {
   "cell_type": "code",
   "execution_count": 1,
   "metadata": {},
   "outputs": [
    {
     "name": "stderr",
     "output_type": "stream",
     "text": [
      "/Users/lsickert/Repositories/rude-nmt/.venv/lib/python3.10/site-packages/tqdm/auto.py:22: TqdmWarning: IProgress not found. Please update jupyter and ipywidgets. See https://ipywidgets.readthedocs.io/en/stable/user_install.html\n",
      "  from .autonotebook import tqdm as notebook_tqdm\n"
     ]
    }
   ],
   "source": [
    "from tatoeba import preprocess, analysis\n",
    "from rude_nmt import label_german, label_korean\n",
    "import re"
   ]
  },
  {
   "cell_type": "code",
   "execution_count": 2,
   "metadata": {},
   "outputs": [
    {
     "name": "stderr",
     "output_type": "stream",
     "text": [
      "Using custom data configuration data-161199d54979d516\n",
      "Found cached dataset csv (/Users/lsickert/.cache/huggingface/datasets/csv/data-161199d54979d516/0.0.0/6b34fb8fcf56f7c8ba51dc895bfa2bfbe43546f190a60fcf74bb5e8afdcc2317)\n",
      "100%|██████████| 3/3 [00:01<00:00,  1.63it/s]\n",
      "Loading cached processed dataset at /Users/lsickert/.cache/huggingface/datasets/csv/data-161199d54979d516/0.0.0/6b34fb8fcf56f7c8ba51dc895bfa2bfbe43546f190a60fcf74bb5e8afdcc2317/cache-6671f2b1d0abda16_00000_of_00008.arrow\n",
      "Loading cached processed dataset at /Users/lsickert/.cache/huggingface/datasets/csv/data-161199d54979d516/0.0.0/6b34fb8fcf56f7c8ba51dc895bfa2bfbe43546f190a60fcf74bb5e8afdcc2317/cache-6671f2b1d0abda16_00001_of_00008.arrow\n",
      "Loading cached processed dataset at /Users/lsickert/.cache/huggingface/datasets/csv/data-161199d54979d516/0.0.0/6b34fb8fcf56f7c8ba51dc895bfa2bfbe43546f190a60fcf74bb5e8afdcc2317/cache-6671f2b1d0abda16_00002_of_00008.arrow\n",
      "Loading cached processed dataset at /Users/lsickert/.cache/huggingface/datasets/csv/data-161199d54979d516/0.0.0/6b34fb8fcf56f7c8ba51dc895bfa2bfbe43546f190a60fcf74bb5e8afdcc2317/cache-6671f2b1d0abda16_00003_of_00008.arrow\n",
      "Loading cached processed dataset at /Users/lsickert/.cache/huggingface/datasets/csv/data-161199d54979d516/0.0.0/6b34fb8fcf56f7c8ba51dc895bfa2bfbe43546f190a60fcf74bb5e8afdcc2317/cache-6671f2b1d0abda16_00004_of_00008.arrow\n",
      "Loading cached processed dataset at /Users/lsickert/.cache/huggingface/datasets/csv/data-161199d54979d516/0.0.0/6b34fb8fcf56f7c8ba51dc895bfa2bfbe43546f190a60fcf74bb5e8afdcc2317/cache-6671f2b1d0abda16_00005_of_00008.arrow\n",
      "Loading cached processed dataset at /Users/lsickert/.cache/huggingface/datasets/csv/data-161199d54979d516/0.0.0/6b34fb8fcf56f7c8ba51dc895bfa2bfbe43546f190a60fcf74bb5e8afdcc2317/cache-6671f2b1d0abda16_00006_of_00008.arrow\n",
      "Loading cached processed dataset at /Users/lsickert/.cache/huggingface/datasets/csv/data-161199d54979d516/0.0.0/6b34fb8fcf56f7c8ba51dc895bfa2bfbe43546f190a60fcf74bb5e8afdcc2317/cache-6671f2b1d0abda16_00007_of_00008.arrow\n",
      "Loading cached processed dataset at /Users/lsickert/.cache/huggingface/datasets/csv/data-161199d54979d516/0.0.0/6b34fb8fcf56f7c8ba51dc895bfa2bfbe43546f190a60fcf74bb5e8afdcc2317/cache-270bfc9dde41ba9f_00000_of_00008.arrow\n",
      "Loading cached processed dataset at /Users/lsickert/.cache/huggingface/datasets/csv/data-161199d54979d516/0.0.0/6b34fb8fcf56f7c8ba51dc895bfa2bfbe43546f190a60fcf74bb5e8afdcc2317/cache-270bfc9dde41ba9f_00001_of_00008.arrow\n",
      "Loading cached processed dataset at /Users/lsickert/.cache/huggingface/datasets/csv/data-161199d54979d516/0.0.0/6b34fb8fcf56f7c8ba51dc895bfa2bfbe43546f190a60fcf74bb5e8afdcc2317/cache-270bfc9dde41ba9f_00002_of_00008.arrow\n",
      "Loading cached processed dataset at /Users/lsickert/.cache/huggingface/datasets/csv/data-161199d54979d516/0.0.0/6b34fb8fcf56f7c8ba51dc895bfa2bfbe43546f190a60fcf74bb5e8afdcc2317/cache-270bfc9dde41ba9f_00003_of_00008.arrow\n",
      "Loading cached processed dataset at /Users/lsickert/.cache/huggingface/datasets/csv/data-161199d54979d516/0.0.0/6b34fb8fcf56f7c8ba51dc895bfa2bfbe43546f190a60fcf74bb5e8afdcc2317/cache-270bfc9dde41ba9f_00004_of_00008.arrow\n",
      "Loading cached processed dataset at /Users/lsickert/.cache/huggingface/datasets/csv/data-161199d54979d516/0.0.0/6b34fb8fcf56f7c8ba51dc895bfa2bfbe43546f190a60fcf74bb5e8afdcc2317/cache-270bfc9dde41ba9f_00005_of_00008.arrow\n",
      "Loading cached processed dataset at /Users/lsickert/.cache/huggingface/datasets/csv/data-161199d54979d516/0.0.0/6b34fb8fcf56f7c8ba51dc895bfa2bfbe43546f190a60fcf74bb5e8afdcc2317/cache-270bfc9dde41ba9f_00006_of_00008.arrow\n",
      "Loading cached processed dataset at /Users/lsickert/.cache/huggingface/datasets/csv/data-161199d54979d516/0.0.0/6b34fb8fcf56f7c8ba51dc895bfa2bfbe43546f190a60fcf74bb5e8afdcc2317/cache-270bfc9dde41ba9f_00007_of_00008.arrow\n",
      "Loading cached processed dataset at /Users/lsickert/.cache/huggingface/datasets/csv/data-161199d54979d516/0.0.0/6b34fb8fcf56f7c8ba51dc895bfa2bfbe43546f190a60fcf74bb5e8afdcc2317/cache-364d96e0fecea631_00000_of_00008.arrow\n",
      "Loading cached processed dataset at /Users/lsickert/.cache/huggingface/datasets/csv/data-161199d54979d516/0.0.0/6b34fb8fcf56f7c8ba51dc895bfa2bfbe43546f190a60fcf74bb5e8afdcc2317/cache-364d96e0fecea631_00001_of_00008.arrow\n",
      "Loading cached processed dataset at /Users/lsickert/.cache/huggingface/datasets/csv/data-161199d54979d516/0.0.0/6b34fb8fcf56f7c8ba51dc895bfa2bfbe43546f190a60fcf74bb5e8afdcc2317/cache-364d96e0fecea631_00002_of_00008.arrow\n",
      "Loading cached processed dataset at /Users/lsickert/.cache/huggingface/datasets/csv/data-161199d54979d516/0.0.0/6b34fb8fcf56f7c8ba51dc895bfa2bfbe43546f190a60fcf74bb5e8afdcc2317/cache-364d96e0fecea631_00003_of_00008.arrow\n",
      "Loading cached processed dataset at /Users/lsickert/.cache/huggingface/datasets/csv/data-161199d54979d516/0.0.0/6b34fb8fcf56f7c8ba51dc895bfa2bfbe43546f190a60fcf74bb5e8afdcc2317/cache-364d96e0fecea631_00004_of_00008.arrow\n",
      "Loading cached processed dataset at /Users/lsickert/.cache/huggingface/datasets/csv/data-161199d54979d516/0.0.0/6b34fb8fcf56f7c8ba51dc895bfa2bfbe43546f190a60fcf74bb5e8afdcc2317/cache-364d96e0fecea631_00005_of_00008.arrow\n",
      "Loading cached processed dataset at /Users/lsickert/.cache/huggingface/datasets/csv/data-161199d54979d516/0.0.0/6b34fb8fcf56f7c8ba51dc895bfa2bfbe43546f190a60fcf74bb5e8afdcc2317/cache-364d96e0fecea631_00006_of_00008.arrow\n",
      "Loading cached processed dataset at /Users/lsickert/.cache/huggingface/datasets/csv/data-161199d54979d516/0.0.0/6b34fb8fcf56f7c8ba51dc895bfa2bfbe43546f190a60fcf74bb5e8afdcc2317/cache-364d96e0fecea631_00007_of_00008.arrow\n",
      "Loading cached processed dataset at /Users/lsickert/.cache/huggingface/datasets/csv/data-161199d54979d516/0.0.0/6b34fb8fcf56f7c8ba51dc895bfa2bfbe43546f190a60fcf74bb5e8afdcc2317/cache-6e575dbbff58af0a_00000_of_00008.arrow\n",
      "Loading cached processed dataset at /Users/lsickert/.cache/huggingface/datasets/csv/data-161199d54979d516/0.0.0/6b34fb8fcf56f7c8ba51dc895bfa2bfbe43546f190a60fcf74bb5e8afdcc2317/cache-6e575dbbff58af0a_00001_of_00008.arrow\n",
      "Loading cached processed dataset at /Users/lsickert/.cache/huggingface/datasets/csv/data-161199d54979d516/0.0.0/6b34fb8fcf56f7c8ba51dc895bfa2bfbe43546f190a60fcf74bb5e8afdcc2317/cache-6e575dbbff58af0a_00002_of_00008.arrow\n",
      "Loading cached processed dataset at /Users/lsickert/.cache/huggingface/datasets/csv/data-161199d54979d516/0.0.0/6b34fb8fcf56f7c8ba51dc895bfa2bfbe43546f190a60fcf74bb5e8afdcc2317/cache-6e575dbbff58af0a_00003_of_00008.arrow\n",
      "Loading cached processed dataset at /Users/lsickert/.cache/huggingface/datasets/csv/data-161199d54979d516/0.0.0/6b34fb8fcf56f7c8ba51dc895bfa2bfbe43546f190a60fcf74bb5e8afdcc2317/cache-6e575dbbff58af0a_00004_of_00008.arrow\n",
      "Loading cached processed dataset at /Users/lsickert/.cache/huggingface/datasets/csv/data-161199d54979d516/0.0.0/6b34fb8fcf56f7c8ba51dc895bfa2bfbe43546f190a60fcf74bb5e8afdcc2317/cache-6e575dbbff58af0a_00005_of_00008.arrow\n",
      "Loading cached processed dataset at /Users/lsickert/.cache/huggingface/datasets/csv/data-161199d54979d516/0.0.0/6b34fb8fcf56f7c8ba51dc895bfa2bfbe43546f190a60fcf74bb5e8afdcc2317/cache-6e575dbbff58af0a_00006_of_00008.arrow\n",
      "Loading cached processed dataset at /Users/lsickert/.cache/huggingface/datasets/csv/data-161199d54979d516/0.0.0/6b34fb8fcf56f7c8ba51dc895bfa2bfbe43546f190a60fcf74bb5e8afdcc2317/cache-6e575dbbff58af0a_00007_of_00008.arrow\n",
      "Loading cached processed dataset at /Users/lsickert/.cache/huggingface/datasets/csv/data-161199d54979d516/0.0.0/6b34fb8fcf56f7c8ba51dc895bfa2bfbe43546f190a60fcf74bb5e8afdcc2317/cache-c0bb72c0c23f7c29.arrow\n",
      "Loading cached processed dataset at /Users/lsickert/.cache/huggingface/datasets/csv/data-161199d54979d516/0.0.0/6b34fb8fcf56f7c8ba51dc895bfa2bfbe43546f190a60fcf74bb5e8afdcc2317/cache-c7de5557ec741d24.arrow\n",
      "Loading cached processed dataset at /Users/lsickert/.cache/huggingface/datasets/csv/data-161199d54979d516/0.0.0/6b34fb8fcf56f7c8ba51dc895bfa2bfbe43546f190a60fcf74bb5e8afdcc2317/cache-e9c1c723979cb49e.arrow\n",
      "Loading cached processed dataset at /Users/lsickert/.cache/huggingface/datasets/csv/data-161199d54979d516/0.0.0/6b34fb8fcf56f7c8ba51dc895bfa2bfbe43546f190a60fcf74bb5e8afdcc2317/cache-fe9eef393b4c5083.arrow\n",
      "Loading cached processed dataset at /Users/lsickert/.cache/huggingface/datasets/csv/data-161199d54979d516/0.0.0/6b34fb8fcf56f7c8ba51dc895bfa2bfbe43546f190a60fcf74bb5e8afdcc2317/cache-a83579543c0eb7c1.arrow\n",
      "Loading cached processed dataset at /Users/lsickert/.cache/huggingface/datasets/csv/data-161199d54979d516/0.0.0/6b34fb8fcf56f7c8ba51dc895bfa2bfbe43546f190a60fcf74bb5e8afdcc2317/cache-f1ccaeed7126e558.arrow\n",
      "Loading cached processed dataset at /Users/lsickert/.cache/huggingface/datasets/csv/data-161199d54979d516/0.0.0/6b34fb8fcf56f7c8ba51dc895bfa2bfbe43546f190a60fcf74bb5e8afdcc2317/cache-8f2cb2a928083449.arrow\n",
      "Loading cached processed dataset at /Users/lsickert/.cache/huggingface/datasets/csv/data-161199d54979d516/0.0.0/6b34fb8fcf56f7c8ba51dc895bfa2bfbe43546f190a60fcf74bb5e8afdcc2317/cache-7a2d85a24517ac8f.arrow\n",
      "                                                                                                    \r"
     ]
    }
   ],
   "source": [
    "subtitle_data = preprocess.get_subtitle_dataset(force_renew=True)"
   ]
  },
  {
   "cell_type": "code",
   "execution_count": 3,
   "metadata": {},
   "outputs": [
    {
     "name": "stdout",
     "output_type": "stream",
     "text": [
      "Dataset({\n",
      "    features: ['id', 'source', 'target'],\n",
      "    num_rows: 996525\n",
      "})\n"
     ]
    }
   ],
   "source": [
    "len(subtitle_data)\n",
    "print(subtitle_data)\n"
   ]
  },
  {
   "cell_type": "code",
   "execution_count": 4,
   "metadata": {},
   "outputs": [
    {
     "name": "stderr",
     "output_type": "stream",
     "text": [
      "Loading cached processed dataset at /Users/lsickert/.cache/huggingface/datasets/csv/data-161199d54979d516/0.0.0/6b34fb8fcf56f7c8ba51dc895bfa2bfbe43546f190a60fcf74bb5e8afdcc2317/cache-90e96cc3a2cec8e0.arrow\n",
      "  0%|          | 1289/996525 [00:00<01:10, 14167.64ex/s]\n"
     ]
    },
    {
     "ename": "TypeError",
     "evalue": "cannot unpack non-iterable NoneType object",
     "output_type": "error",
     "traceback": [
      "\u001b[0;31m---------------------------------------------------------------------------\u001b[0m",
      "\u001b[0;31mTypeError\u001b[0m                                 Traceback (most recent call last)",
      "Cell \u001b[0;32mIn[4], line 2\u001b[0m\n\u001b[1;32m      1\u001b[0m subtitle_data \u001b[39m=\u001b[39m subtitle_data\u001b[39m.\u001b[39mmap(label_german\u001b[39m.\u001b[39mannotate_formality)\n\u001b[0;32m----> 2\u001b[0m subtitle_data \u001b[39m=\u001b[39m subtitle_data\u001b[39m.\u001b[39;49mmap(label_korean\u001b[39m.\u001b[39;49mannotate_formality)\n",
      "File \u001b[0;32m~/Repositories/rude-nmt/.venv/lib/python3.10/site-packages/datasets/arrow_dataset.py:2815\u001b[0m, in \u001b[0;36mDataset.map\u001b[0;34m(self, function, with_indices, with_rank, input_columns, batched, batch_size, drop_last_batch, remove_columns, keep_in_memory, load_from_cache_file, cache_file_name, writer_batch_size, features, disable_nullable, fn_kwargs, num_proc, suffix_template, new_fingerprint, desc)\u001b[0m\n\u001b[1;32m   2812\u001b[0m disable_tqdm \u001b[39m=\u001b[39m \u001b[39mnot\u001b[39;00m logging\u001b[39m.\u001b[39mis_progress_bar_enabled()\n\u001b[1;32m   2814\u001b[0m \u001b[39mif\u001b[39;00m num_proc \u001b[39mis\u001b[39;00m \u001b[39mNone\u001b[39;00m \u001b[39mor\u001b[39;00m num_proc \u001b[39m==\u001b[39m \u001b[39m1\u001b[39m:\n\u001b[0;32m-> 2815\u001b[0m     \u001b[39mreturn\u001b[39;00m \u001b[39mself\u001b[39;49m\u001b[39m.\u001b[39;49m_map_single(\n\u001b[1;32m   2816\u001b[0m         function\u001b[39m=\u001b[39;49mfunction,\n\u001b[1;32m   2817\u001b[0m         with_indices\u001b[39m=\u001b[39;49mwith_indices,\n\u001b[1;32m   2818\u001b[0m         with_rank\u001b[39m=\u001b[39;49mwith_rank,\n\u001b[1;32m   2819\u001b[0m         input_columns\u001b[39m=\u001b[39;49minput_columns,\n\u001b[1;32m   2820\u001b[0m         batched\u001b[39m=\u001b[39;49mbatched,\n\u001b[1;32m   2821\u001b[0m         batch_size\u001b[39m=\u001b[39;49mbatch_size,\n\u001b[1;32m   2822\u001b[0m         drop_last_batch\u001b[39m=\u001b[39;49mdrop_last_batch,\n\u001b[1;32m   2823\u001b[0m         remove_columns\u001b[39m=\u001b[39;49mremove_columns,\n\u001b[1;32m   2824\u001b[0m         keep_in_memory\u001b[39m=\u001b[39;49mkeep_in_memory,\n\u001b[1;32m   2825\u001b[0m         load_from_cache_file\u001b[39m=\u001b[39;49mload_from_cache_file,\n\u001b[1;32m   2826\u001b[0m         cache_file_name\u001b[39m=\u001b[39;49mcache_file_name,\n\u001b[1;32m   2827\u001b[0m         writer_batch_size\u001b[39m=\u001b[39;49mwriter_batch_size,\n\u001b[1;32m   2828\u001b[0m         features\u001b[39m=\u001b[39;49mfeatures,\n\u001b[1;32m   2829\u001b[0m         disable_nullable\u001b[39m=\u001b[39;49mdisable_nullable,\n\u001b[1;32m   2830\u001b[0m         fn_kwargs\u001b[39m=\u001b[39;49mfn_kwargs,\n\u001b[1;32m   2831\u001b[0m         new_fingerprint\u001b[39m=\u001b[39;49mnew_fingerprint,\n\u001b[1;32m   2832\u001b[0m         disable_tqdm\u001b[39m=\u001b[39;49mdisable_tqdm,\n\u001b[1;32m   2833\u001b[0m         desc\u001b[39m=\u001b[39;49mdesc,\n\u001b[1;32m   2834\u001b[0m     )\n\u001b[1;32m   2835\u001b[0m \u001b[39melse\u001b[39;00m:\n\u001b[1;32m   2837\u001b[0m     \u001b[39mdef\u001b[39;00m \u001b[39mformat_cache_file_name\u001b[39m(cache_file_name, rank):\n",
      "File \u001b[0;32m~/Repositories/rude-nmt/.venv/lib/python3.10/site-packages/datasets/arrow_dataset.py:546\u001b[0m, in \u001b[0;36mtransmit_tasks.<locals>.wrapper\u001b[0;34m(*args, **kwargs)\u001b[0m\n\u001b[1;32m    544\u001b[0m     \u001b[39mself\u001b[39m: \u001b[39m\"\u001b[39m\u001b[39mDataset\u001b[39m\u001b[39m\"\u001b[39m \u001b[39m=\u001b[39m kwargs\u001b[39m.\u001b[39mpop(\u001b[39m\"\u001b[39m\u001b[39mself\u001b[39m\u001b[39m\"\u001b[39m)\n\u001b[1;32m    545\u001b[0m \u001b[39m# apply actual function\u001b[39;00m\n\u001b[0;32m--> 546\u001b[0m out: Union[\u001b[39m\"\u001b[39m\u001b[39mDataset\u001b[39m\u001b[39m\"\u001b[39m, \u001b[39m\"\u001b[39m\u001b[39mDatasetDict\u001b[39m\u001b[39m\"\u001b[39m] \u001b[39m=\u001b[39m func(\u001b[39mself\u001b[39;49m, \u001b[39m*\u001b[39;49margs, \u001b[39m*\u001b[39;49m\u001b[39m*\u001b[39;49mkwargs)\n\u001b[1;32m    547\u001b[0m datasets: List[\u001b[39m\"\u001b[39m\u001b[39mDataset\u001b[39m\u001b[39m\"\u001b[39m] \u001b[39m=\u001b[39m \u001b[39mlist\u001b[39m(out\u001b[39m.\u001b[39mvalues()) \u001b[39mif\u001b[39;00m \u001b[39misinstance\u001b[39m(out, \u001b[39mdict\u001b[39m) \u001b[39melse\u001b[39;00m [out]\n\u001b[1;32m    548\u001b[0m \u001b[39mfor\u001b[39;00m dataset \u001b[39min\u001b[39;00m datasets:\n\u001b[1;32m    549\u001b[0m     \u001b[39m# Remove task templates if a column mapping of the template is no longer valid\u001b[39;00m\n",
      "File \u001b[0;32m~/Repositories/rude-nmt/.venv/lib/python3.10/site-packages/datasets/arrow_dataset.py:513\u001b[0m, in \u001b[0;36mtransmit_format.<locals>.wrapper\u001b[0;34m(*args, **kwargs)\u001b[0m\n\u001b[1;32m    506\u001b[0m self_format \u001b[39m=\u001b[39m {\n\u001b[1;32m    507\u001b[0m     \u001b[39m\"\u001b[39m\u001b[39mtype\u001b[39m\u001b[39m\"\u001b[39m: \u001b[39mself\u001b[39m\u001b[39m.\u001b[39m_format_type,\n\u001b[1;32m    508\u001b[0m     \u001b[39m\"\u001b[39m\u001b[39mformat_kwargs\u001b[39m\u001b[39m\"\u001b[39m: \u001b[39mself\u001b[39m\u001b[39m.\u001b[39m_format_kwargs,\n\u001b[1;32m    509\u001b[0m     \u001b[39m\"\u001b[39m\u001b[39mcolumns\u001b[39m\u001b[39m\"\u001b[39m: \u001b[39mself\u001b[39m\u001b[39m.\u001b[39m_format_columns,\n\u001b[1;32m    510\u001b[0m     \u001b[39m\"\u001b[39m\u001b[39moutput_all_columns\u001b[39m\u001b[39m\"\u001b[39m: \u001b[39mself\u001b[39m\u001b[39m.\u001b[39m_output_all_columns,\n\u001b[1;32m    511\u001b[0m }\n\u001b[1;32m    512\u001b[0m \u001b[39m# apply actual function\u001b[39;00m\n\u001b[0;32m--> 513\u001b[0m out: Union[\u001b[39m\"\u001b[39m\u001b[39mDataset\u001b[39m\u001b[39m\"\u001b[39m, \u001b[39m\"\u001b[39m\u001b[39mDatasetDict\u001b[39m\u001b[39m\"\u001b[39m] \u001b[39m=\u001b[39m func(\u001b[39mself\u001b[39;49m, \u001b[39m*\u001b[39;49margs, \u001b[39m*\u001b[39;49m\u001b[39m*\u001b[39;49mkwargs)\n\u001b[1;32m    514\u001b[0m datasets: List[\u001b[39m\"\u001b[39m\u001b[39mDataset\u001b[39m\u001b[39m\"\u001b[39m] \u001b[39m=\u001b[39m \u001b[39mlist\u001b[39m(out\u001b[39m.\u001b[39mvalues()) \u001b[39mif\u001b[39;00m \u001b[39misinstance\u001b[39m(out, \u001b[39mdict\u001b[39m) \u001b[39melse\u001b[39;00m [out]\n\u001b[1;32m    515\u001b[0m \u001b[39m# re-apply format to the output\u001b[39;00m\n",
      "File \u001b[0;32m~/Repositories/rude-nmt/.venv/lib/python3.10/site-packages/datasets/fingerprint.py:480\u001b[0m, in \u001b[0;36mfingerprint_transform.<locals>._fingerprint.<locals>.wrapper\u001b[0;34m(*args, **kwargs)\u001b[0m\n\u001b[1;32m    476\u001b[0m             validate_fingerprint(kwargs[fingerprint_name])\n\u001b[1;32m    478\u001b[0m \u001b[39m# Call actual function\u001b[39;00m\n\u001b[0;32m--> 480\u001b[0m out \u001b[39m=\u001b[39m func(\u001b[39mself\u001b[39;49m, \u001b[39m*\u001b[39;49margs, \u001b[39m*\u001b[39;49m\u001b[39m*\u001b[39;49mkwargs)\n\u001b[1;32m    482\u001b[0m \u001b[39m# Update fingerprint of in-place transforms + update in-place history of transforms\u001b[39;00m\n\u001b[1;32m    484\u001b[0m \u001b[39mif\u001b[39;00m inplace:  \u001b[39m# update after calling func so that the fingerprint doesn't change if the function fails\u001b[39;00m\n",
      "File \u001b[0;32m~/Repositories/rude-nmt/.venv/lib/python3.10/site-packages/datasets/arrow_dataset.py:3221\u001b[0m, in \u001b[0;36mDataset._map_single\u001b[0;34m(self, function, with_indices, with_rank, input_columns, batched, batch_size, drop_last_batch, remove_columns, keep_in_memory, load_from_cache_file, cache_file_name, writer_batch_size, features, disable_nullable, fn_kwargs, new_fingerprint, rank, offset, disable_tqdm, desc, cache_only)\u001b[0m\n\u001b[1;32m   3219\u001b[0m \u001b[39mif\u001b[39;00m \u001b[39mnot\u001b[39;00m batched:\n\u001b[1;32m   3220\u001b[0m     \u001b[39mfor\u001b[39;00m i, example \u001b[39min\u001b[39;00m pbar:\n\u001b[0;32m-> 3221\u001b[0m         example \u001b[39m=\u001b[39m apply_function_on_filtered_inputs(example, i, offset\u001b[39m=\u001b[39;49moffset)\n\u001b[1;32m   3222\u001b[0m         \u001b[39mif\u001b[39;00m update_data:\n\u001b[1;32m   3223\u001b[0m             \u001b[39mif\u001b[39;00m i \u001b[39m==\u001b[39m \u001b[39m0\u001b[39m:\n",
      "File \u001b[0;32m~/Repositories/rude-nmt/.venv/lib/python3.10/site-packages/datasets/arrow_dataset.py:3112\u001b[0m, in \u001b[0;36mDataset._map_single.<locals>.apply_function_on_filtered_inputs\u001b[0;34m(pa_inputs, indices, check_same_num_examples, offset)\u001b[0m\n\u001b[1;32m   3110\u001b[0m \u001b[39mif\u001b[39;00m with_rank:\n\u001b[1;32m   3111\u001b[0m     additional_args \u001b[39m+\u001b[39m\u001b[39m=\u001b[39m (rank,)\n\u001b[0;32m-> 3112\u001b[0m processed_inputs \u001b[39m=\u001b[39m function(\u001b[39m*\u001b[39;49mfn_args, \u001b[39m*\u001b[39;49madditional_args, \u001b[39m*\u001b[39;49m\u001b[39m*\u001b[39;49mfn_kwargs)\n\u001b[1;32m   3113\u001b[0m \u001b[39mif\u001b[39;00m \u001b[39misinstance\u001b[39m(processed_inputs, LazyDict):\n\u001b[1;32m   3114\u001b[0m     processed_inputs \u001b[39m=\u001b[39m {\n\u001b[1;32m   3115\u001b[0m         k: v \u001b[39mfor\u001b[39;00m k, v \u001b[39min\u001b[39;00m processed_inputs\u001b[39m.\u001b[39mdata\u001b[39m.\u001b[39mitems() \u001b[39mif\u001b[39;00m k \u001b[39mnot\u001b[39;00m \u001b[39min\u001b[39;00m processed_inputs\u001b[39m.\u001b[39mkeys_to_format\n\u001b[1;32m   3116\u001b[0m     }\n",
      "File \u001b[0;32m~/Repositories/rude-nmt/rude_nmt/label_korean.py:72\u001b[0m, in \u001b[0;36mannotate_formality\u001b[0;34m(example)\u001b[0m\n\u001b[1;32m     69\u001b[0m \u001b[39mif\u001b[39;00m is_haoche(example[\u001b[39m\"\u001b[39m\u001b[39mtarget\u001b[39m\u001b[39m\"\u001b[39m]):\n\u001b[1;32m     70\u001b[0m     form \u001b[39m=\u001b[39m \u001b[39m\"\u001b[39m\u001b[39mhaoche\u001b[39m\u001b[39m\"\u001b[39m \u001b[39mif\u001b[39;00m form \u001b[39mis\u001b[39;00m \u001b[39mNone\u001b[39;00m \u001b[39melse\u001b[39;00m \u001b[39m\"\u001b[39m\u001b[39mambiguous\u001b[39m\u001b[39m\"\u001b[39m\n\u001b[0;32m---> 72\u001b[0m \u001b[39mif\u001b[39;00m is_hageche(example[\u001b[39m\"\u001b[39;49m\u001b[39mtarget\u001b[39;49m\u001b[39m\"\u001b[39;49m]):\n\u001b[1;32m     73\u001b[0m     form \u001b[39m=\u001b[39m \u001b[39m\"\u001b[39m\u001b[39mhageche\u001b[39m\u001b[39m\"\u001b[39m \u001b[39mif\u001b[39;00m form \u001b[39mis\u001b[39;00m \u001b[39mNone\u001b[39;00m \u001b[39melse\u001b[39;00m \u001b[39m\"\u001b[39m\u001b[39mambiguous\u001b[39m\u001b[39m\"\u001b[39m\n\u001b[1;32m     75\u001b[0m \u001b[39mif\u001b[39;00m is_haerache(example[\u001b[39m\"\u001b[39m\u001b[39mtarget\u001b[39m\u001b[39m\"\u001b[39m]):\n",
      "File \u001b[0;32m~/Repositories/rude-nmt/rude_nmt/label_korean.py:180\u001b[0m, in \u001b[0;36mis_hageche\u001b[0;34m(sent)\u001b[0m\n\u001b[1;32m    178\u001b[0m         \u001b[39mreturn\u001b[39;00m \u001b[39mFalse\u001b[39;00m\n\u001b[1;32m    179\u001b[0m \u001b[39mif\u001b[39;00m match[\u001b[39m\"\u001b[39m\u001b[39mintInd2\u001b[39m\u001b[39m\"\u001b[39m] \u001b[39mis\u001b[39;00m \u001b[39mnot\u001b[39;00m \u001b[39mNone\u001b[39;00m:\n\u001b[0;32m--> 180\u001b[0m     init, med, final \u001b[39m=\u001b[39m separate_syllable(match[\u001b[39m\"\u001b[39m\u001b[39mstem\u001b[39m\u001b[39m\"\u001b[39m][\u001b[39m-\u001b[39m\u001b[39m1\u001b[39m])\n\u001b[1;32m    181\u001b[0m     \u001b[39mif\u001b[39;00m final \u001b[39m==\u001b[39m \u001b[39m\"\u001b[39m\u001b[39mㄴ\u001b[39m\u001b[39m\"\u001b[39m:\n\u001b[1;32m    182\u001b[0m         \u001b[39mreturn\u001b[39;00m \u001b[39mTrue\u001b[39;00m\n",
      "\u001b[0;31mTypeError\u001b[0m: cannot unpack non-iterable NoneType object"
     ]
    }
   ],
   "source": [
    "subtitle_data = subtitle_data.map(label_german.annotate_formality)\n",
    "subtitle_data = subtitle_data.map(label_korean.annotate_formality)"
   ]
  },
  {
   "cell_type": "code",
   "execution_count": null,
   "metadata": {},
   "outputs": [],
   "source": [
    "subtitle_data.to_csv(\"./data/subtitle_data.csv\", num_proc=8)"
   ]
  },
  {
   "cell_type": "code",
   "execution_count": null,
   "metadata": {},
   "outputs": [],
   "source": [
    "one_word_trg = analysis.get_one_word_sentences(subtitle_data)\n",
    "print(one_word_trg)"
   ]
  },
  {
   "cell_type": "code",
   "execution_count": null,
   "metadata": {},
   "outputs": [],
   "source": [
    "dat = subtitle_data.to_pandas()"
   ]
  },
  {
   "cell_type": "code",
   "execution_count": null,
   "metadata": {},
   "outputs": [],
   "source": [
    "dat[\"de_formality\"].value_counts()"
   ]
  }
 ],
 "metadata": {
  "kernelspec": {
   "display_name": ".venv",
   "language": "python",
   "name": "python3"
  },
  "language_info": {
   "codemirror_mode": {
    "name": "ipython",
    "version": 3
   },
   "file_extension": ".py",
   "mimetype": "text/x-python",
   "name": "python",
   "nbconvert_exporter": "python",
   "pygments_lexer": "ipython3",
   "version": "3.10.9"
  },
  "orig_nbformat": 4,
  "vscode": {
   "interpreter": {
    "hash": "9ea2b68fb3360e02997fb42a3e126fee4f6f46a4333cd08cb463da23fd84daeb"
   }
  }
 },
 "nbformat": 4,
 "nbformat_minor": 2
}
