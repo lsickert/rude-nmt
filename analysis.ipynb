{
 "cells": [
  {
   "attachments": {},
   "cell_type": "markdown",
   "metadata": {},
   "source": [
    "# Experiments\n",
    "This notebook contains some of the experiments that were performed for the Master Thesis\n"
   ]
  },
  {
   "cell_type": "code",
   "execution_count": 6,
   "metadata": {},
   "outputs": [],
   "source": [
    "from datasets import load_from_disk, concatenate_datasets\n",
    "from tatoeba import analysis"
   ]
  },
  {
   "attachments": {},
   "cell_type": "markdown",
   "metadata": {},
   "source": [
    "## Merge datasets\n",
    "Due to the large amount of time needed to generate the translations, they are performed for each direction individually. Run the following merge in order to combine the two datasets into one for the remaining analyses if that has not already been done."
   ]
  },
  {
   "cell_type": "code",
   "execution_count": 7,
   "metadata": {},
   "outputs": [],
   "source": [
    "ko_data = load_from_disk(\"./data/tatoeba_de_ko_labelled\")\n",
    "de_data = load_from_disk(\"./data/tatoeba_ko_de_labelled\")"
   ]
  },
  {
   "cell_type": "code",
   "execution_count": 22,
   "metadata": {},
   "outputs": [],
   "source": [
    "remove_cols = [col for col in ko_data.column_names if col in de_data.column_names]\n",
    "disjunct_de = de_data.remove_columns(column_names=remove_cols)\n",
    "merged_data = concatenate_datasets([ko_data, disjunct_de], axis=1)"
   ]
  },
  {
   "cell_type": "code",
   "execution_count": 27,
   "metadata": {},
   "outputs": [
    {
     "data": {
      "application/vnd.jupyter.widget-view+json": {
       "model_id": "599d4fa8050d4d739901c59da8484755",
       "version_major": 2,
       "version_minor": 0
      },
      "text/plain": [
       "Saving the dataset (0/4 shards):   0%|          | 0/996350 [00:00<?, ? examples/s]"
      ]
     },
     "metadata": {},
     "output_type": "display_data"
    }
   ],
   "source": [
    "merged_data.save_to_disk(\"./data/tatoeba_merged\")"
   ]
  },
  {
   "attachments": {},
   "cell_type": "markdown",
   "metadata": {},
   "source": [
    "## Explore Dataset\n",
    "First the dataset is explored to obtain some base level statistics"
   ]
  },
  {
   "cell_type": "code",
   "execution_count": 17,
   "metadata": {},
   "outputs": [],
   "source": [
    "ds = load_from_disk(\"./data/tatoeba_merged\")"
   ]
  },
  {
   "cell_type": "code",
   "execution_count": 18,
   "metadata": {},
   "outputs": [
    {
     "name": "stdout",
     "output_type": "stream",
     "text": [
      "Dataset({\n",
      "    features: ['id', 'source', 'target', 'ko_nmt', 'chrf', 'bleu', 'comet', 'upos_tags_source', 'pos_tags_source', 'ws_tokens_source', 'sent_ids_source', 'de_formality', 'de_formality_map', 'upos_tags_target', 'pos_tags_target', 'ws_tokens_target', 'sent_ids_target', 'upos_tags_ko_nmt', 'pos_tags_ko_nmt', 'ws_tokens_ko_nmt', 'sent_ids_ko_nmt', 'ko_formality', 'ko_formality_map', 'ko_formality_nmt', 'ko_formality_map_nmt', 'de_nmt', 'upos_tags_de_nmt', 'pos_tags_de_nmt', 'ws_tokens_de_nmt', 'sent_ids_de_nmt', 'de_formality_nmt'],\n",
      "    num_rows: 996350\n",
      "})\n"
     ]
    }
   ],
   "source": [
    "print(ds)"
   ]
  }
 ],
 "metadata": {
  "kernelspec": {
   "display_name": ".venv",
   "language": "python",
   "name": "python3"
  },
  "language_info": {
   "codemirror_mode": {
    "name": "ipython",
    "version": 3
   },
   "file_extension": ".py",
   "mimetype": "text/x-python",
   "name": "python",
   "nbconvert_exporter": "python",
   "pygments_lexer": "ipython3",
   "version": "3.10.9"
  },
  "orig_nbformat": 4
 },
 "nbformat": 4,
 "nbformat_minor": 2
}
